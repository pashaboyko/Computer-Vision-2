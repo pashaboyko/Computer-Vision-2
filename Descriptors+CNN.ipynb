{
  "nbformat": 4,
  "nbformat_minor": 0,
  "metadata": {
    "kernelspec": {
      "name": "python3",
      "display_name": "Python 3"
    },
    "language_info": {
      "codemirror_mode": {
        "name": "ipython",
        "version": 3
      },
      "file_extension": ".py",
      "mimetype": "text/x-python",
      "name": "python",
      "nbconvert_exporter": "python",
      "pygments_lexer": "ipython3",
      "version": "3.6.5"
    },
    "colab": {
      "name": "Descriptors+CNN.ipynb",
      "provenance": []
    },
    "accelerator": "GPU"
  },
  "cells": [
    {
      "cell_type": "markdown",
      "metadata": {
        "id": "1aLOkeMz2Sa2",
        "colab_type": "text"
      },
      "source": [
        "# **Без будущего**"
      ]
    },
    {
      "cell_type": "markdown",
      "metadata": {
        "id": "G-ohr7Nu2qqV",
        "colab_type": "text"
      },
      "source": [
        "# Колдунство высокого уровня"
      ]
    },
    {
      "cell_type": "code",
      "metadata": {
        "id": "BBR7zwB_F_eq",
        "colab_type": "code",
        "colab": {
          "base_uri": "https://localhost:8080/",
          "height": 728
        },
        "outputId": "78b8f36a-2328-49d9-edb7-8c02221fa48f"
      },
      "source": [
        "!pip install opencv-python==3.4.2.16\n",
        "!pip install opencv-contrib-python==3.4.2.16\n",
        "!pip install tensorflow-gpu==2.0"
      ],
      "execution_count": 1,
      "outputs": [
        {
          "output_type": "stream",
          "text": [
            "Requirement already satisfied: opencv-python==3.4.2.16 in /usr/local/lib/python3.6/dist-packages (3.4.2.16)\n",
            "Requirement already satisfied: numpy>=1.11.3 in /usr/local/lib/python3.6/dist-packages (from opencv-python==3.4.2.16) (1.17.4)\n",
            "Requirement already satisfied: opencv-contrib-python==3.4.2.16 in /usr/local/lib/python3.6/dist-packages (3.4.2.16)\n",
            "Requirement already satisfied: numpy>=1.11.3 in /usr/local/lib/python3.6/dist-packages (from opencv-contrib-python==3.4.2.16) (1.17.4)\n",
            "Requirement already satisfied: tensorflow-gpu==2.0 in /usr/local/lib/python3.6/dist-packages (2.0.0)\n",
            "Requirement already satisfied: tensorflow-estimator<2.1.0,>=2.0.0 in /usr/local/lib/python3.6/dist-packages (from tensorflow-gpu==2.0) (2.0.1)\n",
            "Requirement already satisfied: numpy<2.0,>=1.16.0 in /usr/local/lib/python3.6/dist-packages (from tensorflow-gpu==2.0) (1.17.4)\n",
            "Requirement already satisfied: protobuf>=3.6.1 in /usr/local/lib/python3.6/dist-packages (from tensorflow-gpu==2.0) (3.10.0)\n",
            "Requirement already satisfied: opt-einsum>=2.3.2 in /usr/local/lib/python3.6/dist-packages (from tensorflow-gpu==2.0) (3.1.0)\n",
            "Requirement already satisfied: grpcio>=1.8.6 in /usr/local/lib/python3.6/dist-packages (from tensorflow-gpu==2.0) (1.15.0)\n",
            "Requirement already satisfied: google-pasta>=0.1.6 in /usr/local/lib/python3.6/dist-packages (from tensorflow-gpu==2.0) (0.1.8)\n",
            "Requirement already satisfied: keras-applications>=1.0.8 in /usr/local/lib/python3.6/dist-packages (from tensorflow-gpu==2.0) (1.0.8)\n",
            "Requirement already satisfied: wrapt>=1.11.1 in /usr/local/lib/python3.6/dist-packages (from tensorflow-gpu==2.0) (1.11.2)\n",
            "Requirement already satisfied: gast==0.2.2 in /usr/local/lib/python3.6/dist-packages (from tensorflow-gpu==2.0) (0.2.2)\n",
            "Requirement already satisfied: keras-preprocessing>=1.0.5 in /usr/local/lib/python3.6/dist-packages (from tensorflow-gpu==2.0) (1.1.0)\n",
            "Requirement already satisfied: astor>=0.6.0 in /usr/local/lib/python3.6/dist-packages (from tensorflow-gpu==2.0) (0.8.1)\n",
            "Requirement already satisfied: six>=1.10.0 in /usr/local/lib/python3.6/dist-packages (from tensorflow-gpu==2.0) (1.12.0)\n",
            "Requirement already satisfied: termcolor>=1.1.0 in /usr/local/lib/python3.6/dist-packages (from tensorflow-gpu==2.0) (1.1.0)\n",
            "Requirement already satisfied: wheel>=0.26 in /usr/local/lib/python3.6/dist-packages (from tensorflow-gpu==2.0) (0.33.6)\n",
            "Requirement already satisfied: tensorboard<2.1.0,>=2.0.0 in /usr/local/lib/python3.6/dist-packages (from tensorflow-gpu==2.0) (2.0.2)\n",
            "Requirement already satisfied: absl-py>=0.7.0 in /usr/local/lib/python3.6/dist-packages (from tensorflow-gpu==2.0) (0.8.1)\n",
            "Requirement already satisfied: setuptools in /usr/local/lib/python3.6/dist-packages (from protobuf>=3.6.1->tensorflow-gpu==2.0) (42.0.2)\n",
            "Requirement already satisfied: h5py in /usr/local/lib/python3.6/dist-packages (from keras-applications>=1.0.8->tensorflow-gpu==2.0) (2.8.0)\n",
            "Requirement already satisfied: markdown>=2.6.8 in /usr/local/lib/python3.6/dist-packages (from tensorboard<2.1.0,>=2.0.0->tensorflow-gpu==2.0) (3.1.1)\n",
            "Requirement already satisfied: requests<3,>=2.21.0 in /usr/local/lib/python3.6/dist-packages (from tensorboard<2.1.0,>=2.0.0->tensorflow-gpu==2.0) (2.21.0)\n",
            "Requirement already satisfied: werkzeug>=0.11.15 in /usr/local/lib/python3.6/dist-packages (from tensorboard<2.1.0,>=2.0.0->tensorflow-gpu==2.0) (0.16.0)\n",
            "Requirement already satisfied: google-auth-oauthlib<0.5,>=0.4.1 in /usr/local/lib/python3.6/dist-packages (from tensorboard<2.1.0,>=2.0.0->tensorflow-gpu==2.0) (0.4.1)\n",
            "Requirement already satisfied: google-auth<2,>=1.6.3 in /usr/local/lib/python3.6/dist-packages (from tensorboard<2.1.0,>=2.0.0->tensorflow-gpu==2.0) (1.10.0)\n",
            "Requirement already satisfied: urllib3<1.25,>=1.21.1 in /usr/local/lib/python3.6/dist-packages (from requests<3,>=2.21.0->tensorboard<2.1.0,>=2.0.0->tensorflow-gpu==2.0) (1.24.3)\n",
            "Requirement already satisfied: idna<2.9,>=2.5 in /usr/local/lib/python3.6/dist-packages (from requests<3,>=2.21.0->tensorboard<2.1.0,>=2.0.0->tensorflow-gpu==2.0) (2.8)\n",
            "Requirement already satisfied: certifi>=2017.4.17 in /usr/local/lib/python3.6/dist-packages (from requests<3,>=2.21.0->tensorboard<2.1.0,>=2.0.0->tensorflow-gpu==2.0) (2019.11.28)\n",
            "Requirement already satisfied: chardet<3.1.0,>=3.0.2 in /usr/local/lib/python3.6/dist-packages (from requests<3,>=2.21.0->tensorboard<2.1.0,>=2.0.0->tensorflow-gpu==2.0) (3.0.4)\n",
            "Requirement already satisfied: requests-oauthlib>=0.7.0 in /usr/local/lib/python3.6/dist-packages (from google-auth-oauthlib<0.5,>=0.4.1->tensorboard<2.1.0,>=2.0.0->tensorflow-gpu==2.0) (1.3.0)\n",
            "Requirement already satisfied: cachetools<5.0,>=2.0.0 in /usr/local/lib/python3.6/dist-packages (from google-auth<2,>=1.6.3->tensorboard<2.1.0,>=2.0.0->tensorflow-gpu==2.0) (3.1.1)\n",
            "Requirement already satisfied: pyasn1-modules>=0.2.1 in /usr/local/lib/python3.6/dist-packages (from google-auth<2,>=1.6.3->tensorboard<2.1.0,>=2.0.0->tensorflow-gpu==2.0) (0.2.7)\n",
            "Requirement already satisfied: rsa<4.1,>=3.1.4 in /usr/local/lib/python3.6/dist-packages (from google-auth<2,>=1.6.3->tensorboard<2.1.0,>=2.0.0->tensorflow-gpu==2.0) (4.0)\n",
            "Requirement already satisfied: oauthlib>=3.0.0 in /usr/local/lib/python3.6/dist-packages (from requests-oauthlib>=0.7.0->google-auth-oauthlib<0.5,>=0.4.1->tensorboard<2.1.0,>=2.0.0->tensorflow-gpu==2.0) (3.1.0)\n",
            "Requirement already satisfied: pyasn1<0.5.0,>=0.4.6 in /usr/local/lib/python3.6/dist-packages (from pyasn1-modules>=0.2.1->google-auth<2,>=1.6.3->tensorboard<2.1.0,>=2.0.0->tensorflow-gpu==2.0) (0.4.8)\n"
          ],
          "name": "stdout"
        }
      ]
    },
    {
      "cell_type": "markdown",
      "metadata": {
        "id": "TPbiCazu2v6T",
        "colab_type": "text"
      },
      "source": [
        "## Библиотеки ставим да дескрипторы указываем"
      ]
    },
    {
      "cell_type": "code",
      "metadata": {
        "id": "O2Udjg0lF3MC",
        "colab_type": "code",
        "colab": {}
      },
      "source": [
        "import sklearn\n",
        "import cv2\n",
        "import pandas as pd\n",
        "import numpy as np"
      ],
      "execution_count": 0,
      "outputs": []
    },
    {
      "cell_type": "code",
      "metadata": {
        "id": "plJcFYYqF3MI",
        "colab_type": "code",
        "colab": {}
      },
      "source": [
        "descriptors={'surf': cv2.xfeatures2d.SURF_create().detect,\n",
        "             'sift': cv2.xfeatures2d.SIFT_create().detect,\n",
        "             'akaze': cv2.AKAZE_create().detect}"
      ],
      "execution_count": 0,
      "outputs": []
    },
    {
      "cell_type": "markdown",
      "metadata": {
        "id": "rSaYedI73QdQ",
        "colab_type": "text"
      },
      "source": [
        "## Данные грузим, знаки дорожные"
      ]
    },
    {
      "cell_type": "code",
      "metadata": {
        "id": "K9LlL6vZIM8S",
        "colab_type": "code",
        "colab": {
          "base_uri": "https://localhost:8080/",
          "height": 35
        },
        "outputId": "294aa2cb-9dbd-4d0f-ec7f-29277e575745"
      },
      "source": [
        "! git clone https://github.com/tupoylogin/CVPR_Lab_2.git"
      ],
      "execution_count": 4,
      "outputs": [
        {
          "output_type": "stream",
          "text": [
            "fatal: destination path 'CVPR_Lab_2' already exists and is not an empty directory.\n"
          ],
          "name": "stdout"
        }
      ]
    },
    {
      "cell_type": "code",
      "metadata": {
        "id": "_DNRX1Z6F3ML",
        "colab_type": "code",
        "colab": {}
      },
      "source": [
        "import os\n",
        "\n",
        "basePath = os.path.join(os.curdir,'CVPR_Lab_2')\n",
        "\n",
        "def load_split(basePath, csvPath):\n",
        "    \n",
        "    from sklearn.utils import shuffle\n",
        "    \n",
        "    # initialize the list of data and labels\n",
        "    data = []\n",
        "    labels = []\n",
        " \n",
        "    # load the contents of the CSV file, remove the first line (since\n",
        "    # it contains the CSV header), and shuffle the rows (otherwise\n",
        "    # all examples of a particular class will be in sequential order)\n",
        "    \n",
        "    rows_df = pd.read_csv(csvPath)[['ClassId','Path']]\n",
        "    \n",
        "    # loop over the rows of the CSV file\n",
        "    for row in rows_df.values:\n",
        "        # check to see if we should show a status update\n",
        "        (label, imagePath) = row[0], row[1]\n",
        " \n",
        "        # derive the full path to the image file and load it\n",
        "        imagePath = os.path.sep.join([basePath, imagePath])\n",
        "        image = cv2.imread(imagePath)\n",
        "         # resize the image to be 64x64 pixels, ignoring aspect ratio,\n",
        "        image = cv2.resize(image, (32, 32), interpolation=cv2.INTER_AREA)\n",
        "        #image = cv2.cvtColor(image, cv2.COLOR_BGR2RGB)        \n",
        "        img_yuv = cv2.cvtColor(image, cv2.COLOR_BGR2YUV)\n",
        "        # and then perform Histogram Equalization\n",
        "        clahe = cv2.createCLAHE(clipLimit=0.1)\n",
        "        img_yuv[:,:,0] = clahe.apply(img_yuv[:,:,0])\n",
        "        #img_yuv[:,:,0] = cv2.equalizeHist(img_yuv[:,:,0])\n",
        "        # convert the YUV image back to RGB format\n",
        "        image = cv2.cvtColor(img_yuv, cv2.COLOR_YUV2RGB)\n",
        "       \n",
        "        \n",
        "        \n",
        "        # update the list of data and labels, respectively\n",
        "        data.append(image)\n",
        "        labels.append(int(label))\n",
        " \n",
        "    # convert the data and labels to NumPy arrays\n",
        "    data = np.array(data)\n",
        "    \n",
        " \n",
        "    # return a tuple of the data and labels\n",
        "    return rows_df, data"
      ],
      "execution_count": 0,
      "outputs": []
    },
    {
      "cell_type": "code",
      "metadata": {
        "id": "Ipo8Bn4CF3MN",
        "colab_type": "code",
        "colab": {}
      },
      "source": [
        "train, data = load_split(basePath,os.path.join(basePath, 'Train.csv'))"
      ],
      "execution_count": 0,
      "outputs": []
    },
    {
      "cell_type": "code",
      "metadata": {
        "id": "hp257U99F3MQ",
        "colab_type": "code",
        "colab": {
          "base_uri": "https://localhost:8080/",
          "height": 198
        },
        "outputId": "3ebdfb48-098d-4b22-a9a1-e63b8f307461"
      },
      "source": [
        "train.head(5)"
      ],
      "execution_count": 7,
      "outputs": [
        {
          "output_type": "execute_result",
          "data": {
            "text/html": [
              "<div>\n",
              "<style scoped>\n",
              "    .dataframe tbody tr th:only-of-type {\n",
              "        vertical-align: middle;\n",
              "    }\n",
              "\n",
              "    .dataframe tbody tr th {\n",
              "        vertical-align: top;\n",
              "    }\n",
              "\n",
              "    .dataframe thead th {\n",
              "        text-align: right;\n",
              "    }\n",
              "</style>\n",
              "<table border=\"1\" class=\"dataframe\">\n",
              "  <thead>\n",
              "    <tr style=\"text-align: right;\">\n",
              "      <th></th>\n",
              "      <th>ClassId</th>\n",
              "      <th>Path</th>\n",
              "    </tr>\n",
              "  </thead>\n",
              "  <tbody>\n",
              "    <tr>\n",
              "      <th>0</th>\n",
              "      <td>20</td>\n",
              "      <td>Train/20/00020_00000_00000.png</td>\n",
              "    </tr>\n",
              "    <tr>\n",
              "      <th>1</th>\n",
              "      <td>20</td>\n",
              "      <td>Train/20/00020_00000_00001.png</td>\n",
              "    </tr>\n",
              "    <tr>\n",
              "      <th>2</th>\n",
              "      <td>20</td>\n",
              "      <td>Train/20/00020_00000_00002.png</td>\n",
              "    </tr>\n",
              "    <tr>\n",
              "      <th>3</th>\n",
              "      <td>20</td>\n",
              "      <td>Train/20/00020_00000_00003.png</td>\n",
              "    </tr>\n",
              "    <tr>\n",
              "      <th>4</th>\n",
              "      <td>20</td>\n",
              "      <td>Train/20/00020_00000_00004.png</td>\n",
              "    </tr>\n",
              "  </tbody>\n",
              "</table>\n",
              "</div>"
            ],
            "text/plain": [
              "   ClassId                            Path\n",
              "0       20  Train/20/00020_00000_00000.png\n",
              "1       20  Train/20/00020_00000_00001.png\n",
              "2       20  Train/20/00020_00000_00002.png\n",
              "3       20  Train/20/00020_00000_00003.png\n",
              "4       20  Train/20/00020_00000_00004.png"
            ]
          },
          "metadata": {
            "tags": []
          },
          "execution_count": 7
        }
      ]
    },
    {
      "cell_type": "code",
      "metadata": {
        "id": "8nBPJoQjF3MT",
        "colab_type": "code",
        "colab": {}
      },
      "source": [
        "%matplotlib inline\n",
        "\n",
        "import matplotlib.pyplot as plt\n",
        "import seaborn as sns"
      ],
      "execution_count": 0,
      "outputs": []
    },
    {
      "cell_type": "markdown",
      "metadata": {
        "id": "HAj2iYOn3dbe",
        "colab_type": "text"
      },
      "source": [
        "### 11 шакалов из 10"
      ]
    },
    {
      "cell_type": "code",
      "metadata": {
        "id": "axYrL0W1F3MW",
        "colab_type": "code",
        "colab": {
          "base_uri": "https://localhost:8080/",
          "height": 788
        },
        "outputId": "e31743e0-a61a-4d1e-d688-d677abf608b6"
      },
      "source": [
        "sns.set()\n",
        "with sns.axes_style({'axes.grid': False}):\n",
        "  for idx in np.random.choice(train.ClassId.shape[0],3):\n",
        "    plt.imshow(data[idx]),plt.show()\n",
        "    plt.figure(idx+1)"
      ],
      "execution_count": 53,
      "outputs": [
        {
          "output_type": "display_data",
          "data": {
            "image/png": "[encoded data removed]",
            "text/plain": [
              "<Figure size 432x288 with 1 Axes>"
            ]
          },
          "metadata": {
            "tags": []
          }
        },
        {
          "output_type": "display_data",
          "data": {
            "image/png": "[encoded data removed]",
            "text/plain": [
              "<Figure size 432x288 with 1 Axes>"
            ]
          },
          "metadata": {
            "tags": []
          }
        },
        {
          "output_type": "display_data",
          "data": {
            "image/png": "[encoded data removed]",
            "text/plain": [
              "<Figure size 432x288 with 1 Axes>"
            ]
          },
          "metadata": {
            "tags": []
          }
        },
        {
          "output_type": "display_data",
          "data": {
            "text/plain": [
              "<Figure size 432x288 with 0 Axes>"
            ]
          },
          "metadata": {
            "tags": []
          }
        }
      ]
    },
    {
      "cell_type": "markdown",
      "metadata": {
        "id": "91mTE5NK3m76",
        "colab_type": "text"
      },
      "source": [
        "## Точки ключевые берем"
      ]
    },
    {
      "cell_type": "code",
      "metadata": {
        "id": "wGFCShR-F3MY",
        "colab_type": "code",
        "colab": {}
      },
      "source": [
        "def get_key_pts(algorithm,img,verbose=False):\n",
        "    gray = cv2.cvtColor(img,cv2.COLOR_RGB2GRAY)\n",
        "    kp = algorithm(gray,None)\n",
        "    return np.array([kp[idx].pt for idx in range(0, len(kp))]).flatten()\n",
        "\n",
        "def to_same_dims(array, dim):\n",
        "  # kp = np.zeros([len(array),len(max(array,key = lambda x: len(x)))])\n",
        "  kp = np.zeros([len(array),dim])\n",
        "  for i,j in enumerate(array):\n",
        "      if len(j)>dim:\n",
        "        kp[i][0:dim] = j[0:dim]\n",
        "      else:\n",
        "        kp[i][0:len(j)] = j\n",
        "  return kp"
      ],
      "execution_count": 0,
      "outputs": []
    },
    {
      "cell_type": "markdown",
      "metadata": {
        "id": "FNNWAubb3uBh",
        "colab_type": "text"
      },
      "source": [
        "## SIFT - наш выбор, ему малые изображения не страшны"
      ]
    },
    {
      "cell_type": "code",
      "metadata": {
        "id": "31o9ig9PF3Mb",
        "colab_type": "code",
        "colab": {}
      },
      "source": [
        "keyp_array_train = []\n",
        "for img in data:\n",
        "    kp = get_key_pts(descriptors['sift'], img)\n",
        "    keyp_array_train.append(kp)\n",
        "\n",
        "keyp_array_train = to_same_dims(keyp_array_train,256)"
      ],
      "execution_count": 0,
      "outputs": []
    },
    {
      "cell_type": "code",
      "metadata": {
        "id": "2HdHwDZ8F3Mn",
        "colab_type": "code",
        "colab": {}
      },
      "source": [
        "test, test_data = load_split(basePath,os.path.join(basePath, 'Test.csv'))\n",
        "\n",
        "keyp_array_test = []\n",
        "for img in test_data:\n",
        "    kp = get_key_pts(descriptors['sift'], img)\n",
        "    keyp_array_test.append(kp)\n",
        "\n",
        "keyp_array_test = to_same_dims(keyp_array_test,256)"
      ],
      "execution_count": 0,
      "outputs": []
    },
    {
      "cell_type": "markdown",
      "metadata": {
        "id": "XdVTOUtS4B6S",
        "colab_type": "text"
      },
      "source": [
        "## Приводим все к размерам малым"
      ]
    },
    {
      "cell_type": "code",
      "metadata": {
        "id": "1q-cLAzWF3Mj",
        "colab_type": "code",
        "colab": {}
      },
      "source": [
        "from sklearn.preprocessing import MinMaxScaler"
      ],
      "execution_count": 0,
      "outputs": []
    },
    {
      "cell_type": "code",
      "metadata": {
        "id": "fBu2w1lrOOoV",
        "colab_type": "code",
        "colab": {}
      },
      "source": [
        "sc = MinMaxScaler()\n",
        "\n",
        "keyp_array_train = sc.fit_transform(keyp_array_train)\n",
        "keyp_array_test = sc.transform(keyp_array_test)"
      ],
      "execution_count": 0,
      "outputs": []
    },
    {
      "cell_type": "markdown",
      "metadata": {
        "id": "Pn-AAa9R4jpx",
        "colab_type": "text"
      },
      "source": [
        "# А вот и нейроночки"
      ]
    },
    {
      "cell_type": "code",
      "metadata": {
        "id": "rK_p0fkHj9MO",
        "colab_type": "code",
        "colab": {
          "base_uri": "https://localhost:8080/",
          "height": 35
        },
        "outputId": "a1234ad2-33c0-4229-c5f6-ac2b2066eb13"
      },
      "source": [
        "import tensorflow as tf\n",
        "\n",
        "gpus = tf.config.experimental.list_physical_devices('GPU')\n",
        "if gpus:\n",
        "  # Create 2 virtual GPUs with 1GB memory each\n",
        "  try:\n",
        "    tf.config.experimental.set_virtual_device_configuration(\n",
        "        gpus[0],\n",
        "        [tf.config.experimental.VirtualDeviceConfiguration(memory_limit=1024),\n",
        "         tf.config.experimental.VirtualDeviceConfiguration(memory_limit=1024)])\n",
        "    logical_gpus = tf.config.experimental.list_logical_devices('GPU')\n",
        "    print(len(gpus), \"Physical GPU,\", len(logical_gpus), \"Logical GPUs\")\n",
        "  except RuntimeError as e:\n",
        "    # Virtual devices must be set before GPUs have been initialized\n",
        "    print(e)"
      ],
      "execution_count": 15,
      "outputs": [
        {
          "output_type": "stream",
          "text": [
            "1 Physical GPU, 2 Logical GPUs\n"
          ],
          "name": "stdout"
        }
      ]
    },
    {
      "cell_type": "code",
      "metadata": {
        "id": "MLUGeTp85Aod",
        "colab_type": "code",
        "colab": {
          "base_uri": "https://localhost:8080/",
          "height": 72
        },
        "outputId": "72a44736-0828-473c-a127-b820e131113b"
      },
      "source": [
        "from tensorflow.keras.utils import to_categorical\n",
        "from sklearn.utils import class_weight\n",
        "\n",
        "batch_size = 32\n",
        "num_classes = train['ClassId'].unique().shape[0]\n",
        "\n",
        "# The data, split between train and test sets:\n",
        "print('x_train shape:', data.shape)\n",
        "print(data.shape[0], 'train samples')\n",
        "print(test_data.shape[0], 'test samples')\n",
        "\n",
        "#height, width = data.shape[1:]\n",
        "# Convert class vectors to binary class matrices.\n",
        "y_train = tf.keras.utils.to_categorical(train['ClassId'].values, num_classes)\n",
        "y_test = tf.keras.utils.to_categorical(test['ClassId'].values, num_classes)\n",
        "x_train = data.astype('float32')\n",
        "x_test = test_data.astype('float32')\n",
        "x_train /= 255\n",
        "x_test /= 255\n",
        "#uncomment for grayscale imgs\n",
        "#x_train = x_train.reshape((x_train.shape[0], height, width,1))\n",
        "#x_test = x_test.reshape((x_test.shape[0], height, width,1))\n",
        " \n",
        "class_weights = class_weight.compute_class_weight('balanced',\n",
        "                                                 np.unique(train['ClassId']),\n",
        "                                                 train['ClassId'])\n",
        "\n",
        "class_weights = dict(enumerate(class_weights))"
      ],
      "execution_count": 16,
      "outputs": [
        {
          "output_type": "stream",
          "text": [
            "x_train shape: (39209, 32, 32, 3)\n",
            "39209 train samples\n",
            "12630 test samples\n"
          ],
          "name": "stdout"
        }
      ]
    },
    {
      "cell_type": "code",
      "metadata": {
        "id": "qM3oCzVdEtGp",
        "colab_type": "code",
        "colab": {}
      },
      "source": [
        "K.clear_session()"
      ],
      "execution_count": 0,
      "outputs": []
    },
    {
      "cell_type": "code",
      "metadata": {
        "id": "Mn4TzmXMS3qZ",
        "colab_type": "code",
        "colab": {}
      },
      "source": [
        "from tensorflow.keras.optimizers import Adam, RMSprop\n",
        "\n",
        "from sklearn.metrics import classification_report\n",
        "from tensorflow.keras.preprocessing.image import ImageDataGenerator\n",
        "from tensorflow.keras.models import Sequential\n",
        "from tensorflow.keras.layers import BatchNormalization\n",
        "from tensorflow.keras.layers import Conv2D, MaxPooling2D, Activation\n",
        "from tensorflow.keras.layers import Flatten, Dropout, Dense\n",
        "import tensorflow.keras.backend as K\n",
        "\n",
        "class MetricsAtTopK:\n",
        "  def __init__(self, k):\n",
        "    self.k = k\n",
        "\n",
        "  def _get_prediction_tensor(self, y_pred):\n",
        "    \"\"\"\n",
        "    Takes y_pred and creates a tensor of same shape with 1 in indices \n",
        "    where the values are in top_k\n",
        "    \"\"\"\n",
        "    topk_values, topk_indices = tf.nn.top_k(y_pred, k=self.k, sorted=False, \n",
        "                                            name=\"topk\")\n",
        "    # the topk_indices are along last axis (1). Add indices for axis=0\n",
        "    ii, _ = tf.meshgrid(tf.range(tf.shape(y_pred)[0]), tf.range(self.k), \n",
        "                        indexing='ij')\n",
        "    index_tensor = tf.reshape(tf.stack([ii, topk_indices], axis=-1), \n",
        "                                                      shape=(-1, 2))\n",
        "    prediction_tensor = tf.compat.v1.sparse_to_dense(sparse_indices=index_tensor,\n",
        "                                               output_shape=tf.shape(y_pred),\n",
        "                                               default_value=0,\n",
        "                                               sparse_values=1.0,\n",
        "                                               validate_indices=False\n",
        "                                               )\n",
        "    prediction_tensor = tf.cast(prediction_tensor, K.floatx())\n",
        "    return prediction_tensor\n",
        "\n",
        "  def true_positives_at_k(self, y_true, y_pred):\n",
        "    prediction_tensor = self._get_prediction_tensor(y_pred=y_pred)\n",
        "    true_positive = K.sum(tf.multiply(prediction_tensor, y_true))\n",
        "    return true_positive\n",
        "\n",
        "  def false_positives_at_k(self, y_true, y_pred):\n",
        "    prediction_tensor = self._get_prediction_tensor(y_pred=y_pred)\n",
        "    true_positive = K.sum(tf.multiply(prediction_tensor, y_true))\n",
        "    c2 = K.sum(prediction_tensor)  # TP + FP\n",
        "    false_positive = c2 - true_positive\n",
        "    return false_positive\n",
        "\n",
        "  def false_negatives_at_k(self, y_true, y_pred):\n",
        "    prediction_tensor = self._get_prediction_tensor(y_pred=y_pred)\n",
        "    true_positive = K.sum(tf.multiply(prediction_tensor, y_true))\n",
        "    c3 = K.sum(y_true)  # TP + FN\n",
        "    false_negative = c3 - true_positive\n",
        "    return false_negative\n",
        "\n",
        "  def precision_at_k(self, y_true, y_pred):\n",
        "    prediction_tensor = self._get_prediction_tensor(y_pred=y_pred)\n",
        "    true_positive = K.sum(tf.multiply(prediction_tensor, y_true))\n",
        "    c2 = K.sum(prediction_tensor)  # TP + FP\n",
        "    return true_positive/(c2+K.epsilon())\n",
        "\n",
        "  def recall_at_k(self, y_true, y_pred):\n",
        "    prediction_tensor = self._get_prediction_tensor(y_pred=y_pred)\n",
        "    true_positive = K.sum(tf.multiply(prediction_tensor, y_true))\n",
        "    c3 = K.sum(y_true)  # TP + FN\n",
        "    return true_positive/(c3+K.epsilon())\n",
        "\n",
        "  def f1_at_k(self, y_true, y_pred):\n",
        "    precision = self.precision_at_k(y_true=y_true, y_pred=y_pred)\n",
        "    recall = self.recall_at_k(y_true=y_true, y_pred=y_pred)\n",
        "    f1 = (2*precision*recall)/(precision+recall+K.epsilon())\n",
        "    return f1\n",
        "\n",
        "metrics = MetricsAtTopK(k=5)\n",
        "\n",
        "def load_model(x_train, num_classes):\n",
        "\n",
        "  model = Sequential()\n",
        "  model.add(Conv2D(8, (5, 5), padding='same', \n",
        "                   input_shape=x_train.shape[1:]))\n",
        "  model.add(Activation('relu'))\n",
        "  model.add(BatchNormalization(axis=-1))\n",
        "  model.add(MaxPooling2D(pool_size=(2, 2)))\t\n",
        "\n",
        "  model.add(Conv2D(16, (3, 3), padding=\"same\"))\n",
        "  model.add(Activation(\"relu\"))\n",
        "  model.add(BatchNormalization(axis=-1))\n",
        "  model.add(MaxPooling2D(pool_size=(2, 2)))\n",
        "\n",
        "  model.add(Conv2D(16, (3, 3), padding=\"same\"))\n",
        "  model.add(Activation(\"relu\"))\n",
        "  model.add(BatchNormalization(axis=-1))\n",
        "  model.add(MaxPooling2D(pool_size=(2, 2)))\n",
        "  \n",
        "  model.add(Conv2D(32, (3, 3), padding=\"same\"))\n",
        "  model.add(Activation(\"relu\"))\n",
        "  model.add(BatchNormalization(axis=-1))\n",
        "  model.add(MaxPooling2D(pool_size=(2, 2)))\n",
        "  \n",
        "  model.add(Conv2D(32, (3, 3), padding=\"same\"))\n",
        "  model.add(Activation(\"relu\"))\n",
        "  model.add(BatchNormalization(axis=-1))\n",
        "  model.add(MaxPooling2D(pool_size=(2, 2)))\n",
        "\n",
        "  model.add(Flatten())\n",
        "\n",
        "  model.add(Dense(128))\n",
        "  model.add(Activation(\"relu\"))\n",
        "  model.add(BatchNormalization())\n",
        "  model.add(Dropout(0.3))\n",
        "\n",
        "  model.add(Dense(128))\n",
        "  model.add(Activation(\"relu\"))\n",
        "  model.add(BatchNormalization())\n",
        "  model.add(Dropout(0.5))\n",
        " \n",
        "\t# softmax classifier\n",
        "  model.add(Dense(num_classes))\n",
        "  model.add(Activation(\"softmax\"))\n",
        "\n",
        "  # initiate Adam optimizer\n",
        "  opt = Adam(learning_rate=1e-3, decay=1e-3/32)\n",
        "\n",
        "  # Let's train the model using Adam\n",
        "  model.compile(loss='categorical_crossentropy',\n",
        "                optimizer=opt,\n",
        "                metrics=['accuracy',\n",
        "                #tf.keras.metrics.CategoricalAccuracy(),\n",
        "                metrics.recall_at_k,\n",
        "                metrics.precision_at_k,\n",
        "                metrics.f1_at_k])\n",
        "  \n",
        "  return model"
      ],
      "execution_count": 0,
      "outputs": []
    },
    {
      "cell_type": "code",
      "metadata": {
        "id": "ZwYuK81baUQa",
        "colab_type": "code",
        "colab": {}
      },
      "source": [
        "model = load_model(x_train=x_train, num_classes=num_classes)"
      ],
      "execution_count": 0,
      "outputs": []
    },
    {
      "cell_type": "code",
      "metadata": {
        "id": "vXC20-4seUjx",
        "colab_type": "code",
        "colab": {
          "base_uri": "https://localhost:8080/",
          "height": 1000
        },
        "outputId": "53116635-f881-46cb-d415-69126d7892bf"
      },
      "source": [
        "model.summary()"
      ],
      "execution_count": 23,
      "outputs": [
        {
          "output_type": "stream",
          "text": [
            "Model: \"sequential\"\n",
            "_________________________________________________________________\n",
            "Layer (type)                 Output Shape              Param #   \n",
            "=================================================================\n",
            "conv2d (Conv2D)              (None, 32, 32, 8)         608       \n",
            "_________________________________________________________________\n",
            "activation (Activation)      (None, 32, 32, 8)         0         \n",
            "_________________________________________________________________\n",
            "batch_normalization (BatchNo (None, 32, 32, 8)         32        \n",
            "_________________________________________________________________\n",
            "max_pooling2d (MaxPooling2D) (None, 16, 16, 8)         0         \n",
            "_________________________________________________________________\n",
            "conv2d_1 (Conv2D)            (None, 16, 16, 16)        1168      \n",
            "_________________________________________________________________\n",
            "activation_1 (Activation)    (None, 16, 16, 16)        0         \n",
            "_________________________________________________________________\n",
            "batch_normalization_1 (Batch (None, 16, 16, 16)        64        \n",
            "_________________________________________________________________\n",
            "max_pooling2d_1 (MaxPooling2 (None, 8, 8, 16)          0         \n",
            "_________________________________________________________________\n",
            "conv2d_2 (Conv2D)            (None, 8, 8, 16)          2320      \n",
            "_________________________________________________________________\n",
            "activation_2 (Activation)    (None, 8, 8, 16)          0         \n",
            "_________________________________________________________________\n",
            "batch_normalization_2 (Batch (None, 8, 8, 16)          64        \n",
            "_________________________________________________________________\n",
            "max_pooling2d_2 (MaxPooling2 (None, 4, 4, 16)          0         \n",
            "_________________________________________________________________\n",
            "conv2d_3 (Conv2D)            (None, 4, 4, 32)          4640      \n",
            "_________________________________________________________________\n",
            "activation_3 (Activation)    (None, 4, 4, 32)          0         \n",
            "_________________________________________________________________\n",
            "batch_normalization_3 (Batch (None, 4, 4, 32)          128       \n",
            "_________________________________________________________________\n",
            "max_pooling2d_3 (MaxPooling2 (None, 2, 2, 32)          0         \n",
            "_________________________________________________________________\n",
            "conv2d_4 (Conv2D)            (None, 2, 2, 32)          9248      \n",
            "_________________________________________________________________\n",
            "activation_4 (Activation)    (None, 2, 2, 32)          0         \n",
            "_________________________________________________________________\n",
            "batch_normalization_4 (Batch (None, 2, 2, 32)          128       \n",
            "_________________________________________________________________\n",
            "max_pooling2d_4 (MaxPooling2 (None, 1, 1, 32)          0         \n",
            "_________________________________________________________________\n",
            "flatten (Flatten)            (None, 32)                0         \n",
            "_________________________________________________________________\n",
            "dense (Dense)                (None, 128)               4224      \n",
            "_________________________________________________________________\n",
            "activation_5 (Activation)    (None, 128)               0         \n",
            "_________________________________________________________________\n",
            "batch_normalization_5 (Batch (None, 128)               512       \n",
            "_________________________________________________________________\n",
            "dropout (Dropout)            (None, 128)               0         \n",
            "_________________________________________________________________\n",
            "dense_1 (Dense)              (None, 128)               16512     \n",
            "_________________________________________________________________\n",
            "activation_6 (Activation)    (None, 128)               0         \n",
            "_________________________________________________________________\n",
            "batch_normalization_6 (Batch (None, 128)               512       \n",
            "_________________________________________________________________\n",
            "dropout_1 (Dropout)          (None, 128)               0         \n",
            "_________________________________________________________________\n",
            "dense_2 (Dense)              (None, 43)                5547      \n",
            "_________________________________________________________________\n",
            "activation_7 (Activation)    (None, 43)                0         \n",
            "=================================================================\n",
            "Total params: 45,707\n",
            "Trainable params: 44,987\n",
            "Non-trainable params: 720\n",
            "_________________________________________________________________\n"
          ],
          "name": "stdout"
        }
      ]
    },
    {
      "cell_type": "markdown",
      "metadata": {
        "id": "u7qmDnZg4yQx",
        "colab_type": "text"
      },
      "source": [
        "## Пути назад уже нет!"
      ]
    },
    {
      "cell_type": "code",
      "metadata": {
        "id": "FPGapNYYV8Nk",
        "colab_type": "code",
        "colab": {
          "base_uri": "https://localhost:8080/",
          "height": 401
        },
        "outputId": "988d6340-f4ab-4bc6-f6e4-93fc3ddc4cbe"
      },
      "source": [
        "#reducing learning rate if model is on plateau\n",
        "reduce_lr = tf.keras.callbacks.ReduceLROnPlateau(monitor='val_loss', \n",
        "                                                         factor=0.2,\n",
        "                                                         patience=5, \n",
        "                                                         min_lr=1e-5)\n",
        "\n",
        "# This will do preprocessing and realtime data augmentation:\n",
        "datagen = ImageDataGenerator(\n",
        "          rotation_range=10,\n",
        "          zoom_range=0.3,\n",
        "\t        width_shift_range=0.1,\n",
        "\t        height_shift_range=0.1,\n",
        "\t        shear_range=0.15,\n",
        "\t        horizontal_flip=False,\n",
        "\t        vertical_flip=False,\n",
        "\t        fill_mode=\"nearest\")\n",
        "\n",
        "#datagen.fit(x_train)\n",
        "\n",
        "H = model.fit_generator(datagen.flow(x_train, y_train,\n",
        "                                      batch_size=64),\n",
        "                          epochs=10, \n",
        "                          #class_weight=class_weights,\n",
        "                          steps_per_epoch=x_train.shape[0]//64,\n",
        "                          validation_data=(x_test, y_test),\n",
        "                          callbacks=[reduce_lr],verbose=1)"
      ],
      "execution_count": 24,
      "outputs": [
        {
          "output_type": "stream",
          "text": [
            "Epoch 1/10\n",
            "612/612 [==============================] - 98s 160ms/step - loss: 2.9178 - accuracy: 0.2378 - recall_at_k: 0.5570 - precision_at_k: 0.1114 - f1_at_k: 0.1857 - val_loss: 1.7499 - val_accuracy: 0.4283 - val_recall_at_k: 0.8209 - val_precision_at_k: 0.1642 - val_f1_at_k: 0.2736\n",
            "Epoch 2/10\n",
            "612/612 [==============================] - 95s 155ms/step - loss: 1.6952 - accuracy: 0.4585 - recall_at_k: 0.8367 - precision_at_k: 0.1673 - f1_at_k: 0.2789 - val_loss: 1.2443 - val_accuracy: 0.5816 - val_recall_at_k: 0.9128 - val_precision_at_k: 0.1826 - val_f1_at_k: 0.3043\n",
            "Epoch 3/10\n",
            "612/612 [==============================] - 96s 157ms/step - loss: 1.3071 - accuracy: 0.5734 - recall_at_k: 0.9073 - precision_at_k: 0.1815 - f1_at_k: 0.3024 - val_loss: 1.1461 - val_accuracy: 0.6161 - val_recall_at_k: 0.9362 - val_precision_at_k: 0.1872 - val_f1_at_k: 0.3121\n",
            "Epoch 4/10\n",
            "612/612 [==============================] - 98s 160ms/step - loss: 1.0427 - accuracy: 0.6589 - recall_at_k: 0.9424 - precision_at_k: 0.1885 - f1_at_k: 0.3141 - val_loss: 0.8517 - val_accuracy: 0.7129 - val_recall_at_k: 0.9557 - val_precision_at_k: 0.1911 - val_f1_at_k: 0.3186\n",
            "Epoch 5/10\n",
            "612/612 [==============================] - 96s 156ms/step - loss: 0.8753 - accuracy: 0.7113 - recall_at_k: 0.9605 - precision_at_k: 0.1921 - f1_at_k: 0.3202 - val_loss: 0.5815 - val_accuracy: 0.8006 - val_recall_at_k: 0.9787 - val_precision_at_k: 0.1957 - val_f1_at_k: 0.3262\n",
            "Epoch 6/10\n",
            "612/612 [==============================] - 96s 158ms/step - loss: 0.7516 - accuracy: 0.7518 - recall_at_k: 0.9701 - precision_at_k: 0.1940 - f1_at_k: 0.3234 - val_loss: 0.4954 - val_accuracy: 0.8306 - val_recall_at_k: 0.9845 - val_precision_at_k: 0.1969 - val_f1_at_k: 0.3282\n",
            "Epoch 7/10\n",
            "612/612 [==============================] - 99s 162ms/step - loss: 0.6756 - accuracy: 0.7791 - recall_at_k: 0.9757 - precision_at_k: 0.1951 - f1_at_k: 0.3252 - val_loss: 0.5545 - val_accuracy: 0.8166 - val_recall_at_k: 0.9822 - val_precision_at_k: 0.1964 - val_f1_at_k: 0.3274\n",
            "Epoch 8/10\n",
            "612/612 [==============================] - 99s 161ms/step - loss: 0.5942 - accuracy: 0.8054 - recall_at_k: 0.9814 - precision_at_k: 0.1963 - f1_at_k: 0.3271 - val_loss: 0.7534 - val_accuracy: 0.7660 - val_recall_at_k: 0.9681 - val_precision_at_k: 0.1936 - val_f1_at_k: 0.3227\n",
            "Epoch 9/10\n",
            "612/612 [==============================] - 97s 159ms/step - loss: 0.5464 - accuracy: 0.8226 - recall_at_k: 0.9827 - precision_at_k: 0.1965 - f1_at_k: 0.3276 - val_loss: 0.4690 - val_accuracy: 0.8473 - val_recall_at_k: 0.9830 - val_precision_at_k: 0.1966 - val_f1_at_k: 0.3277\n",
            "Epoch 10/10\n",
            "612/612 [==============================] - 104s 169ms/step - loss: 0.5030 - accuracy: 0.8366 - recall_at_k: 0.9857 - precision_at_k: 0.1971 - f1_at_k: 0.3286 - val_loss: 0.3934 - val_accuracy: 0.8674 - val_recall_at_k: 0.9883 - val_precision_at_k: 0.1977 - val_f1_at_k: 0.3294\n"
          ],
          "name": "stdout"
        }
      ]
    },
    {
      "cell_type": "code",
      "metadata": {
        "id": "svzlIOFnbJpx",
        "colab_type": "code",
        "colab": {
          "base_uri": "https://localhost:8080/",
          "height": 926
        },
        "outputId": "5824668a-5391-4623-f0ce-4de7f25b1147"
      },
      "source": [
        "# Score trained model.\n",
        "y_pred = model.predict(x_test,batch_size=batch_size)\n",
        "print(classification_report(np.argmax(y_test,axis=-1),\n",
        "\t                          np.argmax(y_pred,axis=-1)))"
      ],
      "execution_count": 25,
      "outputs": [
        {
          "output_type": "stream",
          "text": [
            "              precision    recall  f1-score   support\n",
            "\n",
            "           0       0.88      0.48      0.62        60\n",
            "           1       0.92      0.93      0.93       720\n",
            "           2       0.95      0.90      0.93       750\n",
            "           3       0.99      0.60      0.74       450\n",
            "           4       0.98      0.94      0.96       660\n",
            "           5       0.71      0.71      0.71       630\n",
            "           6       0.95      0.95      0.95       150\n",
            "           7       0.58      0.48      0.53       450\n",
            "           8       0.54      0.95      0.69       450\n",
            "           9       0.91      0.99      0.95       480\n",
            "          10       0.96      0.97      0.96       660\n",
            "          11       0.88      0.95      0.91       420\n",
            "          12       0.97      0.89      0.93       690\n",
            "          13       0.96      1.00      0.98       720\n",
            "          14       0.94      1.00      0.97       270\n",
            "          15       0.86      0.94      0.90       210\n",
            "          16       0.93      0.91      0.92       150\n",
            "          17       1.00      0.94      0.97       360\n",
            "          18       0.91      0.80      0.85       390\n",
            "          19       0.62      0.68      0.65        60\n",
            "          20       0.67      0.81      0.73        90\n",
            "          21       0.77      0.26      0.38        90\n",
            "          22       0.92      0.67      0.77       120\n",
            "          23       0.68      0.73      0.71       150\n",
            "          24       0.62      0.59      0.61        90\n",
            "          25       0.92      0.94      0.93       480\n",
            "          26       0.73      0.79      0.76       180\n",
            "          27       0.57      0.38      0.46        60\n",
            "          28       0.73      0.83      0.78       150\n",
            "          29       0.70      0.90      0.79        90\n",
            "          30       0.63      0.51      0.56       150\n",
            "          31       0.78      0.98      0.87       270\n",
            "          32       0.96      0.90      0.93        60\n",
            "          33       0.89      0.97      0.93       210\n",
            "          34       0.99      0.90      0.94       120\n",
            "          35       0.95      0.96      0.95       390\n",
            "          36       0.99      0.78      0.87       120\n",
            "          37       0.98      0.88      0.93        60\n",
            "          38       0.96      0.97      0.97       690\n",
            "          39       0.96      0.72      0.82        90\n",
            "          40       0.98      0.89      0.93        90\n",
            "          41       0.76      0.92      0.83        60\n",
            "          42       0.92      0.66      0.77        90\n",
            "\n",
            "    accuracy                           0.87     12630\n",
            "   macro avg       0.85      0.81      0.82     12630\n",
            "weighted avg       0.88      0.87      0.87     12630\n",
            "\n"
          ],
          "name": "stdout"
        }
      ]
    },
    {
      "cell_type": "markdown",
      "metadata": {
        "id": "h2YgCUPqhl9r",
        "colab_type": "text"
      },
      "source": [
        "### Теперь показываем сети веса каждого класса для улучшения recall"
      ]
    },
    {
      "cell_type": "code",
      "metadata": {
        "id": "0tRlIE1vRYsB",
        "colab_type": "code",
        "colab": {
          "base_uri": "https://localhost:8080/",
          "height": 765
        },
        "outputId": "1671bbf6-9352-4790-d118-eaedf92cadfa"
      },
      "source": [
        "H1 = model.fit_generator(datagen.flow(x_train, y_train,\n",
        "                                      batch_size=64),\n",
        "                          epochs=20, \n",
        "                          class_weight=class_weights,\n",
        "                          steps_per_epoch=x_train.shape[0]//64,\n",
        "                          validation_data=(x_test, y_test),\n",
        "                          callbacks=[reduce_lr],verbose=1)"
      ],
      "execution_count": 29,
      "outputs": [
        {
          "output_type": "stream",
          "text": [
            "Epoch 1/20\n",
            "612/612 [==============================] - 104s 170ms/step - loss: 0.6418 - accuracy: 0.8111 - recall_at_k: 0.9827 - precision_at_k: 0.1965 - f1_at_k: 0.3276 - val_loss: 0.4110 - val_accuracy: 0.8649 - val_recall_at_k: 0.9866 - val_precision_at_k: 0.1973 - val_f1_at_k: 0.3289\n",
            "Epoch 2/20\n",
            "612/612 [==============================] - 105s 171ms/step - loss: 0.5625 - accuracy: 0.8216 - recall_at_k: 0.9840 - precision_at_k: 0.1968 - f1_at_k: 0.3280 - val_loss: 0.5736 - val_accuracy: 0.8214 - val_recall_at_k: 0.9779 - val_precision_at_k: 0.1956 - val_f1_at_k: 0.3260\n",
            "Epoch 3/20\n",
            "612/612 [==============================] - 104s 170ms/step - loss: 0.5133 - accuracy: 0.8356 - recall_at_k: 0.9850 - precision_at_k: 0.1970 - f1_at_k: 0.3283 - val_loss: 0.4219 - val_accuracy: 0.8683 - val_recall_at_k: 0.9851 - val_precision_at_k: 0.1970 - val_f1_at_k: 0.3284\n",
            "Epoch 4/20\n",
            "612/612 [==============================] - 103s 169ms/step - loss: 0.4715 - accuracy: 0.8419 - recall_at_k: 0.9857 - precision_at_k: 0.1971 - f1_at_k: 0.3286 - val_loss: 0.4762 - val_accuracy: 0.8525 - val_recall_at_k: 0.9841 - val_precision_at_k: 0.1968 - val_f1_at_k: 0.3280\n",
            "Epoch 5/20\n",
            "612/612 [==============================] - 105s 171ms/step - loss: 0.4537 - accuracy: 0.8481 - recall_at_k: 0.9867 - precision_at_k: 0.1973 - f1_at_k: 0.3289 - val_loss: 0.3288 - val_accuracy: 0.9002 - val_recall_at_k: 0.9907 - val_precision_at_k: 0.1981 - val_f1_at_k: 0.3302\n",
            "Epoch 6/20\n",
            "612/612 [==============================] - 103s 168ms/step - loss: 0.4466 - accuracy: 0.8490 - recall_at_k: 0.9875 - precision_at_k: 0.1975 - f1_at_k: 0.3292 - val_loss: 0.3861 - val_accuracy: 0.8778 - val_recall_at_k: 0.9897 - val_precision_at_k: 0.1979 - val_f1_at_k: 0.3299\n",
            "Epoch 7/20\n",
            "612/612 [==============================] - 103s 168ms/step - loss: 0.4086 - accuracy: 0.8578 - recall_at_k: 0.9888 - precision_at_k: 0.1978 - f1_at_k: 0.3296 - val_loss: 0.5274 - val_accuracy: 0.8421 - val_recall_at_k: 0.9809 - val_precision_at_k: 0.1962 - val_f1_at_k: 0.3270\n",
            "Epoch 8/20\n",
            "612/612 [==============================] - 102s 167ms/step - loss: 0.4187 - accuracy: 0.8545 - recall_at_k: 0.9881 - precision_at_k: 0.1976 - f1_at_k: 0.3294 - val_loss: 0.3810 - val_accuracy: 0.8787 - val_recall_at_k: 0.9897 - val_precision_at_k: 0.1979 - val_f1_at_k: 0.3299\n",
            "Epoch 9/20\n",
            "612/612 [==============================] - 103s 168ms/step - loss: 0.3876 - accuracy: 0.8644 - recall_at_k: 0.9895 - precision_at_k: 0.1979 - f1_at_k: 0.3298 - val_loss: 0.3912 - val_accuracy: 0.8819 - val_recall_at_k: 0.9879 - val_precision_at_k: 0.1976 - val_f1_at_k: 0.3293\n",
            "Epoch 10/20\n",
            "612/612 [==============================] - 103s 168ms/step - loss: 0.3784 - accuracy: 0.8681 - recall_at_k: 0.9900 - precision_at_k: 0.1980 - f1_at_k: 0.3300 - val_loss: 0.2640 - val_accuracy: 0.9173 - val_recall_at_k: 0.9938 - val_precision_at_k: 0.1988 - val_f1_at_k: 0.3313\n",
            "Epoch 11/20\n",
            "612/612 [==============================] - 104s 169ms/step - loss: 0.3732 - accuracy: 0.8676 - recall_at_k: 0.9897 - precision_at_k: 0.1979 - f1_at_k: 0.3299 - val_loss: 0.3911 - val_accuracy: 0.8772 - val_recall_at_k: 0.9894 - val_precision_at_k: 0.1979 - val_f1_at_k: 0.3298\n",
            "Epoch 12/20\n",
            "612/612 [==============================] - 102s 167ms/step - loss: 0.3533 - accuracy: 0.8720 - recall_at_k: 0.9899 - precision_at_k: 0.1980 - f1_at_k: 0.3300 - val_loss: 0.4769 - val_accuracy: 0.8652 - val_recall_at_k: 0.9838 - val_precision_at_k: 0.1968 - val_f1_at_k: 0.3279\n",
            "Epoch 13/20\n",
            "612/612 [==============================] - 103s 168ms/step - loss: 0.3420 - accuracy: 0.8786 - recall_at_k: 0.9897 - precision_at_k: 0.1979 - f1_at_k: 0.3299 - val_loss: 0.3042 - val_accuracy: 0.9048 - val_recall_at_k: 0.9926 - val_precision_at_k: 0.1985 - val_f1_at_k: 0.3309\n",
            "Epoch 14/20\n",
            "612/612 [==============================] - 105s 171ms/step - loss: 0.3375 - accuracy: 0.8791 - recall_at_k: 0.9910 - precision_at_k: 0.1982 - f1_at_k: 0.3303 - val_loss: 0.3051 - val_accuracy: 0.9078 - val_recall_at_k: 0.9917 - val_precision_at_k: 0.1983 - val_f1_at_k: 0.3306\n",
            "Epoch 15/20\n",
            "612/612 [==============================] - 104s 170ms/step - loss: 0.3410 - accuracy: 0.8779 - recall_at_k: 0.9900 - precision_at_k: 0.1980 - f1_at_k: 0.3300 - val_loss: 0.3821 - val_accuracy: 0.8863 - val_recall_at_k: 0.9911 - val_precision_at_k: 0.1982 - val_f1_at_k: 0.3304\n",
            "Epoch 16/20\n",
            "612/612 [==============================] - 104s 170ms/step - loss: 0.2925 - accuracy: 0.8945 - recall_at_k: 0.9918 - precision_at_k: 0.1984 - f1_at_k: 0.3306 - val_loss: 0.2503 - val_accuracy: 0.9237 - val_recall_at_k: 0.9934 - val_precision_at_k: 0.1987 - val_f1_at_k: 0.3311\n",
            "Epoch 17/20\n",
            "612/612 [==============================] - 103s 168ms/step - loss: 0.2838 - accuracy: 0.8962 - recall_at_k: 0.9929 - precision_at_k: 0.1986 - f1_at_k: 0.3309 - val_loss: 0.2640 - val_accuracy: 0.9186 - val_recall_at_k: 0.9929 - val_precision_at_k: 0.1986 - val_f1_at_k: 0.3310\n",
            "Epoch 18/20\n",
            "612/612 [==============================] - 102s 167ms/step - loss: 0.2694 - accuracy: 0.9011 - recall_at_k: 0.9929 - precision_at_k: 0.1986 - f1_at_k: 0.3310 - val_loss: 0.2656 - val_accuracy: 0.9196 - val_recall_at_k: 0.9931 - val_precision_at_k: 0.1986 - val_f1_at_k: 0.3310\n",
            "Epoch 19/20\n",
            "612/612 [==============================] - 104s 169ms/step - loss: 0.2665 - accuracy: 0.9010 - recall_at_k: 0.9931 - precision_at_k: 0.1986 - f1_at_k: 0.3310 - val_loss: 0.2665 - val_accuracy: 0.9181 - val_recall_at_k: 0.9936 - val_precision_at_k: 0.1987 - val_f1_at_k: 0.3312\n",
            "Epoch 20/20\n",
            "612/612 [==============================] - 105s 171ms/step - loss: 0.2579 - accuracy: 0.9019 - recall_at_k: 0.9925 - precision_at_k: 0.1985 - f1_at_k: 0.3308 - val_loss: 0.2208 - val_accuracy: 0.9336 - val_recall_at_k: 0.9943 - val_precision_at_k: 0.1989 - val_f1_at_k: 0.3314\n"
          ],
          "name": "stdout"
        }
      ]
    },
    {
      "cell_type": "code",
      "metadata": {
        "id": "GZYsWIToUJ8a",
        "colab_type": "code",
        "colab": {
          "base_uri": "https://localhost:8080/",
          "height": 926
        },
        "outputId": "3c6798c5-d82e-45fc-ca00-27180cb3f395"
      },
      "source": [
        "# Score trained model.\n",
        "y_pred = model.predict(x_test,batch_size=batch_size)\n",
        "print(classification_report(np.argmax(y_test,axis=-1),\n",
        "\t                          np.argmax(y_pred,axis=-1)))"
      ],
      "execution_count": 30,
      "outputs": [
        {
          "output_type": "stream",
          "text": [
            "              precision    recall  f1-score   support\n",
            "\n",
            "           0       0.82      0.98      0.89        60\n",
            "           1       0.95      0.97      0.96       720\n",
            "           2       0.90      0.97      0.94       750\n",
            "           3       0.98      0.81      0.88       450\n",
            "           4       0.98      0.94      0.96       660\n",
            "           5       0.87      0.85      0.86       630\n",
            "           6       0.99      0.93      0.96       150\n",
            "           7       0.92      0.84      0.88       450\n",
            "           8       0.85      0.96      0.90       450\n",
            "           9       0.98      0.97      0.97       480\n",
            "          10       0.98      0.96      0.97       660\n",
            "          11       0.97      0.91      0.94       420\n",
            "          12       0.98      0.94      0.96       690\n",
            "          13       1.00      0.99      0.99       720\n",
            "          14       0.96      1.00      0.98       270\n",
            "          15       0.87      0.98      0.92       210\n",
            "          16       0.88      1.00      0.93       150\n",
            "          17       1.00      0.94      0.97       360\n",
            "          18       1.00      0.77      0.87       390\n",
            "          19       0.92      1.00      0.96        60\n",
            "          20       0.79      0.86      0.82        90\n",
            "          21       0.82      0.89      0.85        90\n",
            "          22       0.93      0.70      0.80       120\n",
            "          23       0.78      0.96      0.86       150\n",
            "          24       0.87      0.97      0.92        90\n",
            "          25       0.92      0.96      0.94       480\n",
            "          26       0.83      0.89      0.86       180\n",
            "          27       0.57      0.97      0.72        60\n",
            "          28       0.90      0.97      0.93       150\n",
            "          29       0.75      0.99      0.86        90\n",
            "          30       0.75      0.65      0.70       150\n",
            "          31       0.93      0.99      0.96       270\n",
            "          32       1.00      1.00      1.00        60\n",
            "          33       0.94      1.00      0.97       210\n",
            "          34       0.98      0.99      0.98       120\n",
            "          35       1.00      0.94      0.97       390\n",
            "          36       0.98      1.00      0.99       120\n",
            "          37       0.92      0.98      0.95        60\n",
            "          38       1.00      0.98      0.99       690\n",
            "          39       0.99      0.99      0.99        90\n",
            "          40       0.85      0.96      0.90        90\n",
            "          41       0.79      0.98      0.87        60\n",
            "          42       0.90      0.82      0.86        90\n",
            "\n",
            "    accuracy                           0.93     12630\n",
            "   macro avg       0.91      0.93      0.92     12630\n",
            "weighted avg       0.94      0.93      0.93     12630\n",
            "\n"
          ],
          "name": "stdout"
        }
      ]
    },
    {
      "cell_type": "markdown",
      "metadata": {
        "id": "pBndCbjVpURM",
        "colab_type": "text"
      },
      "source": [
        "### Да свершится предначертанное (на графике)"
      ]
    },
    {
      "cell_type": "code",
      "metadata": {
        "id": "sDfiZvu7qKdv",
        "colab_type": "code",
        "colab": {
          "base_uri": "https://localhost:8080/",
          "height": 373
        },
        "outputId": "c062036a-f3d9-41ab-a79a-b5d69c697f94"
      },
      "source": [
        "%matplotlib inline\n",
        "\n",
        "epochs = np.arange(len(H.epoch)+len(H1.epoch))\n",
        "history = dict()\n",
        "for key in H.history.keys():\n",
        "  history[key]=np.concatenate((H.history[key], H1.history[key]))\n",
        "\n",
        "sns.set()\n",
        "plt.figure(figsize=(10,5))\n",
        "plt.plot(epochs, history[\"loss\"], label=\"train_loss\")\n",
        "plt.plot(epochs, history[\"val_loss\"], label=\"validation loss\")\n",
        "plt.plot(epochs, history[\"accuracy\"], label=\"accuracy\")\n",
        "plt.plot(epochs, history[\"val_accuracy\"], label=\"validation accuracy\")\n",
        "plt.title(\"Training Loss and Accuracy on Dataset\")\n",
        "plt.xlabel(\"Epoch #\")\n",
        "plt.ylabel(\"Loss/F1\")\n",
        "plt.legend(loc=\"upper right\")"
      ],
      "execution_count": 39,
      "outputs": [
        {
          "output_type": "execute_result",
          "data": {
            "text/plain": [
              "<matplotlib.legend.Legend at 0x7f164e063208>"
            ]
          },
          "metadata": {
            "tags": []
          },
          "execution_count": 39
        },
        {
          "output_type": "display_data",
          "data": {
            "image/png": "[encoded data removed]",
            "text/plain": [
              "<Figure size 720x360 with 1 Axes>"
            ]
          },
          "metadata": {
            "tags": []
          }
        }
      ]
    },
    {
      "cell_type": "markdown",
      "metadata": {
        "id": "x2zgozgsokg7",
        "colab_type": "text"
      },
      "source": [
        "### **Выводы:** слова здесь излишни. Сеть даёт очень хорошие показатели по всем метрикам."
      ]
    },
    {
      "cell_type": "markdown",
      "metadata": {
        "id": "V2dxQid3hRtB",
        "colab_type": "text"
      },
      "source": [
        "## Сеть с встроенным дескриптором"
      ]
    },
    {
      "cell_type": "code",
      "metadata": {
        "id": "wHyM2RjEhQ23",
        "colab_type": "code",
        "colab": {}
      },
      "source": [
        "from tensorflow.keras.layers import Lambda\n",
        "\n",
        "def load_desc_model(x_train=x_train, num_classes=num_classes, \n",
        "                    descriptor=descriptor):\n",
        "  #for computing features\n",
        "  @tf.function\n",
        "  def get_key_pts(img):\n",
        "    img = np.array(img)\n",
        "    gray = cv2.cvtColor(img,cv2.COLOR_RGB2GRAY)\n",
        "    gray*=255\n",
        "    img_ = gray.astype(np.uint8)\n",
        "    kp = descriptor(img_,None)\n",
        "    arr = np.array([kp[idx].pt for idx in range(0, len(kp))]).flatten()\n",
        "    if arr.shape[0]<256:\n",
        "      arr[len(arr):256]=0\n",
        "    elif arr.shape[0]>256:\n",
        "      arr=arr[:256]\n",
        "    return tf.convert_to_tensor(arr, dtype=tf.float32)\n",
        "  \n",
        "  model = Sequential()\n",
        "  model.add(Activation('relu',input_shape=x_train.shape[1:]))\n",
        "  model.add(Lambda(get_key_pts))\n",
        "  model.add(BatchNormalization())\n",
        "\n",
        "  model.add(Dense(128))\n",
        "  model.add(Activation(\"relu\"))\n",
        "  model.add(BatchNormalization())\n",
        "  model.add(Dropout(0.3))\n",
        "\n",
        "  model.add(Dense(128))\n",
        "  model.add(Activation(\"relu\"))\n",
        "  model.add(BatchNormalization())\n",
        "  model.add(Dropout(0.5))\n",
        " \n",
        "\t# softmax classifier\n",
        "  model.add(Dense(num_classes))\n",
        "  model.add(Activation(\"softmax\"))\n",
        "\n",
        "  # initiate Adam optimizer\n",
        "  opt = Adam(learning_rate=1e-3, decay=1e-3/32)\n",
        "\n",
        "  # Let's train the model using Adam\n",
        "  model.compile(loss='categorical_crossentropy',\n",
        "                optimizer=opt,\n",
        "                metrics=['accuracy',\n",
        "                #tf.keras.metrics.CategoricalAccuracy(),\n",
        "                metrics.recall_at_k,\n",
        "                metrics.precision_at_k,\n",
        "                metrics.f1_at_k])\n",
        "  \n",
        "  return model\n"
      ],
      "execution_count": 0,
      "outputs": []
    },
    {
      "cell_type": "code",
      "metadata": {
        "id": "-EmJ3Wdjojoi",
        "colab_type": "code",
        "colab": {
          "base_uri": "https://localhost:8080/",
          "height": 504
        },
        "outputId": "3b50796a-7c62-4902-917a-d38d4469ff35"
      },
      "source": [
        "model_desc = load_desc_model(x_train=x_train, num_classes=num_classes, \n",
        "                             descriptor=descriptors['sift'])\n"
      ],
      "execution_count": 79,
      "outputs": [
        {
          "output_type": "error",
          "ename": "NotImplementedError",
          "evalue": "ignored",
          "traceback": [
            "\u001b[0;31m---------------------------------------------------------------------------\u001b[0m",
            "\u001b[0;31mNotImplementedError\u001b[0m                       Traceback (most recent call last)",
            "\u001b[0;32m<ipython-input-79-66fa2318ba8b>\u001b[0m in \u001b[0;36m<module>\u001b[0;34m()\u001b[0m\n\u001b[1;32m      1\u001b[0m model_desc = load_desc_model(x_train=x_train, num_classes=num_classes, \n\u001b[0;32m----> 2\u001b[0;31m                              descriptor=descriptors['sift'])\n\u001b[0m",
            "\u001b[0;32m<ipython-input-78-43babbd2cea1>\u001b[0m in \u001b[0;36mload_desc_model\u001b[0;34m(x_train, num_classes, descriptor)\u001b[0m\n\u001b[1;32m     20\u001b[0m   \u001b[0mmodel\u001b[0m \u001b[0;34m=\u001b[0m \u001b[0mSequential\u001b[0m\u001b[0;34m(\u001b[0m\u001b[0;34m)\u001b[0m\u001b[0;34m\u001b[0m\u001b[0;34m\u001b[0m\u001b[0m\n\u001b[1;32m     21\u001b[0m   \u001b[0mmodel\u001b[0m\u001b[0;34m.\u001b[0m\u001b[0madd\u001b[0m\u001b[0;34m(\u001b[0m\u001b[0mActivation\u001b[0m\u001b[0;34m(\u001b[0m\u001b[0;34m'relu'\u001b[0m\u001b[0;34m,\u001b[0m\u001b[0minput_shape\u001b[0m\u001b[0;34m=\u001b[0m\u001b[0mx_train\u001b[0m\u001b[0;34m.\u001b[0m\u001b[0mshape\u001b[0m\u001b[0;34m[\u001b[0m\u001b[0;36m1\u001b[0m\u001b[0;34m:\u001b[0m\u001b[0;34m]\u001b[0m\u001b[0;34m)\u001b[0m\u001b[0;34m)\u001b[0m\u001b[0;34m\u001b[0m\u001b[0;34m\u001b[0m\u001b[0m\n\u001b[0;32m---> 22\u001b[0;31m   \u001b[0mmodel\u001b[0m\u001b[0;34m.\u001b[0m\u001b[0madd\u001b[0m\u001b[0;34m(\u001b[0m\u001b[0mLambda\u001b[0m\u001b[0;34m(\u001b[0m\u001b[0mget_key_pts\u001b[0m\u001b[0;34m)\u001b[0m\u001b[0;34m)\u001b[0m\u001b[0;34m\u001b[0m\u001b[0;34m\u001b[0m\u001b[0m\n\u001b[0m\u001b[1;32m     23\u001b[0m   \u001b[0mmodel\u001b[0m\u001b[0;34m.\u001b[0m\u001b[0madd\u001b[0m\u001b[0;34m(\u001b[0m\u001b[0mBatchNormalization\u001b[0m\u001b[0;34m(\u001b[0m\u001b[0;34m)\u001b[0m\u001b[0;34m)\u001b[0m\u001b[0;34m\u001b[0m\u001b[0;34m\u001b[0m\u001b[0m\n\u001b[1;32m     24\u001b[0m \u001b[0;34m\u001b[0m\u001b[0m\n",
            "\u001b[0;32m/usr/local/lib/python3.6/dist-packages/tensorflow_core/python/training/tracking/base.py\u001b[0m in \u001b[0;36m_method_wrapper\u001b[0;34m(self, *args, **kwargs)\u001b[0m\n\u001b[1;32m    455\u001b[0m     \u001b[0mself\u001b[0m\u001b[0;34m.\u001b[0m\u001b[0m_self_setattr_tracking\u001b[0m \u001b[0;34m=\u001b[0m \u001b[0;32mFalse\u001b[0m  \u001b[0;31m# pylint: disable=protected-access\u001b[0m\u001b[0;34m\u001b[0m\u001b[0;34m\u001b[0m\u001b[0m\n\u001b[1;32m    456\u001b[0m     \u001b[0;32mtry\u001b[0m\u001b[0;34m:\u001b[0m\u001b[0;34m\u001b[0m\u001b[0;34m\u001b[0m\u001b[0m\n\u001b[0;32m--> 457\u001b[0;31m       \u001b[0mresult\u001b[0m \u001b[0;34m=\u001b[0m \u001b[0mmethod\u001b[0m\u001b[0;34m(\u001b[0m\u001b[0mself\u001b[0m\u001b[0;34m,\u001b[0m \u001b[0;34m*\u001b[0m\u001b[0margs\u001b[0m\u001b[0;34m,\u001b[0m \u001b[0;34m**\u001b[0m\u001b[0mkwargs\u001b[0m\u001b[0;34m)\u001b[0m\u001b[0;34m\u001b[0m\u001b[0;34m\u001b[0m\u001b[0m\n\u001b[0m\u001b[1;32m    458\u001b[0m     \u001b[0;32mfinally\u001b[0m\u001b[0;34m:\u001b[0m\u001b[0;34m\u001b[0m\u001b[0;34m\u001b[0m\u001b[0m\n\u001b[1;32m    459\u001b[0m       \u001b[0mself\u001b[0m\u001b[0;34m.\u001b[0m\u001b[0m_self_setattr_tracking\u001b[0m \u001b[0;34m=\u001b[0m \u001b[0mprevious_value\u001b[0m  \u001b[0;31m# pylint: disable=protected-access\u001b[0m\u001b[0;34m\u001b[0m\u001b[0;34m\u001b[0m\u001b[0m\n",
            "\u001b[0;32m/usr/local/lib/python3.6/dist-packages/tensorflow_core/python/keras/engine/sequential.py\u001b[0m in \u001b[0;36madd\u001b[0;34m(self, layer)\u001b[0m\n\u001b[1;32m    194\u001b[0m       \u001b[0;31m# If the model is being built continuously on top of an input layer:\u001b[0m\u001b[0;34m\u001b[0m\u001b[0;34m\u001b[0m\u001b[0;34m\u001b[0m\u001b[0m\n\u001b[1;32m    195\u001b[0m       \u001b[0;31m# refresh its output.\u001b[0m\u001b[0;34m\u001b[0m\u001b[0;34m\u001b[0m\u001b[0;34m\u001b[0m\u001b[0m\n\u001b[0;32m--> 196\u001b[0;31m       \u001b[0moutput_tensor\u001b[0m \u001b[0;34m=\u001b[0m \u001b[0mlayer\u001b[0m\u001b[0;34m(\u001b[0m\u001b[0mself\u001b[0m\u001b[0;34m.\u001b[0m\u001b[0moutputs\u001b[0m\u001b[0;34m[\u001b[0m\u001b[0;36m0\u001b[0m\u001b[0;34m]\u001b[0m\u001b[0;34m)\u001b[0m\u001b[0;34m\u001b[0m\u001b[0;34m\u001b[0m\u001b[0m\n\u001b[0m\u001b[1;32m    197\u001b[0m       \u001b[0;32mif\u001b[0m \u001b[0mlen\u001b[0m\u001b[0;34m(\u001b[0m\u001b[0mnest\u001b[0m\u001b[0;34m.\u001b[0m\u001b[0mflatten\u001b[0m\u001b[0;34m(\u001b[0m\u001b[0moutput_tensor\u001b[0m\u001b[0;34m)\u001b[0m\u001b[0;34m)\u001b[0m \u001b[0;34m!=\u001b[0m \u001b[0;36m1\u001b[0m\u001b[0;34m:\u001b[0m\u001b[0;34m\u001b[0m\u001b[0;34m\u001b[0m\u001b[0m\n\u001b[1;32m    198\u001b[0m         raise TypeError('All layers in a Sequential model '\n",
            "\u001b[0;32m/usr/local/lib/python3.6/dist-packages/tensorflow_core/python/keras/engine/base_layer.py\u001b[0m in \u001b[0;36m__call__\u001b[0;34m(self, inputs, *args, **kwargs)\u001b[0m\n\u001b[1;32m    840\u001b[0m                     not base_layer_utils.is_in_eager_or_tf_function()):\n\u001b[1;32m    841\u001b[0m                   \u001b[0;32mwith\u001b[0m \u001b[0mauto_control_deps\u001b[0m\u001b[0;34m.\u001b[0m\u001b[0mAutomaticControlDependencies\u001b[0m\u001b[0;34m(\u001b[0m\u001b[0;34m)\u001b[0m \u001b[0;32mas\u001b[0m \u001b[0macd\u001b[0m\u001b[0;34m:\u001b[0m\u001b[0;34m\u001b[0m\u001b[0;34m\u001b[0m\u001b[0m\n\u001b[0;32m--> 842\u001b[0;31m                     \u001b[0moutputs\u001b[0m \u001b[0;34m=\u001b[0m \u001b[0mcall_fn\u001b[0m\u001b[0;34m(\u001b[0m\u001b[0mcast_inputs\u001b[0m\u001b[0;34m,\u001b[0m \u001b[0;34m*\u001b[0m\u001b[0margs\u001b[0m\u001b[0;34m,\u001b[0m \u001b[0;34m**\u001b[0m\u001b[0mkwargs\u001b[0m\u001b[0;34m)\u001b[0m\u001b[0;34m\u001b[0m\u001b[0;34m\u001b[0m\u001b[0m\n\u001b[0m\u001b[1;32m    843\u001b[0m                     \u001b[0;31m# Wrap Tensors in `outputs` in `tf.identity` to avoid\u001b[0m\u001b[0;34m\u001b[0m\u001b[0;34m\u001b[0m\u001b[0;34m\u001b[0m\u001b[0m\n\u001b[1;32m    844\u001b[0m                     \u001b[0;31m# circular dependencies.\u001b[0m\u001b[0;34m\u001b[0m\u001b[0;34m\u001b[0m\u001b[0;34m\u001b[0m\u001b[0m\n",
            "\u001b[0;32m/usr/local/lib/python3.6/dist-packages/tensorflow_core/python/keras/layers/core.py\u001b[0m in \u001b[0;36mcall\u001b[0;34m(self, inputs, mask, training)\u001b[0m\n\u001b[1;32m    793\u001b[0m       \u001b[0marguments\u001b[0m\u001b[0;34m[\u001b[0m\u001b[0;34m'training'\u001b[0m\u001b[0;34m]\u001b[0m \u001b[0;34m=\u001b[0m \u001b[0mtraining\u001b[0m\u001b[0;34m\u001b[0m\u001b[0;34m\u001b[0m\u001b[0m\n\u001b[1;32m    794\u001b[0m     \u001b[0;32mwith\u001b[0m \u001b[0mvariable_scope\u001b[0m\u001b[0;34m.\u001b[0m\u001b[0mvariable_creator_scope\u001b[0m\u001b[0;34m(\u001b[0m\u001b[0mself\u001b[0m\u001b[0;34m.\u001b[0m\u001b[0m_variable_creator\u001b[0m\u001b[0;34m)\u001b[0m\u001b[0;34m:\u001b[0m\u001b[0;34m\u001b[0m\u001b[0;34m\u001b[0m\u001b[0m\n\u001b[0;32m--> 795\u001b[0;31m       \u001b[0;32mreturn\u001b[0m \u001b[0mself\u001b[0m\u001b[0;34m.\u001b[0m\u001b[0mfunction\u001b[0m\u001b[0;34m(\u001b[0m\u001b[0minputs\u001b[0m\u001b[0;34m,\u001b[0m \u001b[0;34m**\u001b[0m\u001b[0marguments\u001b[0m\u001b[0;34m)\u001b[0m\u001b[0;34m\u001b[0m\u001b[0;34m\u001b[0m\u001b[0m\n\u001b[0m\u001b[1;32m    796\u001b[0m \u001b[0;34m\u001b[0m\u001b[0m\n\u001b[1;32m    797\u001b[0m   \u001b[0;32mdef\u001b[0m \u001b[0m_variable_creator\u001b[0m\u001b[0;34m(\u001b[0m\u001b[0mself\u001b[0m\u001b[0;34m,\u001b[0m \u001b[0mnext_creator\u001b[0m\u001b[0;34m,\u001b[0m \u001b[0;34m**\u001b[0m\u001b[0mkwargs\u001b[0m\u001b[0;34m)\u001b[0m\u001b[0;34m:\u001b[0m\u001b[0;34m\u001b[0m\u001b[0;34m\u001b[0m\u001b[0m\n",
            "\u001b[0;32m/usr/local/lib/python3.6/dist-packages/tensorflow_core/python/eager/def_function.py\u001b[0m in \u001b[0;36m__call__\u001b[0;34m(self, *args, **kwds)\u001b[0m\n\u001b[1;32m    455\u001b[0m \u001b[0;34m\u001b[0m\u001b[0m\n\u001b[1;32m    456\u001b[0m     \u001b[0mtracing_count\u001b[0m \u001b[0;34m=\u001b[0m \u001b[0mself\u001b[0m\u001b[0;34m.\u001b[0m\u001b[0m_get_tracing_count\u001b[0m\u001b[0;34m(\u001b[0m\u001b[0;34m)\u001b[0m\u001b[0;34m\u001b[0m\u001b[0;34m\u001b[0m\u001b[0m\n\u001b[0;32m--> 457\u001b[0;31m     \u001b[0mresult\u001b[0m \u001b[0;34m=\u001b[0m \u001b[0mself\u001b[0m\u001b[0;34m.\u001b[0m\u001b[0m_call\u001b[0m\u001b[0;34m(\u001b[0m\u001b[0;34m*\u001b[0m\u001b[0margs\u001b[0m\u001b[0;34m,\u001b[0m \u001b[0;34m**\u001b[0m\u001b[0mkwds\u001b[0m\u001b[0;34m)\u001b[0m\u001b[0;34m\u001b[0m\u001b[0;34m\u001b[0m\u001b[0m\n\u001b[0m\u001b[1;32m    458\u001b[0m     \u001b[0;32mif\u001b[0m \u001b[0mtracing_count\u001b[0m \u001b[0;34m==\u001b[0m \u001b[0mself\u001b[0m\u001b[0;34m.\u001b[0m\u001b[0m_get_tracing_count\u001b[0m\u001b[0;34m(\u001b[0m\u001b[0;34m)\u001b[0m\u001b[0;34m:\u001b[0m\u001b[0;34m\u001b[0m\u001b[0;34m\u001b[0m\u001b[0m\n\u001b[1;32m    459\u001b[0m       \u001b[0mself\u001b[0m\u001b[0;34m.\u001b[0m\u001b[0m_call_counter\u001b[0m\u001b[0;34m.\u001b[0m\u001b[0mcalled_without_tracing\u001b[0m\u001b[0;34m(\u001b[0m\u001b[0;34m)\u001b[0m\u001b[0;34m\u001b[0m\u001b[0;34m\u001b[0m\u001b[0m\n",
            "\u001b[0;32m/usr/local/lib/python3.6/dist-packages/tensorflow_core/python/eager/def_function.py\u001b[0m in \u001b[0;36m_call\u001b[0;34m(self, *args, **kwds)\u001b[0m\n\u001b[1;32m    501\u001b[0m       \u001b[0;31m# This is the first call of __call__, so we have to initialize.\u001b[0m\u001b[0;34m\u001b[0m\u001b[0;34m\u001b[0m\u001b[0;34m\u001b[0m\u001b[0m\n\u001b[1;32m    502\u001b[0m       \u001b[0minitializer_map\u001b[0m \u001b[0;34m=\u001b[0m \u001b[0mobject_identity\u001b[0m\u001b[0;34m.\u001b[0m\u001b[0mObjectIdentityDictionary\u001b[0m\u001b[0;34m(\u001b[0m\u001b[0;34m)\u001b[0m\u001b[0;34m\u001b[0m\u001b[0;34m\u001b[0m\u001b[0m\n\u001b[0;32m--> 503\u001b[0;31m       \u001b[0mself\u001b[0m\u001b[0;34m.\u001b[0m\u001b[0m_initialize\u001b[0m\u001b[0;34m(\u001b[0m\u001b[0margs\u001b[0m\u001b[0;34m,\u001b[0m \u001b[0mkwds\u001b[0m\u001b[0;34m,\u001b[0m \u001b[0madd_initializers_to\u001b[0m\u001b[0;34m=\u001b[0m\u001b[0minitializer_map\u001b[0m\u001b[0;34m)\u001b[0m\u001b[0;34m\u001b[0m\u001b[0;34m\u001b[0m\u001b[0m\n\u001b[0m\u001b[1;32m    504\u001b[0m     \u001b[0;32mfinally\u001b[0m\u001b[0;34m:\u001b[0m\u001b[0;34m\u001b[0m\u001b[0;34m\u001b[0m\u001b[0m\n\u001b[1;32m    505\u001b[0m       \u001b[0;31m# At this point we know that the initialization is complete (or less\u001b[0m\u001b[0;34m\u001b[0m\u001b[0;34m\u001b[0m\u001b[0;34m\u001b[0m\u001b[0m\n",
            "\u001b[0;32m/usr/local/lib/python3.6/dist-packages/tensorflow_core/python/eager/def_function.py\u001b[0m in \u001b[0;36m_initialize\u001b[0;34m(self, args, kwds, add_initializers_to)\u001b[0m\n\u001b[1;32m    406\u001b[0m     self._concrete_stateful_fn = (\n\u001b[1;32m    407\u001b[0m         self._stateful_fn._get_concrete_function_internal_garbage_collected(  # pylint: disable=protected-access\n\u001b[0;32m--> 408\u001b[0;31m             *args, **kwds))\n\u001b[0m\u001b[1;32m    409\u001b[0m \u001b[0;34m\u001b[0m\u001b[0m\n\u001b[1;32m    410\u001b[0m     \u001b[0;32mdef\u001b[0m \u001b[0minvalid_creator_scope\u001b[0m\u001b[0;34m(\u001b[0m\u001b[0;34m*\u001b[0m\u001b[0munused_args\u001b[0m\u001b[0;34m,\u001b[0m \u001b[0;34m**\u001b[0m\u001b[0munused_kwds\u001b[0m\u001b[0;34m)\u001b[0m\u001b[0;34m:\u001b[0m\u001b[0;34m\u001b[0m\u001b[0;34m\u001b[0m\u001b[0m\n",
            "\u001b[0;32m/usr/local/lib/python3.6/dist-packages/tensorflow_core/python/eager/function.py\u001b[0m in \u001b[0;36m_get_concrete_function_internal_garbage_collected\u001b[0;34m(self, *args, **kwargs)\u001b[0m\n\u001b[1;32m   1846\u001b[0m     \u001b[0;32mif\u001b[0m \u001b[0mself\u001b[0m\u001b[0;34m.\u001b[0m\u001b[0minput_signature\u001b[0m\u001b[0;34m:\u001b[0m\u001b[0;34m\u001b[0m\u001b[0;34m\u001b[0m\u001b[0m\n\u001b[1;32m   1847\u001b[0m       \u001b[0margs\u001b[0m\u001b[0;34m,\u001b[0m \u001b[0mkwargs\u001b[0m \u001b[0;34m=\u001b[0m \u001b[0;32mNone\u001b[0m\u001b[0;34m,\u001b[0m \u001b[0;32mNone\u001b[0m\u001b[0;34m\u001b[0m\u001b[0;34m\u001b[0m\u001b[0m\n\u001b[0;32m-> 1848\u001b[0;31m     \u001b[0mgraph_function\u001b[0m\u001b[0;34m,\u001b[0m \u001b[0m_\u001b[0m\u001b[0;34m,\u001b[0m \u001b[0m_\u001b[0m \u001b[0;34m=\u001b[0m \u001b[0mself\u001b[0m\u001b[0;34m.\u001b[0m\u001b[0m_maybe_define_function\u001b[0m\u001b[0;34m(\u001b[0m\u001b[0margs\u001b[0m\u001b[0;34m,\u001b[0m \u001b[0mkwargs\u001b[0m\u001b[0;34m)\u001b[0m\u001b[0;34m\u001b[0m\u001b[0;34m\u001b[0m\u001b[0m\n\u001b[0m\u001b[1;32m   1849\u001b[0m     \u001b[0;32mreturn\u001b[0m \u001b[0mgraph_function\u001b[0m\u001b[0;34m\u001b[0m\u001b[0;34m\u001b[0m\u001b[0m\n\u001b[1;32m   1850\u001b[0m \u001b[0;34m\u001b[0m\u001b[0m\n",
            "\u001b[0;32m/usr/local/lib/python3.6/dist-packages/tensorflow_core/python/eager/function.py\u001b[0m in \u001b[0;36m_maybe_define_function\u001b[0;34m(self, args, kwargs)\u001b[0m\n\u001b[1;32m   2148\u001b[0m         \u001b[0mgraph_function\u001b[0m \u001b[0;34m=\u001b[0m \u001b[0mself\u001b[0m\u001b[0;34m.\u001b[0m\u001b[0m_function_cache\u001b[0m\u001b[0;34m.\u001b[0m\u001b[0mprimary\u001b[0m\u001b[0;34m.\u001b[0m\u001b[0mget\u001b[0m\u001b[0;34m(\u001b[0m\u001b[0mcache_key\u001b[0m\u001b[0;34m,\u001b[0m \u001b[0;32mNone\u001b[0m\u001b[0;34m)\u001b[0m\u001b[0;34m\u001b[0m\u001b[0;34m\u001b[0m\u001b[0m\n\u001b[1;32m   2149\u001b[0m         \u001b[0;32mif\u001b[0m \u001b[0mgraph_function\u001b[0m \u001b[0;32mis\u001b[0m \u001b[0;32mNone\u001b[0m\u001b[0;34m:\u001b[0m\u001b[0;34m\u001b[0m\u001b[0;34m\u001b[0m\u001b[0m\n\u001b[0;32m-> 2150\u001b[0;31m           \u001b[0mgraph_function\u001b[0m \u001b[0;34m=\u001b[0m \u001b[0mself\u001b[0m\u001b[0;34m.\u001b[0m\u001b[0m_create_graph_function\u001b[0m\u001b[0;34m(\u001b[0m\u001b[0margs\u001b[0m\u001b[0;34m,\u001b[0m \u001b[0mkwargs\u001b[0m\u001b[0;34m)\u001b[0m\u001b[0;34m\u001b[0m\u001b[0;34m\u001b[0m\u001b[0m\n\u001b[0m\u001b[1;32m   2151\u001b[0m           \u001b[0mself\u001b[0m\u001b[0;34m.\u001b[0m\u001b[0m_function_cache\u001b[0m\u001b[0;34m.\u001b[0m\u001b[0mprimary\u001b[0m\u001b[0;34m[\u001b[0m\u001b[0mcache_key\u001b[0m\u001b[0;34m]\u001b[0m \u001b[0;34m=\u001b[0m \u001b[0mgraph_function\u001b[0m\u001b[0;34m\u001b[0m\u001b[0;34m\u001b[0m\u001b[0m\n\u001b[1;32m   2152\u001b[0m         \u001b[0;32mreturn\u001b[0m \u001b[0mgraph_function\u001b[0m\u001b[0;34m,\u001b[0m \u001b[0margs\u001b[0m\u001b[0;34m,\u001b[0m \u001b[0mkwargs\u001b[0m\u001b[0;34m\u001b[0m\u001b[0;34m\u001b[0m\u001b[0m\n",
            "\u001b[0;32m/usr/local/lib/python3.6/dist-packages/tensorflow_core/python/eager/function.py\u001b[0m in \u001b[0;36m_create_graph_function\u001b[0;34m(self, args, kwargs, override_flat_arg_shapes)\u001b[0m\n\u001b[1;32m   2039\u001b[0m             \u001b[0marg_names\u001b[0m\u001b[0;34m=\u001b[0m\u001b[0marg_names\u001b[0m\u001b[0;34m,\u001b[0m\u001b[0;34m\u001b[0m\u001b[0;34m\u001b[0m\u001b[0m\n\u001b[1;32m   2040\u001b[0m             \u001b[0moverride_flat_arg_shapes\u001b[0m\u001b[0;34m=\u001b[0m\u001b[0moverride_flat_arg_shapes\u001b[0m\u001b[0;34m,\u001b[0m\u001b[0;34m\u001b[0m\u001b[0;34m\u001b[0m\u001b[0m\n\u001b[0;32m-> 2041\u001b[0;31m             capture_by_value=self._capture_by_value),\n\u001b[0m\u001b[1;32m   2042\u001b[0m         \u001b[0mself\u001b[0m\u001b[0;34m.\u001b[0m\u001b[0m_function_attributes\u001b[0m\u001b[0;34m,\u001b[0m\u001b[0;34m\u001b[0m\u001b[0;34m\u001b[0m\u001b[0m\n\u001b[1;32m   2043\u001b[0m         \u001b[0;31m# Tell the ConcreteFunction to clean up its graph once it goes out of\u001b[0m\u001b[0;34m\u001b[0m\u001b[0;34m\u001b[0m\u001b[0;34m\u001b[0m\u001b[0m\n",
            "\u001b[0;32m/usr/local/lib/python3.6/dist-packages/tensorflow_core/python/framework/func_graph.py\u001b[0m in \u001b[0;36mfunc_graph_from_py_func\u001b[0;34m(name, python_func, args, kwargs, signature, func_graph, autograph, autograph_options, add_control_dependencies, arg_names, op_return_value, collections, capture_by_value, override_flat_arg_shapes)\u001b[0m\n\u001b[1;32m    913\u001b[0m                                           converted_func)\n\u001b[1;32m    914\u001b[0m \u001b[0;34m\u001b[0m\u001b[0m\n\u001b[0;32m--> 915\u001b[0;31m       \u001b[0mfunc_outputs\u001b[0m \u001b[0;34m=\u001b[0m \u001b[0mpython_func\u001b[0m\u001b[0;34m(\u001b[0m\u001b[0;34m*\u001b[0m\u001b[0mfunc_args\u001b[0m\u001b[0;34m,\u001b[0m \u001b[0;34m**\u001b[0m\u001b[0mfunc_kwargs\u001b[0m\u001b[0;34m)\u001b[0m\u001b[0;34m\u001b[0m\u001b[0;34m\u001b[0m\u001b[0m\n\u001b[0m\u001b[1;32m    916\u001b[0m \u001b[0;34m\u001b[0m\u001b[0m\n\u001b[1;32m    917\u001b[0m       \u001b[0;31m# invariant: `func_outputs` contains only Tensors, CompositeTensors,\u001b[0m\u001b[0;34m\u001b[0m\u001b[0;34m\u001b[0m\u001b[0;34m\u001b[0m\u001b[0m\n",
            "\u001b[0;32m/usr/local/lib/python3.6/dist-packages/tensorflow_core/python/eager/def_function.py\u001b[0m in \u001b[0;36mwrapped_fn\u001b[0;34m(*args, **kwds)\u001b[0m\n\u001b[1;32m    356\u001b[0m         \u001b[0;31m# __wrapped__ allows AutoGraph to swap in a converted function. We give\u001b[0m\u001b[0;34m\u001b[0m\u001b[0;34m\u001b[0m\u001b[0;34m\u001b[0m\u001b[0m\n\u001b[1;32m    357\u001b[0m         \u001b[0;31m# the function a weak reference to itself to avoid a reference cycle.\u001b[0m\u001b[0;34m\u001b[0m\u001b[0;34m\u001b[0m\u001b[0;34m\u001b[0m\u001b[0m\n\u001b[0;32m--> 358\u001b[0;31m         \u001b[0;32mreturn\u001b[0m \u001b[0mweak_wrapped_fn\u001b[0m\u001b[0;34m(\u001b[0m\u001b[0;34m)\u001b[0m\u001b[0;34m.\u001b[0m\u001b[0m__wrapped__\u001b[0m\u001b[0;34m(\u001b[0m\u001b[0;34m*\u001b[0m\u001b[0margs\u001b[0m\u001b[0;34m,\u001b[0m \u001b[0;34m**\u001b[0m\u001b[0mkwds\u001b[0m\u001b[0;34m)\u001b[0m\u001b[0;34m\u001b[0m\u001b[0;34m\u001b[0m\u001b[0m\n\u001b[0m\u001b[1;32m    359\u001b[0m     \u001b[0mweak_wrapped_fn\u001b[0m \u001b[0;34m=\u001b[0m \u001b[0mweakref\u001b[0m\u001b[0;34m.\u001b[0m\u001b[0mref\u001b[0m\u001b[0;34m(\u001b[0m\u001b[0mwrapped_fn\u001b[0m\u001b[0;34m)\u001b[0m\u001b[0;34m\u001b[0m\u001b[0;34m\u001b[0m\u001b[0m\n\u001b[1;32m    360\u001b[0m \u001b[0;34m\u001b[0m\u001b[0m\n",
            "\u001b[0;32m/usr/local/lib/python3.6/dist-packages/tensorflow_core/python/framework/func_graph.py\u001b[0m in \u001b[0;36mwrapper\u001b[0;34m(*args, **kwargs)\u001b[0m\n\u001b[1;32m    903\u001b[0m           \u001b[0;32mexcept\u001b[0m \u001b[0mException\u001b[0m \u001b[0;32mas\u001b[0m \u001b[0me\u001b[0m\u001b[0;34m:\u001b[0m  \u001b[0;31m# pylint:disable=broad-except\u001b[0m\u001b[0;34m\u001b[0m\u001b[0;34m\u001b[0m\u001b[0m\n\u001b[1;32m    904\u001b[0m             \u001b[0;32mif\u001b[0m \u001b[0mhasattr\u001b[0m\u001b[0;34m(\u001b[0m\u001b[0me\u001b[0m\u001b[0;34m,\u001b[0m \u001b[0;34m\"ag_error_metadata\"\u001b[0m\u001b[0;34m)\u001b[0m\u001b[0;34m:\u001b[0m\u001b[0;34m\u001b[0m\u001b[0;34m\u001b[0m\u001b[0m\n\u001b[0;32m--> 905\u001b[0;31m               \u001b[0;32mraise\u001b[0m \u001b[0me\u001b[0m\u001b[0;34m.\u001b[0m\u001b[0mag_error_metadata\u001b[0m\u001b[0;34m.\u001b[0m\u001b[0mto_exception\u001b[0m\u001b[0;34m(\u001b[0m\u001b[0me\u001b[0m\u001b[0;34m)\u001b[0m\u001b[0;34m\u001b[0m\u001b[0;34m\u001b[0m\u001b[0m\n\u001b[0m\u001b[1;32m    906\u001b[0m             \u001b[0;32melse\u001b[0m\u001b[0;34m:\u001b[0m\u001b[0;34m\u001b[0m\u001b[0;34m\u001b[0m\u001b[0m\n\u001b[1;32m    907\u001b[0m               \u001b[0;32mraise\u001b[0m\u001b[0;34m\u001b[0m\u001b[0;34m\u001b[0m\u001b[0m\n",
            "\u001b[0;31mNotImplementedError\u001b[0m: in converted code:\n\n    <ipython-input-78-43babbd2cea1>:8 get_key_pts  *\n        img = np.array(img)\n    /usr/local/lib/python3.6/dist-packages/tensorflow_core/python/autograph/impl/api.py:396 converted_call\n        return py_builtins.overload_of(f)(*args)\n    /usr/local/lib/python3.6/dist-packages/tensorflow_core/python/framework/ops.py:736 __array__\n        \" array.\".format(self.name))\n\n    NotImplementedError: Cannot convert a symbolic Tensor (img:0) to a numpy array.\n"
          ]
        }
      ]
    },
    {
      "cell_type": "code",
      "metadata": {
        "id": "RzUn0FWkVxck",
        "colab_type": "code",
        "colab": {
          "base_uri": "https://localhost:8080/",
          "height": 145
        },
        "outputId": "6892faea-35df-4aaa-90da-295b29da04db"
      },
      "source": [
        ""
      ],
      "execution_count": 58,
      "outputs": [
        {
          "output_type": "execute_result",
          "data": {
            "text/plain": [
              "array([[ 80,  96,  96, ...,  72,  80,  48],\n",
              "       [ 80,  80,  80, ..., 112, 143,  64],\n",
              "       [ 80,  64,  64, ..., 147, 175,  96],\n",
              "       ...,\n",
              "       [ 84, 100, 116, ..., 146, 140,  48],\n",
              "       [ 96, 143, 128, ..., 203, 175,  64],\n",
              "       [ 96, 128, 128, ..., 251, 191, 112]], dtype=uint8)"
            ]
          },
          "metadata": {
            "tags": []
          },
          "execution_count": 58
        }
      ]
    }
  ]
}