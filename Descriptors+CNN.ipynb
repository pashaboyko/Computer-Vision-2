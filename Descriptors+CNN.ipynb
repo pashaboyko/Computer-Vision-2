{
  "nbformat": 4,
  "nbformat_minor": 0,
  "metadata": {
    "kernelspec": {
      "name": "python3",
      "display_name": "Python 3"
    },
    "language_info": {
      "codemirror_mode": {
        "name": "ipython",
        "version": 3
      },
      "file_extension": ".py",
      "mimetype": "text/x-python",
      "name": "python",
      "nbconvert_exporter": "python",
      "pygments_lexer": "ipython3",
      "version": "3.6.5"
    },
    "colab": {
      "name": "Descriptors+CNN.ipynb",
      "provenance": [],
      "include_colab_link": true
    },
    "accelerator": "GPU"
  },
  "cells": [
    {
      "cell_type": "markdown",
      "metadata": {
        "id": "view-in-github",
        "colab_type": "text"
      },
      "source": [
        "<a href=\"https://colab.research.google.com/github/tupoylogin/CVPR_Lab_2/blob/master/Descriptors%2BCNN.ipynb\" target=\"_parent\"><img src=\"https://colab.research.google.com/assets/colab-badge.svg\" alt=\"Open In Colab\"/></a>"
      ]
    },
    {
      "cell_type": "code",
      "metadata": {
        "id": "BBR7zwB_F_eq",
        "colab_type": "code",
        "colab": {
          "base_uri": "https://localhost:8080/",
          "height": 717
        },
        "outputId": "bcb41989-413a-4af1-a395-b2bf55aa5e77"
      },
      "source": [
        "!pip install tensorflow==1.15.0\n",
        "!pip install opencv-python==3.4.2.16\n",
        "!pip install opencv-contrib-python==3.4.2.16"
      ],
      "execution_count": 1,
      "outputs": [
        {
          "output_type": "stream",
          "text": [
            "Requirement already satisfied: tensorflow==1.15.0 in /usr/local/lib/python3.6/dist-packages (1.15.0)\n",
            "Requirement already satisfied: wrapt>=1.11.1 in /usr/local/lib/python3.6/dist-packages (from tensorflow==1.15.0) (1.11.2)\n",
            "Requirement already satisfied: astor>=0.6.0 in /usr/local/lib/python3.6/dist-packages (from tensorflow==1.15.0) (0.8.1)\n",
            "Requirement already satisfied: keras-preprocessing>=1.0.5 in /usr/local/lib/python3.6/dist-packages (from tensorflow==1.15.0) (1.1.0)\n",
            "Requirement already satisfied: wheel>=0.26 in /usr/local/lib/python3.6/dist-packages (from tensorflow==1.15.0) (0.33.6)\n",
            "Requirement already satisfied: protobuf>=3.6.1 in /usr/local/lib/python3.6/dist-packages (from tensorflow==1.15.0) (3.10.0)\n",
            "Requirement already satisfied: absl-py>=0.7.0 in /usr/local/lib/python3.6/dist-packages (from tensorflow==1.15.0) (0.8.1)\n",
            "Requirement already satisfied: tensorflow-estimator==1.15.1 in /usr/local/lib/python3.6/dist-packages (from tensorflow==1.15.0) (1.15.1)\n",
            "Requirement already satisfied: tensorboard<1.16.0,>=1.15.0 in /usr/local/lib/python3.6/dist-packages (from tensorflow==1.15.0) (1.15.0)\n",
            "Requirement already satisfied: grpcio>=1.8.6 in /usr/local/lib/python3.6/dist-packages (from tensorflow==1.15.0) (1.15.0)\n",
            "Requirement already satisfied: keras-applications>=1.0.8 in /usr/local/lib/python3.6/dist-packages (from tensorflow==1.15.0) (1.0.8)\n",
            "Requirement already satisfied: six>=1.10.0 in /usr/local/lib/python3.6/dist-packages (from tensorflow==1.15.0) (1.12.0)\n",
            "Requirement already satisfied: google-pasta>=0.1.6 in /usr/local/lib/python3.6/dist-packages (from tensorflow==1.15.0) (0.1.8)\n",
            "Requirement already satisfied: numpy<2.0,>=1.16.0 in /usr/local/lib/python3.6/dist-packages (from tensorflow==1.15.0) (1.17.4)\n",
            "Requirement already satisfied: gast==0.2.2 in /usr/local/lib/python3.6/dist-packages (from tensorflow==1.15.0) (0.2.2)\n",
            "Requirement already satisfied: termcolor>=1.1.0 in /usr/local/lib/python3.6/dist-packages (from tensorflow==1.15.0) (1.1.0)\n",
            "Requirement already satisfied: opt-einsum>=2.3.2 in /usr/local/lib/python3.6/dist-packages (from tensorflow==1.15.0) (3.1.0)\n",
            "Requirement already satisfied: setuptools in /usr/local/lib/python3.6/dist-packages (from protobuf>=3.6.1->tensorflow==1.15.0) (42.0.2)\n",
            "Requirement already satisfied: markdown>=2.6.8 in /usr/local/lib/python3.6/dist-packages (from tensorboard<1.16.0,>=1.15.0->tensorflow==1.15.0) (3.1.1)\n",
            "Requirement already satisfied: werkzeug>=0.11.15 in /usr/local/lib/python3.6/dist-packages (from tensorboard<1.16.0,>=1.15.0->tensorflow==1.15.0) (0.16.0)\n",
            "Requirement already satisfied: h5py in /usr/local/lib/python3.6/dist-packages (from keras-applications>=1.0.8->tensorflow==1.15.0) (2.8.0)\n",
            "Collecting opencv-python==3.4.2.16\n",
            "\u001b[?25l  Downloading https://files.pythonhosted.org/packages/fa/7d/5042b668a8ed41d2a80b8c172f5efcd572e3c046c75ae029407e19b7fc68/opencv_python-3.4.2.16-cp36-cp36m-manylinux1_x86_64.whl (25.0MB)\n",
            "\u001b[K     |████████████████████████████████| 25.0MB 1.7MB/s \n",
            "\u001b[?25hRequirement already satisfied: numpy>=1.11.3 in /usr/local/lib/python3.6/dist-packages (from opencv-python==3.4.2.16) (1.17.4)\n",
            "\u001b[31mERROR: albumentations 0.1.12 has requirement imgaug<0.2.7,>=0.2.5, but you'll have imgaug 0.2.9 which is incompatible.\u001b[0m\n",
            "Installing collected packages: opencv-python\n",
            "  Found existing installation: opencv-python 4.1.2.30\n",
            "    Uninstalling opencv-python-4.1.2.30:\n",
            "      Successfully uninstalled opencv-python-4.1.2.30\n",
            "Successfully installed opencv-python-3.4.2.16\n",
            "Collecting opencv-contrib-python==3.4.2.16\n",
            "\u001b[?25l  Downloading https://files.pythonhosted.org/packages/08/f1/66330f4042c4fb3b2d77a159db8e8916d9cdecc29bc8c1f56bc7f8a9bec9/opencv_contrib_python-3.4.2.16-cp36-cp36m-manylinux1_x86_64.whl (30.6MB)\n",
            "\u001b[K     |████████████████████████████████| 30.6MB 1.7MB/s \n",
            "\u001b[?25hRequirement already satisfied: numpy>=1.11.3 in /usr/local/lib/python3.6/dist-packages (from opencv-contrib-python==3.4.2.16) (1.17.4)\n",
            "Installing collected packages: opencv-contrib-python\n",
            "  Found existing installation: opencv-contrib-python 4.1.2.30\n",
            "    Uninstalling opencv-contrib-python-4.1.2.30:\n",
            "      Successfully uninstalled opencv-contrib-python-4.1.2.30\n",
            "Successfully installed opencv-contrib-python-3.4.2.16\n"
          ],
          "name": "stdout"
        }
      ]
    },
    {
      "cell_type": "code",
      "metadata": {
        "id": "O2Udjg0lF3MC",
        "colab_type": "code",
        "colab": {}
      },
      "source": [
        "import sklearn\n",
        "import cv2\n",
        "import pandas as pd\n",
        "import numpy as np"
      ],
      "execution_count": 0,
      "outputs": []
    },
    {
      "cell_type": "code",
      "metadata": {
        "id": "plJcFYYqF3MI",
        "colab_type": "code",
        "colab": {}
      },
      "source": [
        "descriptors={'surf': cv2.xfeatures2d.SURF_create().detect,\n",
        "             'sift': cv2.xfeatures2d.SIFT_create().detect,\n",
        "             'akaze': cv2.AKAZE_create().detect}"
      ],
      "execution_count": 0,
      "outputs": []
    },
    {
      "cell_type": "code",
      "metadata": {
        "id": "K9LlL6vZIM8S",
        "colab_type": "code",
        "colab": {
          "base_uri": "https://localhost:8080/",
          "height": 119
        },
        "outputId": "95953d8f-b34e-4b0e-b210-5717e46beaed"
      },
      "source": [
        "! git clone https://github.com/tupoylogin/CVPR_Lab_2.git"
      ],
      "execution_count": 4,
      "outputs": [
        {
          "output_type": "stream",
          "text": [
            "Cloning into 'CVPR_Lab_2'...\n",
            "remote: Enumerating objects: 51937, done.\u001b[K\n",
            "remote: Total 51937 (delta 0), reused 0 (delta 0), pack-reused 51937\u001b[K\n",
            "Receiving objects: 100% (51937/51937), 299.48 MiB | 3.36 MiB/s, done.\n",
            "Resolving deltas: 100% (3/3), done.\n",
            "Checking out files: 100% (51893/51893), done.\n"
          ],
          "name": "stdout"
        }
      ]
    },
    {
      "cell_type": "code",
      "metadata": {
        "id": "_DNRX1Z6F3ML",
        "colab_type": "code",
        "colab": {}
      },
      "source": [
        "import os\n",
        "\n",
        "basePath = os.path.join(os.curdir,'CVPR_Lab_2')\n",
        "\n",
        "def load_split(basePath, csvPath):\n",
        "    \n",
        "    from sklearn.utils import shuffle\n",
        "    \n",
        "    # initialize the list of data and labels\n",
        "    data = []\n",
        "    labels = []\n",
        " \n",
        "    # load the contents of the CSV file, remove the first line (since\n",
        "    # it contains the CSV header), and shuffle the rows (otherwise\n",
        "    # all examples of a particular class will be in sequential order)\n",
        "    \n",
        "    rows_df = pd.read_csv(csvPath)[['ClassId','Path']]\n",
        "    \n",
        "    rows = shuffle(rows_df.values)\n",
        "    # loop over the rows of the CSV file\n",
        "    for row in rows:\n",
        "        # check to see if we should show a status update\n",
        "        (label, imagePath) = row[0], row[1]\n",
        " \n",
        "        # derive the full path to the image file and load it\n",
        "        imagePath = os.path.sep.join([basePath, imagePath])\n",
        "        image = cv2.imread(imagePath)\n",
        "        image = cv2.cvtColor(image, cv2.COLOR_BGR2GRAY)\n",
        "        \n",
        "        # resize the image to be 64x64 pixels, ignoring aspect ratio,\n",
        "        # and then perform Histogram Equalization\n",
        "        image = cv2.resize(image, (64, 64), interpolation=cv2.INTER_AREA)\n",
        "        #image = cv2.equalizeHist(image) \n",
        "        # update the list of data and labels, respectively\n",
        "        data.append(image)\n",
        "        labels.append(int(label))\n",
        " \n",
        "    # convert the data and labels to NumPy arrays\n",
        "    data = np.array(data)\n",
        "    \n",
        " \n",
        "    # return a tuple of the data and labels\n",
        "    return rows_df, data"
      ],
      "execution_count": 0,
      "outputs": []
    },
    {
      "cell_type": "code",
      "metadata": {
        "id": "Ipo8Bn4CF3MN",
        "colab_type": "code",
        "colab": {}
      },
      "source": [
        "train, data = load_split(basePath,os.path.join(basePath, 'Train.csv'))"
      ],
      "execution_count": 0,
      "outputs": []
    },
    {
      "cell_type": "code",
      "metadata": {
        "id": "hp257U99F3MQ",
        "colab_type": "code",
        "colab": {
          "base_uri": "https://localhost:8080/",
          "height": 419
        },
        "outputId": "92c60404-cf2b-41b0-e8ff-65fb690bc02d"
      },
      "source": [
        "train"
      ],
      "execution_count": 65,
      "outputs": [
        {
          "output_type": "execute_result",
          "data": {
            "text/html": [
              "<div>\n",
              "<style scoped>\n",
              "    .dataframe tbody tr th:only-of-type {\n",
              "        vertical-align: middle;\n",
              "    }\n",
              "\n",
              "    .dataframe tbody tr th {\n",
              "        vertical-align: top;\n",
              "    }\n",
              "\n",
              "    .dataframe thead th {\n",
              "        text-align: right;\n",
              "    }\n",
              "</style>\n",
              "<table border=\"1\" class=\"dataframe\">\n",
              "  <thead>\n",
              "    <tr style=\"text-align: right;\">\n",
              "      <th></th>\n",
              "      <th>ClassId</th>\n",
              "      <th>Path</th>\n",
              "    </tr>\n",
              "  </thead>\n",
              "  <tbody>\n",
              "    <tr>\n",
              "      <th>0</th>\n",
              "      <td>20</td>\n",
              "      <td>Train/20/00020_00000_00000.png</td>\n",
              "    </tr>\n",
              "    <tr>\n",
              "      <th>1</th>\n",
              "      <td>20</td>\n",
              "      <td>Train/20/00020_00000_00001.png</td>\n",
              "    </tr>\n",
              "    <tr>\n",
              "      <th>2</th>\n",
              "      <td>20</td>\n",
              "      <td>Train/20/00020_00000_00002.png</td>\n",
              "    </tr>\n",
              "    <tr>\n",
              "      <th>3</th>\n",
              "      <td>20</td>\n",
              "      <td>Train/20/00020_00000_00003.png</td>\n",
              "    </tr>\n",
              "    <tr>\n",
              "      <th>4</th>\n",
              "      <td>20</td>\n",
              "      <td>Train/20/00020_00000_00004.png</td>\n",
              "    </tr>\n",
              "    <tr>\n",
              "      <th>...</th>\n",
              "      <td>...</td>\n",
              "      <td>...</td>\n",
              "    </tr>\n",
              "    <tr>\n",
              "      <th>39204</th>\n",
              "      <td>42</td>\n",
              "      <td>Train/42/00042_00007_00025.png</td>\n",
              "    </tr>\n",
              "    <tr>\n",
              "      <th>39205</th>\n",
              "      <td>42</td>\n",
              "      <td>Train/42/00042_00007_00026.png</td>\n",
              "    </tr>\n",
              "    <tr>\n",
              "      <th>39206</th>\n",
              "      <td>42</td>\n",
              "      <td>Train/42/00042_00007_00027.png</td>\n",
              "    </tr>\n",
              "    <tr>\n",
              "      <th>39207</th>\n",
              "      <td>42</td>\n",
              "      <td>Train/42/00042_00007_00028.png</td>\n",
              "    </tr>\n",
              "    <tr>\n",
              "      <th>39208</th>\n",
              "      <td>42</td>\n",
              "      <td>Train/42/00042_00007_00029.png</td>\n",
              "    </tr>\n",
              "  </tbody>\n",
              "</table>\n",
              "<p>39209 rows × 2 columns</p>\n",
              "</div>"
            ],
            "text/plain": [
              "       ClassId                            Path\n",
              "0           20  Train/20/00020_00000_00000.png\n",
              "1           20  Train/20/00020_00000_00001.png\n",
              "2           20  Train/20/00020_00000_00002.png\n",
              "3           20  Train/20/00020_00000_00003.png\n",
              "4           20  Train/20/00020_00000_00004.png\n",
              "...        ...                             ...\n",
              "39204       42  Train/42/00042_00007_00025.png\n",
              "39205       42  Train/42/00042_00007_00026.png\n",
              "39206       42  Train/42/00042_00007_00027.png\n",
              "39207       42  Train/42/00042_00007_00028.png\n",
              "39208       42  Train/42/00042_00007_00029.png\n",
              "\n",
              "[39209 rows x 2 columns]"
            ]
          },
          "metadata": {
            "tags": []
          },
          "execution_count": 65
        }
      ]
    },
    {
      "cell_type": "code",
      "metadata": {
        "id": "8nBPJoQjF3MT",
        "colab_type": "code",
        "colab": {}
      },
      "source": [
        "%matplotlib inline\n",
        "\n",
        "import matplotlib.pyplot as plt\n",
        "import seaborn as sns"
      ],
      "execution_count": 0,
      "outputs": []
    },
    {
      "cell_type": "code",
      "metadata": {
        "id": "axYrL0W1F3MW",
        "colab_type": "code",
        "colab": {
          "base_uri": "https://localhost:8080/",
          "height": 793
        },
        "outputId": "448cd501-8ef6-484d-80b7-618f58fa6b92"
      },
      "source": [
        "sns.set()\n",
        "with sns.axes_style({'axes.grid': False}):\n",
        "    for idx, image in enumerate(data[:3]): \n",
        "        plt.imshow(data[idx],'gray'),plt.show()\n",
        "        plt.figure(idx+1)"
      ],
      "execution_count": 68,
      "outputs": [
        {
          "output_type": "display_data",
          "data": {
            "image/png": "[encoded data removed]",
            "text/plain": [
              "<Figure size 432x288 with 1 Axes>"
            ]
          },
          "metadata": {
            "tags": []
          }
        },
        {
          "output_type": "display_data",
          "data": {
            "image/png": "[encoded data removed]",
            "text/plain": [
              "<Figure size 432x288 with 1 Axes>"
            ]
          },
          "metadata": {
            "tags": []
          }
        },
        {
          "output_type": "display_data",
          "data": {
            "image/png": "[encoded data removed]",
            "text/plain": [
              "<Figure size 432x288 with 1 Axes>"
            ]
          },
          "metadata": {
            "tags": []
          }
        },
        {
          "output_type": "display_data",
          "data": {
            "text/plain": [
              "<Figure size 432x288 with 0 Axes>"
            ]
          },
          "metadata": {
            "tags": []
          }
        }
      ]
    },
    {
      "cell_type": "code",
      "metadata": {
        "id": "wGFCShR-F3MY",
        "colab_type": "code",
        "colab": {}
      },
      "source": [
        "def get_key_pts(algorithm,img,verbose=False):\n",
        "    #gray = cv2.cvtColor(img,cv2.COLOR_RGB2GRAY)\n",
        "    kp = algorithm(img,None)\n",
        "    return np.array([kp[idx].pt for idx in range(0, len(kp))]).flatten()\n",
        "\n",
        "def to_same_dims(array, dim):\n",
        "  # kp = np.zeros([len(array),len(max(array,key = lambda x: len(x)))])\n",
        "  kp = np.zeros([len(array),dim])\n",
        "  for i,j in enumerate(array):\n",
        "      if len(j)>dim:\n",
        "        kp[i][0:dim] = j[0:dim]\n",
        "      else:\n",
        "        kp[i][0:len(j)] = j\n",
        "  return kp"
      ],
      "execution_count": 0,
      "outputs": []
    },
    {
      "cell_type": "code",
      "metadata": {
        "id": "31o9ig9PF3Mb",
        "colab_type": "code",
        "colab": {}
      },
      "source": [
        "keyp_array_train = []\n",
        "for img in data:\n",
        "    kp = get_key_pts(descriptors['sift'], img)\n",
        "    keyp_array_train.append(kp)\n",
        "\n",
        "keyp_array_train = to_same_dims(keyp_array_train,256)"
      ],
      "execution_count": 0,
      "outputs": []
    },
    {
      "cell_type": "code",
      "metadata": {
        "id": "1q-cLAzWF3Mj",
        "colab_type": "code",
        "colab": {}
      },
      "source": [
        "from sklearn.preprocessing import MinMaxScaler"
      ],
      "execution_count": 0,
      "outputs": []
    },
    {
      "cell_type": "code",
      "metadata": {
        "id": "2HdHwDZ8F3Mn",
        "colab_type": "code",
        "colab": {}
      },
      "source": [
        "test, test_data = load_split(basePath,os.path.join(basePath, 'Test.csv'))\n",
        "\n",
        "keyp_array_test = []\n",
        "for img in test_data:\n",
        "    kp = get_key_pts(descriptors['sift'], img)\n",
        "    keyp_array_test.append(kp)\n",
        "\n",
        "keyp_array_test = to_same_dims(keyp_array_test,256)"
      ],
      "execution_count": 0,
      "outputs": []
    },
    {
      "cell_type": "code",
      "metadata": {
        "id": "fBu2w1lrOOoV",
        "colab_type": "code",
        "colab": {}
      },
      "source": [
        "sc = MinMaxScaler()\n",
        "\n",
        "keyp_array_train = sc.fit_transform(keyp_array_train)\n",
        "keyp_array_test = sc.transform(keyp_array_test)"
      ],
      "execution_count": 0,
      "outputs": []
    },
    {
      "cell_type": "code",
      "metadata": {
        "id": "Mn4TzmXMS3qZ",
        "colab_type": "code",
        "colab": {
          "base_uri": "https://localhost:8080/",
          "height": 68
        },
        "outputId": "66a95c07-47a8-4c7c-beff-d0232de5c561"
      },
      "source": [
        "import keras\n",
        "from keras.optimizers import Adam, RMSprop\n",
        "from keras.utils import to_categorical\n",
        "from sklearn.metrics import classification_report\n",
        "from keras.preprocessing.image import ImageDataGenerator\n",
        "from keras.models import Sequential\n",
        "from keras.layers import Dense, Dropout, Activation, Flatten, BatchNormalization\n",
        "from keras.layers import Conv2D, MaxPooling2D\n",
        "\n",
        "batch_size = 32\n",
        "num_classes = train['ClassId'].unique().shape[0]\n",
        "\n",
        "# The data, split between train and test sets:\n",
        "print('x_train shape:', data.shape)\n",
        "print(data.shape[0], 'train samples')\n",
        "print(test_data.shape[0], 'test samples')\n",
        "\n",
        "height, width = data.shape[1:]\n",
        "# Convert class vectors to binary class matrices.\n",
        "y_train = keras.utils.to_categorical(train['ClassId'].values, num_classes)\n",
        "y_test = keras.utils.to_categorical(test['ClassId'].values, num_classes)\n",
        "x_train = data.astype('float32')\n",
        "x_test = test_data.astype('float32')\n",
        "x_train /= 255\n",
        "x_test /= 255\n",
        "x_train = x_train.reshape((x_train.shape[0], height, width,1))\n",
        "x_test = x_test.reshape((x_test.shape[0], height, width,1))\n",
        "\n",
        "classTotals = y_train.sum(axis=0)\n",
        "classWeight = classTotals.max() / classTotals\n",
        "\n",
        "def load_model(x_train, x_test, num_classes):\n",
        "\n",
        "  model = Sequential()\n",
        "  model.add(Conv2D(16, (5, 5), padding='same', \n",
        "                   input_shape=x_train.shape[1:]))\n",
        "  model.add(Activation('relu'))\n",
        "  model.add(MaxPooling2D(pool_size=(2, 2)))\t\n",
        "\n",
        "  model.add(Conv2D(32, (3, 3), padding=\"same\"))\n",
        "  model.add(Activation(\"relu\"))\n",
        "  model.add(BatchNormalization(axis=-1))\n",
        "  model.add(MaxPooling2D(pool_size=(2, 2)))\n",
        "\n",
        "  model.add(Conv2D(32, (3, 3), padding=\"same\"))\n",
        "  model.add(Activation(\"relu\"))\n",
        "  model.add(BatchNormalization(axis=-1))\n",
        "  model.add(MaxPooling2D(pool_size=(2, 2)))\n",
        "\n",
        "  model.add(Conv2D(64, (3, 3), padding=\"same\"))\n",
        "  model.add(Activation(\"relu\"))\n",
        "  model.add(BatchNormalization(axis=-1))\n",
        "  model.add(MaxPooling2D(pool_size=(2, 2)))\n",
        "  model.add(Conv2D(64, (3, 3), padding=\"same\"))\n",
        "  model.add(Activation(\"relu\"))\n",
        "  model.add(BatchNormalization(axis=-1))\n",
        "  model.add(MaxPooling2D(pool_size=(2, 2)))\n",
        "\n",
        "  model.add(Flatten())\n",
        "\n",
        "  model.add(Dense(256))\n",
        "  model.add(Activation(\"relu\"))\n",
        "  model.add(Dropout(0.5))\n",
        "\n",
        "  model.add(Dense(256))\n",
        "  model.add(Activation(\"relu\"))\n",
        "  model.add(Dropout(0.5))\n",
        " \n",
        "\t# softmax classifier\n",
        "  model.add(Dense(num_classes))\n",
        "  model.add(Activation(\"softmax\"))\n",
        "\n",
        "  # initiate RMSprop optimizer\n",
        "  opt = Adam(lr=1e-3, decay=1e-3)\n",
        "\n",
        "  # Let's train the model using RMSprop\n",
        "  model.compile(loss='categorical_crossentropy',\n",
        "                optimizer=opt,\n",
        "                metrics=['accuracy'])\n",
        "  \n",
        "  return model\n",
        "\n",
        "def train_model(model, x_train, y_train, x_test, y_test, epochs,\n",
        "                class_weights, data_augmentation=True):\n",
        "  if not data_augmentation:\n",
        "      print('Not using data augmentation.')\n",
        "      history = model.fit(x_train, y_train,\n",
        "                batch_size=64,\n",
        "                epochs=epochs,\n",
        "                validation_data=(x_test, y_test),\n",
        "                shuffle=True)\n",
        "  else:\n",
        "      print('Using real-time data augmentation.')\n",
        "      # This will do preprocessing and realtime data augmentation:\n",
        "      datagen = ImageDataGenerator(\n",
        "          rotation_range=10,\n",
        "          zoom_range=0.15,\n",
        "\t        width_shift_range=0.1,\n",
        "\t        height_shift_range=0.1,\n",
        "\t        shear_range=0.15,\n",
        "\t        horizontal_flip=False,\n",
        "\t        vertical_flip=False,\n",
        "\t        fill_mode=\"nearest\")\n",
        "\n",
        "      history = model.fit_generator(datagen.flow(x_train, y_train,\n",
        "                                      batch_size=batch_size),\n",
        "                          epochs=epochs, class_weight=class_weights,\n",
        "                          validation_data=(x_test, y_test),\n",
        "                          workers=4)\n",
        "      \n",
        "      return history"
      ],
      "execution_count": 74,
      "outputs": [
        {
          "output_type": "stream",
          "text": [
            "x_train shape: (39209, 64, 64)\n",
            "39209 train samples\n",
            "12630 test samples\n"
          ],
          "name": "stdout"
        }
      ]
    },
    {
      "cell_type": "code",
      "metadata": {
        "id": "ZwYuK81baUQa",
        "colab_type": "code",
        "colab": {}
      },
      "source": [
        "model = load_model(x_train=x_train, x_test=x_test, num_classes=num_classes)"
      ],
      "execution_count": 0,
      "outputs": []
    },
    {
      "cell_type": "code",
      "metadata": {
        "id": "vXC20-4seUjx",
        "colab_type": "code",
        "colab": {
          "base_uri": "https://localhost:8080/",
          "height": 1000
        },
        "outputId": "f6beb025-6051-4425-c407-725d61f25bc4"
      },
      "source": [
        "model.summary()"
      ],
      "execution_count": 76,
      "outputs": [
        {
          "output_type": "stream",
          "text": [
            "Model: \"sequential_13\"\n",
            "_________________________________________________________________\n",
            "Layer (type)                 Output Shape              Param #   \n",
            "=================================================================\n",
            "conv2d_51 (Conv2D)           (None, 64, 64, 16)        416       \n",
            "_________________________________________________________________\n",
            "activation_76 (Activation)   (None, 64, 64, 16)        0         \n",
            "_________________________________________________________________\n",
            "max_pooling2d_32 (MaxPooling (None, 32, 32, 16)        0         \n",
            "_________________________________________________________________\n",
            "conv2d_52 (Conv2D)           (None, 32, 32, 32)        4640      \n",
            "_________________________________________________________________\n",
            "activation_77 (Activation)   (None, 32, 32, 32)        0         \n",
            "_________________________________________________________________\n",
            "batch_normalization_57 (Batc (None, 32, 32, 32)        128       \n",
            "_________________________________________________________________\n",
            "max_pooling2d_33 (MaxPooling (None, 16, 16, 32)        0         \n",
            "_________________________________________________________________\n",
            "conv2d_53 (Conv2D)           (None, 16, 16, 32)        9248      \n",
            "_________________________________________________________________\n",
            "activation_78 (Activation)   (None, 16, 16, 32)        0         \n",
            "_________________________________________________________________\n",
            "batch_normalization_58 (Batc (None, 16, 16, 32)        128       \n",
            "_________________________________________________________________\n",
            "max_pooling2d_34 (MaxPooling (None, 8, 8, 32)          0         \n",
            "_________________________________________________________________\n",
            "conv2d_54 (Conv2D)           (None, 8, 8, 64)          18496     \n",
            "_________________________________________________________________\n",
            "activation_79 (Activation)   (None, 8, 8, 64)          0         \n",
            "_________________________________________________________________\n",
            "batch_normalization_59 (Batc (None, 8, 8, 64)          256       \n",
            "_________________________________________________________________\n",
            "max_pooling2d_35 (MaxPooling (None, 4, 4, 64)          0         \n",
            "_________________________________________________________________\n",
            "conv2d_55 (Conv2D)           (None, 4, 4, 64)          36928     \n",
            "_________________________________________________________________\n",
            "activation_80 (Activation)   (None, 4, 4, 64)          0         \n",
            "_________________________________________________________________\n",
            "batch_normalization_60 (Batc (None, 4, 4, 64)          256       \n",
            "_________________________________________________________________\n",
            "max_pooling2d_36 (MaxPooling (None, 2, 2, 64)          0         \n",
            "_________________________________________________________________\n",
            "flatten_11 (Flatten)         (None, 256)               0         \n",
            "_________________________________________________________________\n",
            "dense_26 (Dense)             (None, 256)               65792     \n",
            "_________________________________________________________________\n",
            "activation_81 (Activation)   (None, 256)               0         \n",
            "_________________________________________________________________\n",
            "dropout_18 (Dropout)         (None, 256)               0         \n",
            "_________________________________________________________________\n",
            "dense_27 (Dense)             (None, 256)               65792     \n",
            "_________________________________________________________________\n",
            "activation_82 (Activation)   (None, 256)               0         \n",
            "_________________________________________________________________\n",
            "dropout_19 (Dropout)         (None, 256)               0         \n",
            "_________________________________________________________________\n",
            "dense_28 (Dense)             (None, 43)                11051     \n",
            "_________________________________________________________________\n",
            "activation_83 (Activation)   (None, 43)                0         \n",
            "=================================================================\n",
            "Total params: 213,131\n",
            "Trainable params: 212,747\n",
            "Non-trainable params: 384\n",
            "_________________________________________________________________\n"
          ],
          "name": "stdout"
        }
      ]
    },
    {
      "cell_type": "code",
      "metadata": {
        "id": "FPGapNYYV8Nk",
        "colab_type": "code",
        "colab": {
          "base_uri": "https://localhost:8080/",
          "height": 1000
        },
        "outputId": "762ca9cd-efe6-46bd-89d8-727bbe5862f5"
      },
      "source": [
        "history = train_model(model, x_train, y_train, \n",
        "                      x_test, y_test, epochs=30, class_weights=classWeight, data_augmentation=True)"
      ],
      "execution_count": 77,
      "outputs": [
        {
          "output_type": "stream",
          "text": [
            "Using real-time data augmentation.\n",
            "Epoch 1/30\n",
            "1226/1226 [==============================] - 43s 35ms/step - loss: 3.5865 - acc: 0.0522 - val_loss: 3.4933 - val_acc: 0.0583\n",
            "Epoch 2/30\n",
            "1226/1226 [==============================] - 40s 32ms/step - loss: 3.5203 - acc: 0.0538 - val_loss: 3.4913 - val_acc: 0.0595\n",
            "Epoch 3/30\n",
            "1226/1226 [==============================] - 40s 33ms/step - loss: 3.5078 - acc: 0.0561 - val_loss: 3.4865 - val_acc: 0.0555\n",
            "Epoch 4/30\n",
            "1226/1226 [==============================] - 40s 33ms/step - loss: 3.5016 - acc: 0.0561 - val_loss: 3.4734 - val_acc: 0.0581\n",
            "Epoch 5/30\n",
            "1226/1226 [==============================] - 40s 33ms/step - loss: 3.4953 - acc: 0.0563 - val_loss: 3.4667 - val_acc: 0.0601\n",
            "Epoch 6/30\n",
            "1226/1226 [==============================] - 40s 32ms/step - loss: 3.4918 - acc: 0.0564 - val_loss: 3.4642 - val_acc: 0.0593\n",
            "Epoch 7/30\n",
            "1226/1226 [==============================] - 40s 33ms/step - loss: 3.4904 - acc: 0.0556 - val_loss: 3.4637 - val_acc: 0.0587\n",
            "Epoch 8/30\n",
            "1226/1226 [==============================] - 40s 32ms/step - loss: 3.4898 - acc: 0.0570 - val_loss: 3.4634 - val_acc: 0.0599\n",
            "Epoch 9/30\n",
            "1226/1226 [==============================] - 40s 33ms/step - loss: 3.4907 - acc: 0.0552 - val_loss: 3.4635 - val_acc: 0.0597\n",
            "Epoch 10/30\n",
            "1226/1226 [==============================] - 40s 33ms/step - loss: 3.4907 - acc: 0.0557 - val_loss: 3.4634 - val_acc: 0.0593\n",
            "Epoch 11/30\n",
            "1226/1226 [==============================] - 41s 33ms/step - loss: 3.4901 - acc: 0.0573 - val_loss: 3.4637 - val_acc: 0.0608\n",
            "Epoch 12/30\n",
            "1226/1226 [==============================] - 41s 33ms/step - loss: 3.4895 - acc: 0.0554 - val_loss: 3.4632 - val_acc: 0.0596\n",
            "Epoch 13/30\n",
            "1226/1226 [==============================] - 41s 33ms/step - loss: 3.4892 - acc: 0.0564 - val_loss: 3.4632 - val_acc: 0.0599\n",
            "Epoch 14/30\n",
            "1226/1226 [==============================] - 40s 33ms/step - loss: 3.4893 - acc: 0.0564 - val_loss: 3.4635 - val_acc: 0.0587\n",
            "Epoch 15/30\n",
            "1226/1226 [==============================] - 40s 33ms/step - loss: 3.4898 - acc: 0.0575 - val_loss: 3.4634 - val_acc: 0.0586\n",
            "Epoch 16/30\n",
            "1226/1226 [==============================] - 40s 33ms/step - loss: 3.4885 - acc: 0.0549 - val_loss: 3.4632 - val_acc: 0.0588\n",
            "Epoch 17/30\n",
            "1226/1226 [==============================] - 40s 33ms/step - loss: 3.4888 - acc: 0.0563 - val_loss: 3.4635 - val_acc: 0.0584\n",
            "Epoch 18/30\n",
            "1226/1226 [==============================] - 41s 33ms/step - loss: 3.4895 - acc: 0.0559 - val_loss: 3.4633 - val_acc: 0.0584\n",
            "Epoch 19/30\n",
            "1226/1226 [==============================] - 41s 33ms/step - loss: 3.4886 - acc: 0.0561 - val_loss: 3.4632 - val_acc: 0.0607\n",
            "Epoch 20/30\n",
            "1226/1226 [==============================] - 40s 33ms/step - loss: 3.4889 - acc: 0.0565 - val_loss: 3.4634 - val_acc: 0.0586\n",
            "Epoch 21/30\n",
            "1226/1226 [==============================] - 41s 33ms/step - loss: 3.4888 - acc: 0.0559 - val_loss: 3.4635 - val_acc: 0.0591\n",
            "Epoch 22/30\n",
            "1226/1226 [==============================] - 41s 33ms/step - loss: 3.4888 - acc: 0.0573 - val_loss: 3.4636 - val_acc: 0.0587\n",
            "Epoch 23/30\n",
            "1226/1226 [==============================] - 41s 33ms/step - loss: 3.4879 - acc: 0.0582 - val_loss: 3.4638 - val_acc: 0.0589\n",
            "Epoch 24/30\n",
            "1226/1226 [==============================] - 40s 33ms/step - loss: 3.4885 - acc: 0.0575 - val_loss: 3.4635 - val_acc: 0.0581\n",
            "Epoch 25/30\n",
            "1226/1226 [==============================] - 41s 33ms/step - loss: 3.4886 - acc: 0.0578 - val_loss: 3.4635 - val_acc: 0.0582\n",
            "Epoch 26/30\n",
            "1226/1226 [==============================] - 41s 34ms/step - loss: 3.4886 - acc: 0.0550 - val_loss: 3.4634 - val_acc: 0.0580\n",
            "Epoch 27/30\n",
            "1226/1226 [==============================] - 41s 34ms/step - loss: 3.4885 - acc: 0.0551 - val_loss: 3.4634 - val_acc: 0.0590\n",
            "Epoch 28/30\n",
            "1226/1226 [==============================] - 40s 33ms/step - loss: 3.4883 - acc: 0.0575 - val_loss: 3.4636 - val_acc: 0.0577\n",
            "Epoch 29/30\n",
            "1226/1226 [==============================] - 40s 33ms/step - loss: 3.4875 - acc: 0.0592 - val_loss: 3.4638 - val_acc: 0.0587\n",
            "Epoch 30/30\n",
            "1226/1226 [==============================] - 40s 33ms/step - loss: 3.4894 - acc: 0.0531 - val_loss: 3.4636 - val_acc: 0.0576\n"
          ],
          "name": "stdout"
        }
      ]
    },
    {
      "cell_type": "code",
      "metadata": {
        "id": "svzlIOFnbJpx",
        "colab_type": "code",
        "colab": {
          "base_uri": "https://localhost:8080/",
          "height": 34
        },
        "outputId": "afa68420-a217-4a96-a9fe-5ffe09b48225"
      },
      "source": [
        "# Score trained model.\n",
        "scores = model.evaluate(x_test, y_test, verbose=1)\n",
        "print('Test loss:', scores[0])\n",
        "print('Test accuracy:', scores[1])"
      ],
      "execution_count": 69,
      "outputs": [
        {
          "output_type": "execute_result",
          "data": {
            "text/plain": [
              "(64, 64)"
            ]
          },
          "metadata": {
            "tags": []
          },
          "execution_count": 69
        }
      ]
    },
    {
      "cell_type": "code",
      "metadata": {
        "id": "kcXTT0fDjaXg",
        "colab_type": "code",
        "colab": {
          "base_uri": "https://localhost:8080/",
          "height": 1000
        },
        "outputId": "67bb5409-f3ac-4c6c-975e-0c46450be68a"
      },
      "source": [
        ""
      ],
      "execution_count": 84,
      "outputs": [
        {
          "output_type": "execute_result",
          "data": {
            "text/plain": [
              "array([[[[0.8862745 ],\n",
              "         [0.8862745 ],\n",
              "         [0.8980392 ],\n",
              "         ...,\n",
              "         [0.42352942],\n",
              "         [0.44705883],\n",
              "         [0.4509804 ]],\n",
              "\n",
              "        [[0.8862745 ],\n",
              "         [0.8901961 ],\n",
              "         [0.90588236],\n",
              "         ...,\n",
              "         [0.4       ],\n",
              "         [0.41960785],\n",
              "         [0.42352942]],\n",
              "\n",
              "        [[0.8980392 ],\n",
              "         [0.90588236],\n",
              "         [0.92156863],\n",
              "         ...,\n",
              "         [0.33333334],\n",
              "         [0.34901962],\n",
              "         [0.35686275]],\n",
              "\n",
              "        ...,\n",
              "\n",
              "        [[1.        ],\n",
              "         [1.        ],\n",
              "         [1.        ],\n",
              "         ...,\n",
              "         [0.13333334],\n",
              "         [0.11372549],\n",
              "         [0.11372549]],\n",
              "\n",
              "        [[1.        ],\n",
              "         [1.        ],\n",
              "         [1.        ],\n",
              "         ...,\n",
              "         [0.14901961],\n",
              "         [0.11372549],\n",
              "         [0.11372549]],\n",
              "\n",
              "        [[1.        ],\n",
              "         [1.        ],\n",
              "         [1.        ],\n",
              "         ...,\n",
              "         [0.14901961],\n",
              "         [0.13333334],\n",
              "         [0.11372549]]],\n",
              "\n",
              "\n",
              "       [[[0.47843137],\n",
              "         [0.47843137],\n",
              "         [0.42745098],\n",
              "         ...,\n",
              "         [0.5176471 ],\n",
              "         [0.5294118 ],\n",
              "         [0.5294118 ]],\n",
              "\n",
              "        [[0.47843137],\n",
              "         [0.47843137],\n",
              "         [0.42745098],\n",
              "         ...,\n",
              "         [0.5176471 ],\n",
              "         [0.5294118 ],\n",
              "         [0.5294118 ]],\n",
              "\n",
              "        [[0.42745098],\n",
              "         [0.42745098],\n",
              "         [0.38431373],\n",
              "         ...,\n",
              "         [0.52156866],\n",
              "         [0.5176471 ],\n",
              "         [0.5176471 ]],\n",
              "\n",
              "        ...,\n",
              "\n",
              "        [[0.38431373],\n",
              "         [0.38431373],\n",
              "         [0.45490196],\n",
              "         ...,\n",
              "         [0.78039217],\n",
              "         [0.78431374],\n",
              "         [0.78431374]],\n",
              "\n",
              "        [[0.42745098],\n",
              "         [0.42745098],\n",
              "         [0.49411765],\n",
              "         ...,\n",
              "         [0.7647059 ],\n",
              "         [0.75686276],\n",
              "         [0.75686276]],\n",
              "\n",
              "        [[0.42745098],\n",
              "         [0.42745098],\n",
              "         [0.49411765],\n",
              "         ...,\n",
              "         [0.7647059 ],\n",
              "         [0.75686276],\n",
              "         [0.75686276]]],\n",
              "\n",
              "\n",
              "       [[[0.9607843 ],\n",
              "         [0.9411765 ],\n",
              "         [0.9607843 ],\n",
              "         ...,\n",
              "         [0.99607843],\n",
              "         [1.        ],\n",
              "         [1.        ]],\n",
              "\n",
              "        [[0.972549  ],\n",
              "         [0.9607843 ],\n",
              "         [0.9607843 ],\n",
              "         ...,\n",
              "         [0.99215686],\n",
              "         [0.99215686],\n",
              "         [0.99215686]],\n",
              "\n",
              "        [[0.9607843 ],\n",
              "         [0.972549  ],\n",
              "         [0.9607843 ],\n",
              "         ...,\n",
              "         [0.99215686],\n",
              "         [0.99215686],\n",
              "         [0.99607843]],\n",
              "\n",
              "        ...,\n",
              "\n",
              "        [[0.10588235],\n",
              "         [0.14117648],\n",
              "         [0.14117648],\n",
              "         ...,\n",
              "         [0.04313726],\n",
              "         [0.04313726],\n",
              "         [0.10588235]],\n",
              "\n",
              "        [[0.10588235],\n",
              "         [0.14117648],\n",
              "         [0.14117648],\n",
              "         ...,\n",
              "         [0.10588235],\n",
              "         [0.10588235],\n",
              "         [0.14117648]],\n",
              "\n",
              "        [[0.14117648],\n",
              "         [0.14117648],\n",
              "         [0.16078432],\n",
              "         ...,\n",
              "         [0.04313726],\n",
              "         [0.04313726],\n",
              "         [0.04313726]]],\n",
              "\n",
              "\n",
              "       ...,\n",
              "\n",
              "\n",
              "       [[[0.45882353],\n",
              "         [0.4862745 ],\n",
              "         [0.59607846],\n",
              "         ...,\n",
              "         [0.9490196 ],\n",
              "         [0.9490196 ],\n",
              "         [0.9490196 ]],\n",
              "\n",
              "        [[0.45882353],\n",
              "         [0.4862745 ],\n",
              "         [0.5882353 ],\n",
              "         ...,\n",
              "         [0.95686275],\n",
              "         [0.9529412 ],\n",
              "         [0.9529412 ]],\n",
              "\n",
              "        [[0.45882353],\n",
              "         [0.4862745 ],\n",
              "         [0.5803922 ],\n",
              "         ...,\n",
              "         [1.        ],\n",
              "         [0.98039216],\n",
              "         [0.98039216]],\n",
              "\n",
              "        ...,\n",
              "\n",
              "        [[0.78431374],\n",
              "         [0.8       ],\n",
              "         [0.8627451 ],\n",
              "         ...,\n",
              "         [0.8117647 ],\n",
              "         [0.8       ],\n",
              "         [0.79607844]],\n",
              "\n",
              "        [[0.78431374],\n",
              "         [0.8       ],\n",
              "         [0.87058824],\n",
              "         ...,\n",
              "         [0.827451  ],\n",
              "         [0.83137256],\n",
              "         [0.83137256]],\n",
              "\n",
              "        [[0.78431374],\n",
              "         [0.8       ],\n",
              "         [0.8745098 ],\n",
              "         ...,\n",
              "         [0.8352941 ],\n",
              "         [0.84313726],\n",
              "         [0.84313726]]],\n",
              "\n",
              "\n",
              "       [[[0.47058824],\n",
              "         [0.4509804 ],\n",
              "         [0.36078432],\n",
              "         ...,\n",
              "         [0.73333335],\n",
              "         [0.69803923],\n",
              "         [0.6862745 ]],\n",
              "\n",
              "        [[0.5137255 ],\n",
              "         [0.47058824],\n",
              "         [0.36078432],\n",
              "         ...,\n",
              "         [0.77254903],\n",
              "         [0.73333335],\n",
              "         [0.72156864]],\n",
              "\n",
              "        [[0.6       ],\n",
              "         [0.56078434],\n",
              "         [0.39215687],\n",
              "         ...,\n",
              "         [0.8352941 ],\n",
              "         [0.80784315],\n",
              "         [0.79607844]],\n",
              "\n",
              "        ...,\n",
              "\n",
              "        [[0.14509805],\n",
              "         [0.18039216],\n",
              "         [0.3019608 ],\n",
              "         ...,\n",
              "         [0.3019608 ],\n",
              "         [0.5294118 ],\n",
              "         [0.5921569 ]],\n",
              "\n",
              "        [[0.18039216],\n",
              "         [0.2       ],\n",
              "         [0.32156864],\n",
              "         ...,\n",
              "         [0.36078432],\n",
              "         [0.6       ],\n",
              "         [0.65882355]],\n",
              "\n",
              "        [[0.2       ],\n",
              "         [0.21960784],\n",
              "         [0.32156864],\n",
              "         ...,\n",
              "         [0.3764706 ],\n",
              "         [0.6313726 ],\n",
              "         [0.6862745 ]]],\n",
              "\n",
              "\n",
              "       [[[0.9529412 ],\n",
              "         [0.91764706],\n",
              "         [0.44313726],\n",
              "         ...,\n",
              "         [0.54509807],\n",
              "         [0.5921569 ],\n",
              "         [0.5921569 ]],\n",
              "\n",
              "        [[0.9372549 ],\n",
              "         [0.89411765],\n",
              "         [0.3882353 ],\n",
              "         ...,\n",
              "         [0.54509807],\n",
              "         [0.54509807],\n",
              "         [0.5921569 ]],\n",
              "\n",
              "        [[0.8       ],\n",
              "         [0.77254903],\n",
              "         [0.2509804 ],\n",
              "         ...,\n",
              "         [0.54509807],\n",
              "         [0.49803922],\n",
              "         [0.49803922]],\n",
              "\n",
              "        ...,\n",
              "\n",
              "        [[0.49803922],\n",
              "         [0.49803922],\n",
              "         [0.44313726],\n",
              "         ...,\n",
              "         [0.5921569 ],\n",
              "         [0.49803922],\n",
              "         [0.49803922]],\n",
              "\n",
              "        [[0.44313726],\n",
              "         [0.44313726],\n",
              "         [0.3882353 ],\n",
              "         ...,\n",
              "         [0.49803922],\n",
              "         [0.44313726],\n",
              "         [0.44313726]],\n",
              "\n",
              "        [[0.44313726],\n",
              "         [0.44313726],\n",
              "         [0.3882353 ],\n",
              "         ...,\n",
              "         [0.49803922],\n",
              "         [0.44313726],\n",
              "         [0.44313726]]]], dtype=float32)"
            ]
          },
          "metadata": {
            "tags": []
          },
          "execution_count": 84
        }
      ]
    }
  ]
}