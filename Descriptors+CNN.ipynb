{
  "nbformat": 4,
  "nbformat_minor": 0,
  "metadata": {
    "kernelspec": {
      "name": "python3",
      "display_name": "Python 3"
    },
    "language_info": {
      "codemirror_mode": {
        "name": "ipython",
        "version": 3
      },
      "file_extension": ".py",
      "mimetype": "text/x-python",
      "name": "python",
      "nbconvert_exporter": "python",
      "pygments_lexer": "ipython3",
      "version": "3.6.5"
    },
    "colab": {
      "name": "Descriptors+CNN.ipynb",
      "provenance": [],
      "include_colab_link": true
    },
    "accelerator": "GPU"
  },
  "cells": [
    {
      "cell_type": "markdown",
      "metadata": {
        "id": "view-in-github",
        "colab_type": "text"
      },
      "source": [
        "<a href=\"https://colab.research.google.com/github/tupoylogin/CVPR_Lab_2/blob/master/Descriptors%2BCNN.ipynb\" target=\"_parent\"><img src=\"https://colab.research.google.com/assets/colab-badge.svg\" alt=\"Open In Colab\"/></a>"
      ]
    },
    {
      "cell_type": "code",
      "metadata": {
        "id": "BBR7zwB_F_eq",
        "colab_type": "code",
        "colab": {
          "base_uri": "https://localhost:8080/",
          "height": 717
        },
        "outputId": "4bfc0857-cb20-428f-b9fa-1200c5780119"
      },
      "source": [
        "!pip install tensorflow==1.15.0\n",
        "!pip install opencv-python==3.4.2.16\n",
        "!pip install opencv-contrib-python==3.4.2.16"
      ],
      "execution_count": 1,
      "outputs": [
        {
          "output_type": "stream",
          "text": [
            "Requirement already satisfied: tensorflow==1.15.0 in /usr/local/lib/python3.6/dist-packages (1.15.0)\n",
            "Requirement already satisfied: numpy<2.0,>=1.16.0 in /usr/local/lib/python3.6/dist-packages (from tensorflow==1.15.0) (1.17.4)\n",
            "Requirement already satisfied: gast==0.2.2 in /usr/local/lib/python3.6/dist-packages (from tensorflow==1.15.0) (0.2.2)\n",
            "Requirement already satisfied: protobuf>=3.6.1 in /usr/local/lib/python3.6/dist-packages (from tensorflow==1.15.0) (3.10.0)\n",
            "Requirement already satisfied: astor>=0.6.0 in /usr/local/lib/python3.6/dist-packages (from tensorflow==1.15.0) (0.8.1)\n",
            "Requirement already satisfied: google-pasta>=0.1.6 in /usr/local/lib/python3.6/dist-packages (from tensorflow==1.15.0) (0.1.8)\n",
            "Requirement already satisfied: keras-preprocessing>=1.0.5 in /usr/local/lib/python3.6/dist-packages (from tensorflow==1.15.0) (1.1.0)\n",
            "Requirement already satisfied: tensorboard<1.16.0,>=1.15.0 in /usr/local/lib/python3.6/dist-packages (from tensorflow==1.15.0) (1.15.0)\n",
            "Requirement already satisfied: grpcio>=1.8.6 in /usr/local/lib/python3.6/dist-packages (from tensorflow==1.15.0) (1.15.0)\n",
            "Requirement already satisfied: termcolor>=1.1.0 in /usr/local/lib/python3.6/dist-packages (from tensorflow==1.15.0) (1.1.0)\n",
            "Requirement already satisfied: opt-einsum>=2.3.2 in /usr/local/lib/python3.6/dist-packages (from tensorflow==1.15.0) (3.1.0)\n",
            "Requirement already satisfied: tensorflow-estimator==1.15.1 in /usr/local/lib/python3.6/dist-packages (from tensorflow==1.15.0) (1.15.1)\n",
            "Requirement already satisfied: wheel>=0.26 in /usr/local/lib/python3.6/dist-packages (from tensorflow==1.15.0) (0.33.6)\n",
            "Requirement already satisfied: wrapt>=1.11.1 in /usr/local/lib/python3.6/dist-packages (from tensorflow==1.15.0) (1.11.2)\n",
            "Requirement already satisfied: absl-py>=0.7.0 in /usr/local/lib/python3.6/dist-packages (from tensorflow==1.15.0) (0.8.1)\n",
            "Requirement already satisfied: keras-applications>=1.0.8 in /usr/local/lib/python3.6/dist-packages (from tensorflow==1.15.0) (1.0.8)\n",
            "Requirement already satisfied: six>=1.10.0 in /usr/local/lib/python3.6/dist-packages (from tensorflow==1.15.0) (1.12.0)\n",
            "Requirement already satisfied: setuptools in /usr/local/lib/python3.6/dist-packages (from protobuf>=3.6.1->tensorflow==1.15.0) (42.0.2)\n",
            "Requirement already satisfied: markdown>=2.6.8 in /usr/local/lib/python3.6/dist-packages (from tensorboard<1.16.0,>=1.15.0->tensorflow==1.15.0) (3.1.1)\n",
            "Requirement already satisfied: werkzeug>=0.11.15 in /usr/local/lib/python3.6/dist-packages (from tensorboard<1.16.0,>=1.15.0->tensorflow==1.15.0) (0.16.0)\n",
            "Requirement already satisfied: h5py in /usr/local/lib/python3.6/dist-packages (from keras-applications>=1.0.8->tensorflow==1.15.0) (2.8.0)\n",
            "Collecting opencv-python==3.4.2.16\n",
            "\u001b[?25l  Downloading https://files.pythonhosted.org/packages/fa/7d/5042b668a8ed41d2a80b8c172f5efcd572e3c046c75ae029407e19b7fc68/opencv_python-3.4.2.16-cp36-cp36m-manylinux1_x86_64.whl (25.0MB)\n",
            "\u001b[K     |████████████████████████████████| 25.0MB 9.6MB/s \n",
            "\u001b[?25hRequirement already satisfied: numpy>=1.11.3 in /usr/local/lib/python3.6/dist-packages (from opencv-python==3.4.2.16) (1.17.4)\n",
            "\u001b[31mERROR: albumentations 0.1.12 has requirement imgaug<0.2.7,>=0.2.5, but you'll have imgaug 0.2.9 which is incompatible.\u001b[0m\n",
            "Installing collected packages: opencv-python\n",
            "  Found existing installation: opencv-python 4.1.2.30\n",
            "    Uninstalling opencv-python-4.1.2.30:\n",
            "      Successfully uninstalled opencv-python-4.1.2.30\n",
            "Successfully installed opencv-python-3.4.2.16\n",
            "Collecting opencv-contrib-python==3.4.2.16\n",
            "\u001b[?25l  Downloading https://files.pythonhosted.org/packages/08/f1/66330f4042c4fb3b2d77a159db8e8916d9cdecc29bc8c1f56bc7f8a9bec9/opencv_contrib_python-3.4.2.16-cp36-cp36m-manylinux1_x86_64.whl (30.6MB)\n",
            "\u001b[K     |████████████████████████████████| 30.6MB 32.1MB/s \n",
            "\u001b[?25hRequirement already satisfied: numpy>=1.11.3 in /usr/local/lib/python3.6/dist-packages (from opencv-contrib-python==3.4.2.16) (1.17.4)\n",
            "Installing collected packages: opencv-contrib-python\n",
            "  Found existing installation: opencv-contrib-python 4.1.2.30\n",
            "    Uninstalling opencv-contrib-python-4.1.2.30:\n",
            "      Successfully uninstalled opencv-contrib-python-4.1.2.30\n",
            "Successfully installed opencv-contrib-python-3.4.2.16\n"
          ],
          "name": "stdout"
        }
      ]
    },
    {
      "cell_type": "code",
      "metadata": {
        "id": "O2Udjg0lF3MC",
        "colab_type": "code",
        "colab": {}
      },
      "source": [
        "import sklearn\n",
        "import cv2\n",
        "import pandas as pd\n",
        "import numpy as np"
      ],
      "execution_count": 0,
      "outputs": []
    },
    {
      "cell_type": "code",
      "metadata": {
        "id": "plJcFYYqF3MI",
        "colab_type": "code",
        "colab": {}
      },
      "source": [
        "descriptors={'surf': cv2.xfeatures2d.SURF_create().detect,\n",
        "             'sift': cv2.xfeatures2d.SIFT_create().detect,\n",
        "             'akaze': cv2.AKAZE_create().detect}"
      ],
      "execution_count": 0,
      "outputs": []
    },
    {
      "cell_type": "code",
      "metadata": {
        "id": "K9LlL6vZIM8S",
        "colab_type": "code",
        "colab": {
          "base_uri": "https://localhost:8080/",
          "height": 153
        },
        "outputId": "1932760e-131e-43f5-a083-a547190afe57"
      },
      "source": [
        "! git clone https://github.com/tupoylogin/CVPR_Lab_2.git"
      ],
      "execution_count": 4,
      "outputs": [
        {
          "output_type": "stream",
          "text": [
            "Cloning into 'CVPR_Lab_2'...\n",
            "remote: Enumerating objects: 3, done.\u001b[K\n",
            "remote: Counting objects: 100% (3/3), done.\u001b[K\n",
            "remote: Compressing objects: 100% (3/3), done.\u001b[K\n",
            "remote: Total 51940 (delta 0), reused 0 (delta 0), pack-reused 51937\u001b[K\n",
            "Receiving objects: 100% (51940/51940), 299.52 MiB | 37.30 MiB/s, done.\n",
            "Resolving deltas: 100% (3/3), done.\n",
            "Checking out files: 100% (51893/51893), done.\n"
          ],
          "name": "stdout"
        }
      ]
    },
    {
      "cell_type": "code",
      "metadata": {
        "id": "_DNRX1Z6F3ML",
        "colab_type": "code",
        "colab": {}
      },
      "source": [
        "import os\n",
        "\n",
        "basePath = os.path.join(os.curdir,'CVPR_Lab_2')\n",
        "\n",
        "def load_split(basePath, csvPath):\n",
        "    \n",
        "    from sklearn.utils import shuffle\n",
        "    \n",
        "    # initialize the list of data and labels\n",
        "    data = []\n",
        "    labels = []\n",
        " \n",
        "    # load the contents of the CSV file, remove the first line (since\n",
        "    # it contains the CSV header), and shuffle the rows (otherwise\n",
        "    # all examples of a particular class will be in sequential order)\n",
        "    \n",
        "    rows_df = pd.read_csv(csvPath)[['ClassId','Path']]\n",
        "    \n",
        "    rows = shuffle(rows_df.values)\n",
        "    # loop over the rows of the CSV file\n",
        "    for row in rows:\n",
        "        # check to see if we should show a status update\n",
        "        (label, imagePath) = row[0], row[1]\n",
        " \n",
        "        # derive the full path to the image file and load it\n",
        "        imagePath = os.path.sep.join([basePath, imagePath])\n",
        "        image = cv2.imread(imagePath)\n",
        "         # resize the image to be 64x64 pixels, ignoring aspect ratio,\n",
        "        image = cv2.resize(image, (64, 64), interpolation=cv2.INTER_AREA)\n",
        "        #image = cv2.cvtColor(image, cv2.COLOR_BGR2RGB)        \n",
        "        img_yuv = cv2.cvtColor(image, cv2.COLOR_BGR2YUV)\n",
        "        # and then perform Histogram Equalization\n",
        "        img_yuv[:,:,0] = cv2.equalizeHist(img_yuv[:,:,0])\n",
        "        # convert the YUV image back to RGB format\n",
        "        image = cv2.cvtColor(img_yuv, cv2.COLOR_YUV2RGB)\n",
        "       \n",
        "        \n",
        "        \n",
        "        # update the list of data and labels, respectively\n",
        "        data.append(image)\n",
        "        labels.append(int(label))\n",
        " \n",
        "    # convert the data and labels to NumPy arrays\n",
        "    data = np.array(data)\n",
        "    \n",
        " \n",
        "    # return a tuple of the data and labels\n",
        "    return rows_df, data"
      ],
      "execution_count": 0,
      "outputs": []
    },
    {
      "cell_type": "code",
      "metadata": {
        "id": "Ipo8Bn4CF3MN",
        "colab_type": "code",
        "colab": {}
      },
      "source": [
        "train, data = load_split(basePath,os.path.join(basePath, 'Train.csv'))"
      ],
      "execution_count": 0,
      "outputs": []
    },
    {
      "cell_type": "code",
      "metadata": {
        "id": "hp257U99F3MQ",
        "colab_type": "code",
        "colab": {
          "base_uri": "https://localhost:8080/",
          "height": 204
        },
        "outputId": "0bed3bb8-9715-4088-8b2e-2179d9085e12"
      },
      "source": [
        "train.head(5)"
      ],
      "execution_count": 7,
      "outputs": [
        {
          "output_type": "execute_result",
          "data": {
            "text/html": [
              "<div>\n",
              "<style scoped>\n",
              "    .dataframe tbody tr th:only-of-type {\n",
              "        vertical-align: middle;\n",
              "    }\n",
              "\n",
              "    .dataframe tbody tr th {\n",
              "        vertical-align: top;\n",
              "    }\n",
              "\n",
              "    .dataframe thead th {\n",
              "        text-align: right;\n",
              "    }\n",
              "</style>\n",
              "<table border=\"1\" class=\"dataframe\">\n",
              "  <thead>\n",
              "    <tr style=\"text-align: right;\">\n",
              "      <th></th>\n",
              "      <th>ClassId</th>\n",
              "      <th>Path</th>\n",
              "    </tr>\n",
              "  </thead>\n",
              "  <tbody>\n",
              "    <tr>\n",
              "      <th>0</th>\n",
              "      <td>20</td>\n",
              "      <td>Train/20/00020_00000_00000.png</td>\n",
              "    </tr>\n",
              "    <tr>\n",
              "      <th>1</th>\n",
              "      <td>20</td>\n",
              "      <td>Train/20/00020_00000_00001.png</td>\n",
              "    </tr>\n",
              "    <tr>\n",
              "      <th>2</th>\n",
              "      <td>20</td>\n",
              "      <td>Train/20/00020_00000_00002.png</td>\n",
              "    </tr>\n",
              "    <tr>\n",
              "      <th>3</th>\n",
              "      <td>20</td>\n",
              "      <td>Train/20/00020_00000_00003.png</td>\n",
              "    </tr>\n",
              "    <tr>\n",
              "      <th>4</th>\n",
              "      <td>20</td>\n",
              "      <td>Train/20/00020_00000_00004.png</td>\n",
              "    </tr>\n",
              "  </tbody>\n",
              "</table>\n",
              "</div>"
            ],
            "text/plain": [
              "   ClassId                            Path\n",
              "0       20  Train/20/00020_00000_00000.png\n",
              "1       20  Train/20/00020_00000_00001.png\n",
              "2       20  Train/20/00020_00000_00002.png\n",
              "3       20  Train/20/00020_00000_00003.png\n",
              "4       20  Train/20/00020_00000_00004.png"
            ]
          },
          "metadata": {
            "tags": []
          },
          "execution_count": 7
        }
      ]
    },
    {
      "cell_type": "code",
      "metadata": {
        "id": "8nBPJoQjF3MT",
        "colab_type": "code",
        "colab": {}
      },
      "source": [
        "%matplotlib inline\n",
        "\n",
        "import matplotlib.pyplot as plt\n",
        "import seaborn as sns"
      ],
      "execution_count": 0,
      "outputs": []
    },
    {
      "cell_type": "code",
      "metadata": {
        "id": "axYrL0W1F3MW",
        "colab_type": "code",
        "colab": {
          "base_uri": "https://localhost:8080/",
          "height": 1000
        },
        "outputId": "be81d4ba-e263-472b-ef31-e2a97d94bca4"
      },
      "source": [
        "sns.set()\n",
        "with sns.axes_style({'axes.grid': False}):\n",
        "    for idx, image in enumerate(data[500:506]): \n",
        "        plt.imshow(data[idx]),plt.show()\n",
        "        plt.figure(idx+1)"
      ],
      "execution_count": 9,
      "outputs": [
        {
          "output_type": "display_data",
          "data": {
            "image/png": "[encoded data removed]",
            "text/plain": [
              "<Figure size 432x288 with 1 Axes>"
            ]
          },
          "metadata": {
            "tags": []
          }
        },
        {
          "output_type": "display_data",
          "data": {
            "image/png": "[encoded data removed]",
            "text/plain": [
              "<Figure size 432x288 with 1 Axes>"
            ]
          },
          "metadata": {
            "tags": []
          }
        },
        {
          "output_type": "display_data",
          "data": {
            "image/png": "[encoded data removed]",
            "text/plain": [
              "<Figure size 432x288 with 1 Axes>"
            ]
          },
          "metadata": {
            "tags": []
          }
        },
        {
          "output_type": "display_data",
          "data": {
            "image/png": "[encoded data removed]",
            "text/plain": [
              "<Figure size 432x288 with 1 Axes>"
            ]
          },
          "metadata": {
            "tags": []
          }
        },
        {
          "output_type": "display_data",
          "data": {
            "image/png": "[encoded data removed]",
            "text/plain": [
              "<Figure size 432x288 with 1 Axes>"
            ]
          },
          "metadata": {
            "tags": []
          }
        },
        {
          "output_type": "display_data",
          "data": {
            "image/png": "[encoded data removed]",
            "text/plain": [
              "<Figure size 432x288 with 1 Axes>"
            ]
          },
          "metadata": {
            "tags": []
          }
        },
        {
          "output_type": "display_data",
          "data": {
            "text/plain": [
              "<Figure size 432x288 with 0 Axes>"
            ]
          },
          "metadata": {
            "tags": []
          }
        }
      ]
    },
    {
      "cell_type": "code",
      "metadata": {
        "id": "wGFCShR-F3MY",
        "colab_type": "code",
        "colab": {}
      },
      "source": [
        "def get_key_pts(algorithm,img,verbose=False):\n",
        "    gray = cv2.cvtColor(img,cv2.COLOR_RGB2GRAY)\n",
        "    kp = algorithm(gray,None)\n",
        "    return np.array([kp[idx].pt for idx in range(0, len(kp))]).flatten()\n",
        "\n",
        "def to_same_dims(array, dim):\n",
        "  # kp = np.zeros([len(array),len(max(array,key = lambda x: len(x)))])\n",
        "  kp = np.zeros([len(array),dim])\n",
        "  for i,j in enumerate(array):\n",
        "      if len(j)>dim:\n",
        "        kp[i][0:dim] = j[0:dim]\n",
        "      else:\n",
        "        kp[i][0:len(j)] = j\n",
        "  return kp"
      ],
      "execution_count": 0,
      "outputs": []
    },
    {
      "cell_type": "code",
      "metadata": {
        "id": "31o9ig9PF3Mb",
        "colab_type": "code",
        "colab": {}
      },
      "source": [
        "keyp_array_train = []\n",
        "for img in data:\n",
        "    kp = get_key_pts(descriptors['sift'], img)\n",
        "    keyp_array_train.append(kp)\n",
        "\n",
        "keyp_array_train = to_same_dims(keyp_array_train,256)"
      ],
      "execution_count": 0,
      "outputs": []
    },
    {
      "cell_type": "code",
      "metadata": {
        "id": "1q-cLAzWF3Mj",
        "colab_type": "code",
        "colab": {}
      },
      "source": [
        "from sklearn.preprocessing import MinMaxScaler"
      ],
      "execution_count": 0,
      "outputs": []
    },
    {
      "cell_type": "code",
      "metadata": {
        "id": "2HdHwDZ8F3Mn",
        "colab_type": "code",
        "colab": {}
      },
      "source": [
        "test, test_data = load_split(basePath,os.path.join(basePath, 'Test.csv'))\n",
        "\n",
        "keyp_array_test = []\n",
        "for img in test_data:\n",
        "    kp = get_key_pts(descriptors['sift'], img)\n",
        "    keyp_array_test.append(kp)\n",
        "\n",
        "keyp_array_test = to_same_dims(keyp_array_test,256)"
      ],
      "execution_count": 0,
      "outputs": []
    },
    {
      "cell_type": "code",
      "metadata": {
        "id": "fBu2w1lrOOoV",
        "colab_type": "code",
        "colab": {}
      },
      "source": [
        "sc = MinMaxScaler()\n",
        "\n",
        "keyp_array_train = sc.fit_transform(keyp_array_train)\n",
        "keyp_array_test = sc.transform(keyp_array_test)"
      ],
      "execution_count": 0,
      "outputs": []
    },
    {
      "cell_type": "code",
      "metadata": {
        "id": "MLUGeTp85Aod",
        "colab_type": "code",
        "colab": {
          "base_uri": "https://localhost:8080/",
          "height": 68
        },
        "outputId": "968b6de5-ee4a-401b-aa02-2b2acdc31359"
      },
      "source": [
        "batch_size = 32\n",
        "num_classes = train['ClassId'].unique().shape[0]\n",
        "\n",
        "# The data, split between train and test sets:\n",
        "print('x_train shape:', data.shape)\n",
        "print(data.shape[0], 'train samples')\n",
        "print(test_data.shape[0], 'test samples')\n",
        "\n",
        "#height, width = data.shape[1:]\n",
        "# Convert class vectors to binary class matrices.\n",
        "y_train = keras.utils.to_categorical(train['ClassId'].values, num_classes)\n",
        "y_test = keras.utils.to_categorical(test['ClassId'].values, num_classes)\n",
        "x_train = data.astype('float32')\n",
        "x_test = test_data.astype('float32')\n",
        "x_train /= 255\n",
        "x_test /= 255\n",
        "#uncomment for grayscale imgs\n",
        "#x_train = x_train.reshape((x_train.shape[0], height, width,1))\n",
        "#x_test = x_test.reshape((x_test.shape[0], height, width,1))\n",
        "\n",
        "classTotals = y_train.sum(axis=0)\n",
        "classWeight = classTotals.max() / classTotals"
      ],
      "execution_count": 17,
      "outputs": [
        {
          "output_type": "stream",
          "text": [
            "x_train shape: (39209, 64, 64, 3)\n",
            "39209 train samples\n",
            "12630 test samples\n"
          ],
          "name": "stdout"
        }
      ]
    },
    {
      "cell_type": "code",
      "metadata": {
        "id": "Mn4TzmXMS3qZ",
        "colab_type": "code",
        "colab": {}
      },
      "source": [
        "%tensorflow_version 1.x\n",
        "import keras\n",
        "from keras.optimizers import Adam, RMSprop\n",
        "from keras.utils import to_categorical\n",
        "from sklearn.metrics import classification_report\n",
        "from keras.preprocessing.image import ImageDataGenerator\n",
        "from keras.models import Sequential\n",
        "from keras.layers import Dense, Dropout, Activation, Flatten, BatchNormalization\n",
        "from keras.layers import Conv2D, MaxPooling2D\n",
        "import tensorflow as tf\n",
        "import keras.backend as K\n",
        "from keras import regularizers\n",
        "\n",
        "class MetricsAtTopK:\n",
        "  def __init__(self, k):\n",
        "    self.k = k\n",
        "\n",
        "  def _get_prediction_tensor(self, y_pred):\n",
        "    \"\"\"\n",
        "    Takes y_pred and creates a tensor of same shape with 1 in indices \n",
        "    where the values are in top_k\n",
        "    \"\"\"\n",
        "    topk_values, topk_indices = tf.nn.top_k(y_pred, k=self.k, sorted=False, \n",
        "                                            name=\"topk\")\n",
        "    # the topk_indices are along last axis (1). Add indices for axis=0\n",
        "    ii, _ = tf.meshgrid(tf.range(tf.shape(y_pred)[0]), tf.range(self.k), \n",
        "                        indexing='ij')\n",
        "    index_tensor = tf.reshape(tf.stack([ii, topk_indices], axis=-1), \n",
        "                                                      shape=(-1, 2))\n",
        "    prediction_tensor = tf.sparse_to_dense(sparse_indices=index_tensor,\n",
        "                                               output_shape=tf.shape(y_pred),\n",
        "                                               default_value=0,\n",
        "                                               sparse_values=1.0,\n",
        "                                               validate_indices=False\n",
        "                                               )\n",
        "    prediction_tensor = tf.cast(prediction_tensor, K.floatx())\n",
        "    return prediction_tensor\n",
        "\n",
        "  def true_positives_at_k(self, y_true, y_pred):\n",
        "    prediction_tensor = self._get_prediction_tensor(y_pred=y_pred)\n",
        "    true_positive = K.sum(tf.multiply(prediction_tensor, y_true))\n",
        "    return true_positive\n",
        "\n",
        "  def false_positives_at_k(self, y_true, y_pred):\n",
        "    prediction_tensor = self._get_prediction_tensor(y_pred=y_pred)\n",
        "    true_positive = K.sum(tf.multiply(prediction_tensor, y_true))\n",
        "    c2 = K.sum(prediction_tensor)  # TP + FP\n",
        "    false_positive = c2 - true_positive\n",
        "    return false_positive\n",
        "\n",
        "  def false_negatives_at_k(self, y_true, y_pred):\n",
        "    prediction_tensor = self._get_prediction_tensor(y_pred=y_pred)\n",
        "    true_positive = K.sum(tf.multiply(prediction_tensor, y_true))\n",
        "    c3 = K.sum(y_true)  # TP + FN\n",
        "    false_negative = c3 - true_positive\n",
        "    return false_negative\n",
        "\n",
        "  def precision_at_k(self, y_true, y_pred):\n",
        "    prediction_tensor = self._get_prediction_tensor(y_pred=y_pred)\n",
        "    true_positive = K.sum(tf.multiply(prediction_tensor, y_true))\n",
        "    c2 = K.sum(prediction_tensor)  # TP + FP\n",
        "    return true_positive/(c2+K.epsilon())\n",
        "\n",
        "  def recall_at_k(self, y_true, y_pred):\n",
        "    prediction_tensor = self._get_prediction_tensor(y_pred=y_pred)\n",
        "    true_positive = K.sum(tf.multiply(prediction_tensor, y_true))\n",
        "    c3 = K.sum(y_true)  # TP + FN\n",
        "    return true_positive/(c3+K.epsilon())\n",
        "\n",
        "  def f1_at_k(self, y_true, y_pred):\n",
        "    precision = self.precision_at_k(y_true=y_true, y_pred=y_pred)\n",
        "    recall = self.recall_at_k(y_true=y_true, y_pred=y_pred)\n",
        "    f1 = (2*precision*recall)/(precision+recall+K.epsilon())\n",
        "    return f1\n",
        "\n",
        "metrics = MetricsAtTopK(k=5)\n",
        "\n",
        "def load_model(x_train, num_classes):\n",
        "\n",
        "  model = Sequential()\n",
        "  model.add(Conv2D(16, (5, 5), padding='same', \n",
        "                   input_shape=x_train.shape[1:]))\n",
        "  model.add(Activation('relu'))\n",
        "  model.add(MaxPooling2D(pool_size=(2, 2)))\t\n",
        "\n",
        "  model.add(Conv2D(32, (3, 3), padding=\"same\",\n",
        "            kernel_regularizer=regularizers.l2(0.001)))\n",
        "  model.add(Activation(\"relu\"))\n",
        "  model.add(BatchNormalization(axis=-1))\n",
        "  model.add(MaxPooling2D(pool_size=(2, 2)))\n",
        "\n",
        "  model.add(Conv2D(32, (3, 3), padding=\"same\",\n",
        "            kernel_regularizer=regularizers.l2(0.001)))\n",
        "  model.add(Activation(\"relu\"))\n",
        "  model.add(MaxPooling2D(pool_size=(2, 2)))\n",
        "  \n",
        "  model.add(Conv2D(64, (3, 3), padding=\"same\",\n",
        "            kernel_regularizer=regularizers.l2(0.001)))\n",
        "  model.add(Activation(\"relu\"))\n",
        "  model.add(BatchNormalization(axis=-1))\n",
        "  model.add(MaxPooling2D(pool_size=(2, 2)))\n",
        "  \n",
        "  model.add(Conv2D(64, (3, 3), padding=\"same\",\n",
        "            kernel_regularizer=regularizers.l1_l2()))\n",
        "  model.add(Activation(\"relu\"))\n",
        "  model.add(BatchNormalization(axis=-1))\n",
        "  model.add(MaxPooling2D(pool_size=(2, 2)))\n",
        "\n",
        "  model.add(Flatten())\n",
        "\n",
        "  model.add(Dense(256))\n",
        "  model.add(Activation(\"relu\"))\n",
        "  model.add(Dropout(0.5))\n",
        "\n",
        "  model.add(Dense(256))\n",
        "  model.add(Activation(\"relu\"))\n",
        "  model.add(Dropout(0.5))\n",
        " \n",
        "\t# softmax classifier\n",
        "  model.add(Dense(num_classes))\n",
        "  model.add(Activation(\"softmax\"))\n",
        "\n",
        "  # initiate Adam optimizer\n",
        "  opt = Adam(lr=1e-4)\n",
        "\n",
        "  # Let's train the model using Adam\n",
        "  model.compile(loss='categorical_crossentropy',\n",
        "                optimizer=opt,\n",
        "                metrics=[\n",
        "                'accuracy',\n",
        "                metrics.true_positives_at_k, \n",
        "                metrics.false_positives_at_k,\n",
        "                metrics.false_negatives_at_k,\n",
        "                metrics.recall_at_k,\n",
        "                metrics.precision_at_k,\n",
        "                metrics.f1_at_k])\n",
        "  \n",
        "  return model"
      ],
      "execution_count": 0,
      "outputs": []
    },
    {
      "cell_type": "code",
      "metadata": {
        "id": "ZwYuK81baUQa",
        "colab_type": "code",
        "colab": {}
      },
      "source": [
        "model = load_model(x_train=x_train, num_classes=num_classes)"
      ],
      "execution_count": 0,
      "outputs": []
    },
    {
      "cell_type": "code",
      "metadata": {
        "id": "vXC20-4seUjx",
        "colab_type": "code",
        "colab": {
          "base_uri": "https://localhost:8080/",
          "height": 1000
        },
        "outputId": "338f4418-4ae2-41bb-a053-7f3bfa65bb43"
      },
      "source": [
        "model.summary()"
      ],
      "execution_count": 40,
      "outputs": [
        {
          "output_type": "stream",
          "text": [
            "Model: \"sequential_8\"\n",
            "_________________________________________________________________\n",
            "Layer (type)                 Output Shape              Param #   \n",
            "=================================================================\n",
            "conv2d_26 (Conv2D)           (None, 64, 64, 16)        1216      \n",
            "_________________________________________________________________\n",
            "activation_28 (Activation)   (None, 64, 64, 16)        0         \n",
            "_________________________________________________________________\n",
            "max_pooling2d_22 (MaxPooling (None, 32, 32, 16)        0         \n",
            "_________________________________________________________________\n",
            "conv2d_27 (Conv2D)           (None, 32, 32, 32)        4640      \n",
            "_________________________________________________________________\n",
            "activation_29 (Activation)   (None, 32, 32, 32)        0         \n",
            "_________________________________________________________________\n",
            "batch_normalization_11 (Batc (None, 32, 32, 32)        128       \n",
            "_________________________________________________________________\n",
            "max_pooling2d_23 (MaxPooling (None, 16, 16, 32)        0         \n",
            "_________________________________________________________________\n",
            "conv2d_28 (Conv2D)           (None, 16, 16, 32)        9248      \n",
            "_________________________________________________________________\n",
            "activation_30 (Activation)   (None, 16, 16, 32)        0         \n",
            "_________________________________________________________________\n",
            "max_pooling2d_24 (MaxPooling (None, 8, 8, 32)          0         \n",
            "_________________________________________________________________\n",
            "conv2d_29 (Conv2D)           (None, 8, 8, 64)          18496     \n",
            "_________________________________________________________________\n",
            "activation_31 (Activation)   (None, 8, 8, 64)          0         \n",
            "_________________________________________________________________\n",
            "batch_normalization_12 (Batc (None, 8, 8, 64)          256       \n",
            "_________________________________________________________________\n",
            "max_pooling2d_25 (MaxPooling (None, 4, 4, 64)          0         \n",
            "_________________________________________________________________\n",
            "conv2d_30 (Conv2D)           (None, 4, 4, 64)          36928     \n",
            "_________________________________________________________________\n",
            "activation_32 (Activation)   (None, 4, 4, 64)          0         \n",
            "_________________________________________________________________\n",
            "batch_normalization_13 (Batc (None, 4, 4, 64)          256       \n",
            "_________________________________________________________________\n",
            "max_pooling2d_26 (MaxPooling (None, 2, 2, 64)          0         \n",
            "_________________________________________________________________\n",
            "flatten_3 (Flatten)          (None, 256)               0         \n",
            "_________________________________________________________________\n",
            "dense_7 (Dense)              (None, 256)               65792     \n",
            "_________________________________________________________________\n",
            "activation_33 (Activation)   (None, 256)               0         \n",
            "_________________________________________________________________\n",
            "dropout_5 (Dropout)          (None, 256)               0         \n",
            "_________________________________________________________________\n",
            "dense_8 (Dense)              (None, 256)               65792     \n",
            "_________________________________________________________________\n",
            "activation_34 (Activation)   (None, 256)               0         \n",
            "_________________________________________________________________\n",
            "dropout_6 (Dropout)          (None, 256)               0         \n",
            "_________________________________________________________________\n",
            "dense_9 (Dense)              (None, 43)                11051     \n",
            "_________________________________________________________________\n",
            "activation_35 (Activation)   (None, 43)                0         \n",
            "=================================================================\n",
            "Total params: 213,803\n",
            "Trainable params: 213,483\n",
            "Non-trainable params: 320\n",
            "_________________________________________________________________\n"
          ],
          "name": "stdout"
        }
      ]
    },
    {
      "cell_type": "code",
      "metadata": {
        "id": "FPGapNYYV8Nk",
        "colab_type": "code",
        "colab": {
          "base_uri": "https://localhost:8080/",
          "height": 649
        },
        "outputId": "52d05a05-5ab7-4273-ceeb-93a30e026dda"
      },
      "source": [
        "# This will do preprocessing and realtime data augmentation:\n",
        "datagen = ImageDataGenerator(\n",
        "          rotation_range=10,\n",
        "          zoom_range=0.3,\n",
        "\t        width_shift_range=0.1,\n",
        "\t        height_shift_range=0.1,\n",
        "\t        shear_range=0.15,\n",
        "\t        horizontal_flip=False,\n",
        "\t        vertical_flip=False,\n",
        "\t        fill_mode=\"nearest\")\n",
        "\n",
        "datagen.fit(x_train)\n",
        "\n",
        "H = model.fit_generator(datagen.flow(x_train, y_train,\n",
        "                                      batch_size=batch_size),\n",
        "                          epochs=50, class_weight=classWeight,\n",
        "                          validation_data=(x_test, y_test),\n",
        "                          workers=4)"
      ],
      "execution_count": 0,
      "outputs": [
        {
          "output_type": "stream",
          "text": [
            "Epoch 1/50\n",
            "1226/1226 [==============================] - 76s 62ms/step - loss: 11.7847 - acc: 0.0444 - true_positives_at_k: 6.9429 - false_positives_at_k: 152.9633 - false_negatives_at_k: 25.0383 - recall_at_k: 0.2170 - precision_at_k: 0.0434 - f1_at_k: 0.0723 - val_loss: 6.5228 - val_acc: 0.0601 - val_true_positives_at_k: 8.6898 - val_false_positives_at_k: 151.2231 - val_false_negatives_at_k: 23.2928 - val_recall_at_k: 0.2717 - val_precision_at_k: 0.0543 - val_f1_at_k: 0.0906\n",
            "Epoch 2/50\n",
            "1226/1226 [==============================] - 71s 58ms/step - loss: 4.8119 - acc: 0.0524 - true_positives_at_k: 7.8222 - false_positives_at_k: 152.0841 - false_negatives_at_k: 24.1591 - recall_at_k: 0.2446 - precision_at_k: 0.0489 - f1_at_k: 0.0815 - val_loss: 4.0114 - val_acc: 0.0542 - val_true_positives_at_k: 8.6728 - val_false_positives_at_k: 151.2401 - val_false_negatives_at_k: 23.3097 - val_recall_at_k: 0.2711 - val_precision_at_k: 0.0542 - val_f1_at_k: 0.0904\n",
            "Epoch 3/50\n",
            "1226/1226 [==============================] - 72s 58ms/step - loss: 3.9277 - acc: 0.0496 - true_positives_at_k: 8.0343 - false_positives_at_k: 151.8720 - false_negatives_at_k: 23.9470 - recall_at_k: 0.2512 - precision_at_k: 0.0502 - f1_at_k: 0.0837 - val_loss: 3.7797 - val_acc: 0.0565 - val_true_positives_at_k: 9.0098 - val_false_positives_at_k: 150.9031 - val_false_negatives_at_k: 22.9728 - val_recall_at_k: 0.2816 - val_precision_at_k: 0.0563 - val_f1_at_k: 0.0939\n",
            "Epoch 4/50\n",
            "1226/1226 [==============================] - 74s 60ms/step - loss: 3.8215 - acc: 0.0536 - true_positives_at_k: 8.1974 - false_positives_at_k: 151.7089 - false_negatives_at_k: 23.7839 - recall_at_k: 0.2562 - precision_at_k: 0.0512 - f1_at_k: 0.0854 - val_loss: 3.7456 - val_acc: 0.0553 - val_true_positives_at_k: 8.8367 - val_false_positives_at_k: 151.0762 - val_false_negatives_at_k: 23.1458 - val_recall_at_k: 0.2762 - val_precision_at_k: 0.0552 - val_f1_at_k: 0.0921\n",
            "Epoch 5/50\n",
            "1226/1226 [==============================] - 75s 61ms/step - loss: 3.7683 - acc: 0.0535 - true_positives_at_k: 8.1933 - false_positives_at_k: 151.7129 - false_negatives_at_k: 23.7879 - recall_at_k: 0.2562 - precision_at_k: 0.0512 - f1_at_k: 0.0854 - val_loss: 3.6954 - val_acc: 0.0576 - val_true_positives_at_k: 8.6890 - val_false_positives_at_k: 151.2239 - val_false_negatives_at_k: 23.2936 - val_recall_at_k: 0.2717 - val_precision_at_k: 0.0543 - val_f1_at_k: 0.0906\n",
            "Epoch 6/50\n",
            "1226/1226 [==============================] - 73s 60ms/step - loss: 3.7252 - acc: 0.0519 - true_positives_at_k: 8.4029 - false_positives_at_k: 151.5033 - false_negatives_at_k: 23.5783 - recall_at_k: 0.2627 - precision_at_k: 0.0525 - f1_at_k: 0.0876 - val_loss: 3.6797 - val_acc: 0.0542 - val_true_positives_at_k: 9.0149 - val_false_positives_at_k: 150.8980 - val_false_negatives_at_k: 22.9677 - val_recall_at_k: 0.2818 - val_precision_at_k: 0.0564 - val_f1_at_k: 0.0939\n",
            "Epoch 7/50\n",
            "1226/1226 [==============================] - 73s 59ms/step - loss: 3.6925 - acc: 0.0536 - true_positives_at_k: 8.4054 - false_positives_at_k: 151.5009 - false_negatives_at_k: 23.5759 - recall_at_k: 0.2628 - precision_at_k: 0.0526 - f1_at_k: 0.0876 - val_loss: 3.6452 - val_acc: 0.0567 - val_true_positives_at_k: 8.9888 - val_false_positives_at_k: 150.9241 - val_false_negatives_at_k: 22.9938 - val_recall_at_k: 0.2810 - val_precision_at_k: 0.0562 - val_f1_at_k: 0.0937\n",
            "Epoch 8/50\n",
            "1226/1226 [==============================] - 73s 59ms/step - loss: 3.6620 - acc: 0.0539 - true_positives_at_k: 8.5963 - false_positives_at_k: 151.3100 - false_negatives_at_k: 23.3850 - recall_at_k: 0.2689 - precision_at_k: 0.0538 - f1_at_k: 0.0896 - val_loss: 3.6050 - val_acc: 0.0581 - val_true_positives_at_k: 8.9500 - val_false_positives_at_k: 150.9629 - val_false_negatives_at_k: 23.0326 - val_recall_at_k: 0.2798 - val_precision_at_k: 0.0560 - val_f1_at_k: 0.0933\n",
            "Epoch 9/50\n",
            "1226/1226 [==============================] - 72s 59ms/step - loss: 3.6496 - acc: 0.0552 - true_positives_at_k: 8.6338 - false_positives_at_k: 151.2725 - false_negatives_at_k: 23.3475 - recall_at_k: 0.2700 - precision_at_k: 0.0540 - f1_at_k: 0.0900 - val_loss: 3.5769 - val_acc: 0.0561 - val_true_positives_at_k: 8.9465 - val_false_positives_at_k: 150.9664 - val_false_negatives_at_k: 23.0361 - val_recall_at_k: 0.2797 - val_precision_at_k: 0.0559 - val_f1_at_k: 0.0932\n",
            "Epoch 10/50\n",
            "1226/1226 [==============================] - 74s 60ms/step - loss: 3.6216 - acc: 0.0543 - true_positives_at_k: 8.6533 - false_positives_at_k: 151.2529 - false_negatives_at_k: 23.3279 - recall_at_k: 0.2706 - precision_at_k: 0.0541 - f1_at_k: 0.0902 - val_loss: 3.5636 - val_acc: 0.0568 - val_true_positives_at_k: 8.9322 - val_false_positives_at_k: 150.9807 - val_false_negatives_at_k: 23.0504 - val_recall_at_k: 0.2793 - val_precision_at_k: 0.0559 - val_f1_at_k: 0.0931\n",
            "Epoch 11/50\n",
            "1226/1226 [==============================] - 73s 60ms/step - loss: 3.5911 - acc: 0.0540 - true_positives_at_k: 8.6077 - false_positives_at_k: 151.2986 - false_negatives_at_k: 23.3736 - recall_at_k: 0.2693 - precision_at_k: 0.0539 - f1_at_k: 0.0897 - val_loss: 3.5269 - val_acc: 0.0569 - val_true_positives_at_k: 9.0732 - val_false_positives_at_k: 150.8397 - val_false_negatives_at_k: 22.9094 - val_recall_at_k: 0.2836 - val_precision_at_k: 0.0567 - val_f1_at_k: 0.0945\n",
            "Epoch 12/50\n",
            "1226/1226 [==============================] - 71s 58ms/step - loss: 3.5589 - acc: 0.0552 - true_positives_at_k: 8.6599 - false_positives_at_k: 151.2464 - false_negatives_at_k: 23.3214 - recall_at_k: 0.2709 - precision_at_k: 0.0542 - f1_at_k: 0.0903 - val_loss: 3.5282 - val_acc: 0.0578 - val_true_positives_at_k: 8.8781 - val_false_positives_at_k: 151.0348 - val_false_negatives_at_k: 23.1045 - val_recall_at_k: 0.2775 - val_precision_at_k: 0.0555 - val_f1_at_k: 0.0925\n",
            "Epoch 13/50\n",
            "1226/1226 [==============================] - 72s 59ms/step - loss: 3.5525 - acc: 0.0553 - true_positives_at_k: 8.7268 - false_positives_at_k: 151.1795 - false_negatives_at_k: 23.2545 - recall_at_k: 0.2728 - precision_at_k: 0.0546 - f1_at_k: 0.0909 - val_loss: 3.5108 - val_acc: 0.0594 - val_true_positives_at_k: 8.9827 - val_false_positives_at_k: 150.9302 - val_false_negatives_at_k: 22.9998 - val_recall_at_k: 0.2808 - val_precision_at_k: 0.0562 - val_f1_at_k: 0.0936\n",
            "Epoch 14/50\n",
            "1226/1226 [==============================] - 74s 61ms/step - loss: 3.5430 - acc: 0.0561 - true_positives_at_k: 8.7031 - false_positives_at_k: 151.2032 - false_negatives_at_k: 23.2781 - recall_at_k: 0.2720 - precision_at_k: 0.0544 - f1_at_k: 0.0907 - val_loss: 3.5143 - val_acc: 0.0574 - val_true_positives_at_k: 9.0478 - val_false_positives_at_k: 150.8651 - val_false_negatives_at_k: 22.9348 - val_recall_at_k: 0.2828 - val_precision_at_k: 0.0566 - val_f1_at_k: 0.0943\n",
            "Epoch 15/50\n",
            "1226/1226 [==============================] - 75s 61ms/step - loss: 3.5108 - acc: 0.0565 - true_positives_at_k: 8.6354 - false_positives_at_k: 151.2709 - false_negatives_at_k: 23.3458 - recall_at_k: 0.2701 - precision_at_k: 0.0540 - f1_at_k: 0.0900 - val_loss: 3.4704 - val_acc: 0.0594 - val_true_positives_at_k: 9.0428 - val_false_positives_at_k: 150.8702 - val_false_negatives_at_k: 22.9398 - val_recall_at_k: 0.2827 - val_precision_at_k: 0.0565 - val_f1_at_k: 0.0942\n",
            "Epoch 16/50\n",
            "1226/1226 [==============================] - 74s 60ms/step - loss: 3.4967 - acc: 0.0555 - true_positives_at_k: 8.7349 - false_positives_at_k: 151.1713 - false_negatives_at_k: 23.2463 - recall_at_k: 0.2731 - precision_at_k: 0.0546 - f1_at_k: 0.0910 - val_loss: 3.4690 - val_acc: 0.0594 - val_true_positives_at_k: 9.0428 - val_false_positives_at_k: 150.8702 - val_false_negatives_at_k: 22.9398 - val_recall_at_k: 0.2827 - val_precision_at_k: 0.0565 - val_f1_at_k: 0.0942\n",
            "Epoch 17/50\n",
            "1226/1226 [==============================] - 72s 59ms/step - loss: 3.4953 - acc: 0.0560 - true_positives_at_k: 8.6533 - false_positives_at_k: 151.2529 - false_negatives_at_k: 23.3279 - recall_at_k: 0.2705 - precision_at_k: 0.0541 - f1_at_k: 0.0902 - val_loss: 3.4683 - val_acc: 0.0594 - val_true_positives_at_k: 9.0428 - val_false_positives_at_k: 150.8702 - val_false_negatives_at_k: 22.9398 - val_recall_at_k: 0.2827 - val_precision_at_k: 0.0565 - val_f1_at_k: 0.0942\n",
            "Epoch 18/50\n",
            "1092/1226 [=========================>....] - ETA: 7s - loss: 3.4939 - acc: 0.0550 - true_positives_at_k: 8.6987 - false_positives_at_k: 151.1960 - false_negatives_at_k: 23.2802 - recall_at_k: 0.2719 - precision_at_k: 0.0544 - f1_at_k: 0.0906"
          ],
          "name": "stdout"
        }
      ]
    },
    {
      "cell_type": "code",
      "metadata": {
        "id": "svzlIOFnbJpx",
        "colab_type": "code",
        "colab": {
          "base_uri": "https://localhost:8080/",
          "height": 34
        },
        "outputId": "afa68420-a217-4a96-a9fe-5ffe09b48225"
      },
      "source": [
        "# Score trained model.\n",
        "scores = model.evaluate(x_test, y_test, verbose=1)\n",
        "print('Test loss:', scores[0])\n",
        "print('Test accuracy:', scores[1])"
      ],
      "execution_count": 69,
      "outputs": [
        {
          "output_type": "execute_result",
          "data": {
            "text/plain": [
              "(64, 64)"
            ]
          },
          "metadata": {
            "tags": []
          },
          "execution_count": 69
        }
      ]
    },
    {
      "cell_type": "code",
      "metadata": {
        "id": "kcXTT0fDjaXg",
        "colab_type": "code",
        "colab": {
          "base_uri": "https://localhost:8080/",
          "height": 1000
        },
        "outputId": "67bb5409-f3ac-4c6c-975e-0c46450be68a"
      },
      "source": [
        ""
      ],
      "execution_count": 84,
      "outputs": [
        {
          "output_type": "execute_result",
          "data": {
            "text/plain": [
              "array([[[[0.8862745 ],\n",
              "         [0.8862745 ],\n",
              "         [0.8980392 ],\n",
              "         ...,\n",
              "         [0.42352942],\n",
              "         [0.44705883],\n",
              "         [0.4509804 ]],\n",
              "\n",
              "        [[0.8862745 ],\n",
              "         [0.8901961 ],\n",
              "         [0.90588236],\n",
              "         ...,\n",
              "         [0.4       ],\n",
              "         [0.41960785],\n",
              "         [0.42352942]],\n",
              "\n",
              "        [[0.8980392 ],\n",
              "         [0.90588236],\n",
              "         [0.92156863],\n",
              "         ...,\n",
              "         [0.33333334],\n",
              "         [0.34901962],\n",
              "         [0.35686275]],\n",
              "\n",
              "        ...,\n",
              "\n",
              "        [[1.        ],\n",
              "         [1.        ],\n",
              "         [1.        ],\n",
              "         ...,\n",
              "         [0.13333334],\n",
              "         [0.11372549],\n",
              "         [0.11372549]],\n",
              "\n",
              "        [[1.        ],\n",
              "         [1.        ],\n",
              "         [1.        ],\n",
              "         ...,\n",
              "         [0.14901961],\n",
              "         [0.11372549],\n",
              "         [0.11372549]],\n",
              "\n",
              "        [[1.        ],\n",
              "         [1.        ],\n",
              "         [1.        ],\n",
              "         ...,\n",
              "         [0.14901961],\n",
              "         [0.13333334],\n",
              "         [0.11372549]]],\n",
              "\n",
              "\n",
              "       [[[0.47843137],\n",
              "         [0.47843137],\n",
              "         [0.42745098],\n",
              "         ...,\n",
              "         [0.5176471 ],\n",
              "         [0.5294118 ],\n",
              "         [0.5294118 ]],\n",
              "\n",
              "        [[0.47843137],\n",
              "         [0.47843137],\n",
              "         [0.42745098],\n",
              "         ...,\n",
              "         [0.5176471 ],\n",
              "         [0.5294118 ],\n",
              "         [0.5294118 ]],\n",
              "\n",
              "        [[0.42745098],\n",
              "         [0.42745098],\n",
              "         [0.38431373],\n",
              "         ...,\n",
              "         [0.52156866],\n",
              "         [0.5176471 ],\n",
              "         [0.5176471 ]],\n",
              "\n",
              "        ...,\n",
              "\n",
              "        [[0.38431373],\n",
              "         [0.38431373],\n",
              "         [0.45490196],\n",
              "         ...,\n",
              "         [0.78039217],\n",
              "         [0.78431374],\n",
              "         [0.78431374]],\n",
              "\n",
              "        [[0.42745098],\n",
              "         [0.42745098],\n",
              "         [0.49411765],\n",
              "         ...,\n",
              "         [0.7647059 ],\n",
              "         [0.75686276],\n",
              "         [0.75686276]],\n",
              "\n",
              "        [[0.42745098],\n",
              "         [0.42745098],\n",
              "         [0.49411765],\n",
              "         ...,\n",
              "         [0.7647059 ],\n",
              "         [0.75686276],\n",
              "         [0.75686276]]],\n",
              "\n",
              "\n",
              "       [[[0.9607843 ],\n",
              "         [0.9411765 ],\n",
              "         [0.9607843 ],\n",
              "         ...,\n",
              "         [0.99607843],\n",
              "         [1.        ],\n",
              "         [1.        ]],\n",
              "\n",
              "        [[0.972549  ],\n",
              "         [0.9607843 ],\n",
              "         [0.9607843 ],\n",
              "         ...,\n",
              "         [0.99215686],\n",
              "         [0.99215686],\n",
              "         [0.99215686]],\n",
              "\n",
              "        [[0.9607843 ],\n",
              "         [0.972549  ],\n",
              "         [0.9607843 ],\n",
              "         ...,\n",
              "         [0.99215686],\n",
              "         [0.99215686],\n",
              "         [0.99607843]],\n",
              "\n",
              "        ...,\n",
              "\n",
              "        [[0.10588235],\n",
              "         [0.14117648],\n",
              "         [0.14117648],\n",
              "         ...,\n",
              "         [0.04313726],\n",
              "         [0.04313726],\n",
              "         [0.10588235]],\n",
              "\n",
              "        [[0.10588235],\n",
              "         [0.14117648],\n",
              "         [0.14117648],\n",
              "         ...,\n",
              "         [0.10588235],\n",
              "         [0.10588235],\n",
              "         [0.14117648]],\n",
              "\n",
              "        [[0.14117648],\n",
              "         [0.14117648],\n",
              "         [0.16078432],\n",
              "         ...,\n",
              "         [0.04313726],\n",
              "         [0.04313726],\n",
              "         [0.04313726]]],\n",
              "\n",
              "\n",
              "       ...,\n",
              "\n",
              "\n",
              "       [[[0.45882353],\n",
              "         [0.4862745 ],\n",
              "         [0.59607846],\n",
              "         ...,\n",
              "         [0.9490196 ],\n",
              "         [0.9490196 ],\n",
              "         [0.9490196 ]],\n",
              "\n",
              "        [[0.45882353],\n",
              "         [0.4862745 ],\n",
              "         [0.5882353 ],\n",
              "         ...,\n",
              "         [0.95686275],\n",
              "         [0.9529412 ],\n",
              "         [0.9529412 ]],\n",
              "\n",
              "        [[0.45882353],\n",
              "         [0.4862745 ],\n",
              "         [0.5803922 ],\n",
              "         ...,\n",
              "         [1.        ],\n",
              "         [0.98039216],\n",
              "         [0.98039216]],\n",
              "\n",
              "        ...,\n",
              "\n",
              "        [[0.78431374],\n",
              "         [0.8       ],\n",
              "         [0.8627451 ],\n",
              "         ...,\n",
              "         [0.8117647 ],\n",
              "         [0.8       ],\n",
              "         [0.79607844]],\n",
              "\n",
              "        [[0.78431374],\n",
              "         [0.8       ],\n",
              "         [0.87058824],\n",
              "         ...,\n",
              "         [0.827451  ],\n",
              "         [0.83137256],\n",
              "         [0.83137256]],\n",
              "\n",
              "        [[0.78431374],\n",
              "         [0.8       ],\n",
              "         [0.8745098 ],\n",
              "         ...,\n",
              "         [0.8352941 ],\n",
              "         [0.84313726],\n",
              "         [0.84313726]]],\n",
              "\n",
              "\n",
              "       [[[0.47058824],\n",
              "         [0.4509804 ],\n",
              "         [0.36078432],\n",
              "         ...,\n",
              "         [0.73333335],\n",
              "         [0.69803923],\n",
              "         [0.6862745 ]],\n",
              "\n",
              "        [[0.5137255 ],\n",
              "         [0.47058824],\n",
              "         [0.36078432],\n",
              "         ...,\n",
              "         [0.77254903],\n",
              "         [0.73333335],\n",
              "         [0.72156864]],\n",
              "\n",
              "        [[0.6       ],\n",
              "         [0.56078434],\n",
              "         [0.39215687],\n",
              "         ...,\n",
              "         [0.8352941 ],\n",
              "         [0.80784315],\n",
              "         [0.79607844]],\n",
              "\n",
              "        ...,\n",
              "\n",
              "        [[0.14509805],\n",
              "         [0.18039216],\n",
              "         [0.3019608 ],\n",
              "         ...,\n",
              "         [0.3019608 ],\n",
              "         [0.5294118 ],\n",
              "         [0.5921569 ]],\n",
              "\n",
              "        [[0.18039216],\n",
              "         [0.2       ],\n",
              "         [0.32156864],\n",
              "         ...,\n",
              "         [0.36078432],\n",
              "         [0.6       ],\n",
              "         [0.65882355]],\n",
              "\n",
              "        [[0.2       ],\n",
              "         [0.21960784],\n",
              "         [0.32156864],\n",
              "         ...,\n",
              "         [0.3764706 ],\n",
              "         [0.6313726 ],\n",
              "         [0.6862745 ]]],\n",
              "\n",
              "\n",
              "       [[[0.9529412 ],\n",
              "         [0.91764706],\n",
              "         [0.44313726],\n",
              "         ...,\n",
              "         [0.54509807],\n",
              "         [0.5921569 ],\n",
              "         [0.5921569 ]],\n",
              "\n",
              "        [[0.9372549 ],\n",
              "         [0.89411765],\n",
              "         [0.3882353 ],\n",
              "         ...,\n",
              "         [0.54509807],\n",
              "         [0.54509807],\n",
              "         [0.5921569 ]],\n",
              "\n",
              "        [[0.8       ],\n",
              "         [0.77254903],\n",
              "         [0.2509804 ],\n",
              "         ...,\n",
              "         [0.54509807],\n",
              "         [0.49803922],\n",
              "         [0.49803922]],\n",
              "\n",
              "        ...,\n",
              "\n",
              "        [[0.49803922],\n",
              "         [0.49803922],\n",
              "         [0.44313726],\n",
              "         ...,\n",
              "         [0.5921569 ],\n",
              "         [0.49803922],\n",
              "         [0.49803922]],\n",
              "\n",
              "        [[0.44313726],\n",
              "         [0.44313726],\n",
              "         [0.3882353 ],\n",
              "         ...,\n",
              "         [0.49803922],\n",
              "         [0.44313726],\n",
              "         [0.44313726]],\n",
              "\n",
              "        [[0.44313726],\n",
              "         [0.44313726],\n",
              "         [0.3882353 ],\n",
              "         ...,\n",
              "         [0.49803922],\n",
              "         [0.44313726],\n",
              "         [0.44313726]]]], dtype=float32)"
            ]
          },
          "metadata": {
            "tags": []
          },
          "execution_count": 84
        }
      ]
    }
  ]
}