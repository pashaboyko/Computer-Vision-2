{
  "nbformat": 4,
  "nbformat_minor": 0,
  "metadata": {
    "kernelspec": {
      "name": "python3",
      "display_name": "Python 3"
    },
    "language_info": {
      "codemirror_mode": {
        "name": "ipython",
        "version": 3
      },
      "file_extension": ".py",
      "mimetype": "text/x-python",
      "name": "python",
      "nbconvert_exporter": "python",
      "pygments_lexer": "ipython3",
      "version": "3.6.5"
    },
    "colab": {
      "name": "Descriptors+CNN.ipynb",
      "provenance": []
    },
    "accelerator": "GPU"
  },
  "cells": [
    {
      "cell_type": "markdown",
      "metadata": {
        "id": "1aLOkeMz2Sa2",
        "colab_type": "text"
      },
      "source": [
        "# **Без будущего**"
      ]
    },
    {
      "cell_type": "markdown",
      "metadata": {
        "id": "G-ohr7Nu2qqV",
        "colab_type": "text"
      },
      "source": [
        "## Колдунство высокого уровня"
      ]
    },
    {
      "cell_type": "code",
      "metadata": {
        "id": "BBR7zwB_F_eq",
        "colab_type": "code",
        "colab": {}
      },
      "source": [
        "!pip install opencv-python==3.4.2.16\n",
        "!pip install opencv-contrib-python==3.4.2.16\n",
        "!pip install tensorflow-gpu==2.0"
      ],
      "execution_count": 0,
      "outputs": []
    },
    {
      "cell_type": "markdown",
      "metadata": {
        "id": "TPbiCazu2v6T",
        "colab_type": "text"
      },
      "source": [
        "## Библиотеки ставим да дескрипторы указываем"
      ]
    },
    {
      "cell_type": "code",
      "metadata": {
        "id": "O2Udjg0lF3MC",
        "colab_type": "code",
        "colab": {}
      },
      "source": [
        "import sklearn\n",
        "import cv2\n",
        "import pandas as pd\n",
        "import numpy as np"
      ],
      "execution_count": 0,
      "outputs": []
    },
    {
      "cell_type": "code",
      "metadata": {
        "id": "plJcFYYqF3MI",
        "colab_type": "code",
        "colab": {}
      },
      "source": [
        "descriptors={'surf': cv2.xfeatures2d.SURF_create().detectAndCompute,\n",
        "             'sift': cv2.xfeatures2d.SIFT_create().detectAndCompute,\n",
        "             'akaze': cv2.AKAZE_create().detectAndCompute}"
      ],
      "execution_count": 0,
      "outputs": []
    },
    {
      "cell_type": "markdown",
      "metadata": {
        "id": "rSaYedI73QdQ",
        "colab_type": "text"
      },
      "source": [
        "## Грузим данные (осторожно, реурсия!)"
      ]
    },
    {
      "cell_type": "code",
      "metadata": {
        "id": "K9LlL6vZIM8S",
        "colab_type": "code",
        "colab": {
          "base_uri": "https://localhost:8080/",
          "height": 163
        },
        "outputId": "982cd955-3c9e-44af-941e-e10329540fc2"
      },
      "source": [
        "! git clone https://github.com/tupoylogin/CVPR_Lab_2.git"
      ],
      "execution_count": 3,
      "outputs": [
        {
          "output_type": "stream",
          "text": [
            "Cloning into 'CVPR_Lab_2'...\n",
            "remote: Enumerating objects: 9, done.\u001b[K\n",
            "remote: Counting objects: 100% (9/9), done.\u001b[K\n",
            "remote: Compressing objects: 100% (9/9), done.\u001b[K\n",
            "remote: Total 51946 (delta 2), reused 0 (delta 0), pack-reused 51937\u001b[K\n",
            "Receiving objects: 100% (51946/51946), 299.70 MiB | 9.96 MiB/s, done.\n",
            "Resolving deltas: 100% (5/5), done.\n",
            "Checking out files: 100% (51893/51893), done.\n"
          ],
          "name": "stdout"
        }
      ]
    },
    {
      "cell_type": "code",
      "metadata": {
        "id": "_DNRX1Z6F3ML",
        "colab_type": "code",
        "colab": {}
      },
      "source": [
        "import os\n",
        "\n",
        "basePath = os.path.join(os.curdir,'CVPR_Lab_2')\n",
        "\n",
        "def load_split(basePath, csvPath):\n",
        "    \n",
        "    from sklearn.utils import shuffle\n",
        "    \n",
        "    # initialize the list of data and labels\n",
        "    data = []\n",
        "    labels = []\n",
        " \n",
        "    # load the contents of the CSV file, remove the first line (since\n",
        "    # it contains the CSV header), and shuffle the rows (otherwise\n",
        "    # all examples of a particular class will be in sequential order)\n",
        "    \n",
        "    rows_df = pd.read_csv(csvPath)[['ClassId','Path']]\n",
        "    \n",
        "    # loop over the rows of the CSV file\n",
        "    for row in rows_df.values:\n",
        "        # check to see if we should show a status update\n",
        "        (label, imagePath) = row[0], row[1]\n",
        " \n",
        "        # derive the full path to the image file and load it\n",
        "        imagePath = os.path.sep.join([basePath, imagePath])\n",
        "        image = cv2.imread(imagePath)\n",
        "         # resize the image to be 64x64 pixels, ignoring aspect ratio,\n",
        "        image = cv2.resize(image, (32, 32), interpolation=cv2.INTER_AREA)\n",
        "        #image = cv2.cvtColor(image, cv2.COLOR_BGR2RGB)        \n",
        "        img_yuv = cv2.cvtColor(image, cv2.COLOR_BGR2YUV)\n",
        "        # and then perform Histogram Equalization\n",
        "        clahe = cv2.createCLAHE(clipLimit=0.1)\n",
        "        img_yuv[:,:,0] = clahe.apply(img_yuv[:,:,0])\n",
        "        #img_yuv[:,:,0] = cv2.equalizeHist(img_yuv[:,:,0])\n",
        "        # convert the YUV image back to RGB format\n",
        "        image = cv2.cvtColor(img_yuv, cv2.COLOR_YUV2RGB)\n",
        "       \n",
        "        \n",
        "        \n",
        "        # update the list of data and labels, respectively\n",
        "        data.append(image)\n",
        "        labels.append(int(label))\n",
        " \n",
        "    # convert the data and labels to NumPy arrays\n",
        "    data = np.array(data)\n",
        "    \n",
        " \n",
        "    # return a tuple of the data and labels\n",
        "    return rows_df, data"
      ],
      "execution_count": 0,
      "outputs": []
    },
    {
      "cell_type": "code",
      "metadata": {
        "id": "Ipo8Bn4CF3MN",
        "colab_type": "code",
        "colab": {}
      },
      "source": [
        "train, data = load_split(basePath,os.path.join(basePath, 'Train.csv'))"
      ],
      "execution_count": 0,
      "outputs": []
    },
    {
      "cell_type": "code",
      "metadata": {
        "id": "hp257U99F3MQ",
        "colab_type": "code",
        "colab": {
          "base_uri": "https://localhost:8080/",
          "height": 198
        },
        "outputId": "fa015961-a034-4a1e-eb2a-1157fdf435b7"
      },
      "source": [
        "train.head(5)"
      ],
      "execution_count": 6,
      "outputs": [
        {
          "output_type": "execute_result",
          "data": {
            "text/html": [
              "<div>\n",
              "<style scoped>\n",
              "    .dataframe tbody tr th:only-of-type {\n",
              "        vertical-align: middle;\n",
              "    }\n",
              "\n",
              "    .dataframe tbody tr th {\n",
              "        vertical-align: top;\n",
              "    }\n",
              "\n",
              "    .dataframe thead th {\n",
              "        text-align: right;\n",
              "    }\n",
              "</style>\n",
              "<table border=\"1\" class=\"dataframe\">\n",
              "  <thead>\n",
              "    <tr style=\"text-align: right;\">\n",
              "      <th></th>\n",
              "      <th>ClassId</th>\n",
              "      <th>Path</th>\n",
              "    </tr>\n",
              "  </thead>\n",
              "  <tbody>\n",
              "    <tr>\n",
              "      <th>0</th>\n",
              "      <td>20</td>\n",
              "      <td>Train/20/00020_00000_00000.png</td>\n",
              "    </tr>\n",
              "    <tr>\n",
              "      <th>1</th>\n",
              "      <td>20</td>\n",
              "      <td>Train/20/00020_00000_00001.png</td>\n",
              "    </tr>\n",
              "    <tr>\n",
              "      <th>2</th>\n",
              "      <td>20</td>\n",
              "      <td>Train/20/00020_00000_00002.png</td>\n",
              "    </tr>\n",
              "    <tr>\n",
              "      <th>3</th>\n",
              "      <td>20</td>\n",
              "      <td>Train/20/00020_00000_00003.png</td>\n",
              "    </tr>\n",
              "    <tr>\n",
              "      <th>4</th>\n",
              "      <td>20</td>\n",
              "      <td>Train/20/00020_00000_00004.png</td>\n",
              "    </tr>\n",
              "  </tbody>\n",
              "</table>\n",
              "</div>"
            ],
            "text/plain": [
              "   ClassId                            Path\n",
              "0       20  Train/20/00020_00000_00000.png\n",
              "1       20  Train/20/00020_00000_00001.png\n",
              "2       20  Train/20/00020_00000_00002.png\n",
              "3       20  Train/20/00020_00000_00003.png\n",
              "4       20  Train/20/00020_00000_00004.png"
            ]
          },
          "metadata": {
            "tags": []
          },
          "execution_count": 6
        }
      ]
    },
    {
      "cell_type": "code",
      "metadata": {
        "id": "8nBPJoQjF3MT",
        "colab_type": "code",
        "colab": {}
      },
      "source": [
        "%matplotlib inline\n",
        "\n",
        "import matplotlib.pyplot as plt\n",
        "import seaborn as sns"
      ],
      "execution_count": 0,
      "outputs": []
    },
    {
      "cell_type": "markdown",
      "metadata": {
        "id": "HAj2iYOn3dbe",
        "colab_type": "text"
      },
      "source": [
        "### 11 шакалов из 10"
      ]
    },
    {
      "cell_type": "code",
      "metadata": {
        "id": "axYrL0W1F3MW",
        "colab_type": "code",
        "colab": {
          "base_uri": "https://localhost:8080/",
          "height": 788
        },
        "outputId": "c2ca8a51-093c-4dc2-f25b-2bb9f34dbc7e"
      },
      "source": [
        "sns.set()\n",
        "with sns.axes_style({'axes.grid': False}):\n",
        "  for idx in np.random.choice(train.ClassId.shape[0],3):\n",
        "    plt.imshow(data[idx]),plt.show()\n",
        "    plt.figure(idx+1)"
      ],
      "execution_count": 8,
      "outputs": [
        {
          "output_type": "display_data",
          "data": {
            "image/png": "[encoded data removed]",
            "text/plain": [
              "<Figure size 432x288 with 1 Axes>"
            ]
          },
          "metadata": {
            "tags": []
          }
        },
        {
          "output_type": "display_data",
          "data": {
            "image/png": "[encoded data removed]",
            "text/plain": [
              "<Figure size 432x288 with 1 Axes>"
            ]
          },
          "metadata": {
            "tags": []
          }
        },
        {
          "output_type": "display_data",
          "data": {
            "image/png": "[encoded data removed]",
            "text/plain": [
              "<Figure size 432x288 with 1 Axes>"
            ]
          },
          "metadata": {
            "tags": []
          }
        },
        {
          "output_type": "display_data",
          "data": {
            "text/plain": [
              "<Figure size 432x288 with 0 Axes>"
            ]
          },
          "metadata": {
            "tags": []
          }
        }
      ]
    },
    {
      "cell_type": "markdown",
      "metadata": {
        "id": "Pn-AAa9R4jpx",
        "colab_type": "text"
      },
      "source": [
        "## Сверточная сеть на 31 слой"
      ]
    },
    {
      "cell_type": "code",
      "metadata": {
        "id": "rK_p0fkHj9MO",
        "colab_type": "code",
        "colab": {
          "base_uri": "https://localhost:8080/",
          "height": 35
        },
        "outputId": "3c69d0a1-a8a1-419c-8bef-c784eac7293d"
      },
      "source": [
        "import tensorflow as tf\n",
        "\n",
        "gpus = tf.config.experimental.list_physical_devices('GPU')\n",
        "if gpus:\n",
        "  # Create 2 virtual GPUs with 1GB memory each\n",
        "  try:\n",
        "    tf.config.experimental.set_virtual_device_configuration(\n",
        "        gpus[0],\n",
        "        [tf.config.experimental.VirtualDeviceConfiguration(memory_limit=1024),\n",
        "         tf.config.experimental.VirtualDeviceConfiguration(memory_limit=1024)])\n",
        "    logical_gpus = tf.config.experimental.list_logical_devices('GPU')\n",
        "    print(len(gpus), \"Physical GPU,\", len(logical_gpus), \"Logical GPUs\")\n",
        "  except RuntimeError as e:\n",
        "    # Virtual devices must be set before GPUs have been initialized\n",
        "    print(e)"
      ],
      "execution_count": 14,
      "outputs": [
        {
          "output_type": "stream",
          "text": [
            "1 Physical GPU, 2 Logical GPUs\n"
          ],
          "name": "stdout"
        }
      ]
    },
    {
      "cell_type": "code",
      "metadata": {
        "id": "MLUGeTp85Aod",
        "colab_type": "code",
        "colab": {
          "base_uri": "https://localhost:8080/",
          "height": 72
        },
        "outputId": "501285e6-48b6-4c02-f67d-aea649acb514"
      },
      "source": [
        "from tensorflow.keras.utils import to_categorical\n",
        "from sklearn.utils import class_weight\n",
        "\n",
        "batch_size = 32\n",
        "num_classes = train['ClassId'].unique().shape[0]\n",
        "\n",
        "# The data, split between train and test sets:\n",
        "print('x_train shape:', data.shape)\n",
        "print(data.shape[0], 'train samples')\n",
        "print(test_data.shape[0], 'test samples')\n",
        "\n",
        "#height, width = data.shape[1:]\n",
        "# Convert class vectors to binary class matrices.\n",
        "y_train = tf.keras.utils.to_categorical(train['ClassId'].values, num_classes)\n",
        "y_test = tf.keras.utils.to_categorical(test['ClassId'].values, num_classes)\n",
        "x_train = data.astype('float32')\n",
        "x_test = test_data.astype('float32')\n",
        "x_train /= 255\n",
        "x_test /= 255\n",
        "#uncomment for grayscale imgs\n",
        "#x_train = x_train.reshape((x_train.shape[0], height, width,1))\n",
        "#x_test = x_test.reshape((x_test.shape[0], height, width,1))\n",
        " \n",
        "class_weights = class_weight.compute_class_weight('balanced',\n",
        "                                                 np.unique(train['ClassId']),\n",
        "                                                 train['ClassId'])\n",
        "\n",
        "class_weights = dict(enumerate(class_weights))"
      ],
      "execution_count": 15,
      "outputs": [
        {
          "output_type": "stream",
          "text": [
            "x_train shape: (39209, 32, 32, 3)\n",
            "39209 train samples\n",
            "12630 test samples\n"
          ],
          "name": "stdout"
        }
      ]
    },
    {
      "cell_type": "code",
      "metadata": {
        "id": "qM3oCzVdEtGp",
        "colab_type": "code",
        "colab": {}
      },
      "source": [
        "K.clear_session()"
      ],
      "execution_count": 0,
      "outputs": []
    },
    {
      "cell_type": "code",
      "metadata": {
        "id": "Mn4TzmXMS3qZ",
        "colab_type": "code",
        "colab": {}
      },
      "source": [
        "from tensorflow.keras.optimizers import Adam, RMSprop\n",
        "\n",
        "from sklearn.metrics import classification_report\n",
        "from tensorflow.keras.preprocessing.image import ImageDataGenerator\n",
        "from tensorflow.keras.models import Sequential\n",
        "from tensorflow.keras.layers import BatchNormalization\n",
        "from tensorflow.keras.layers import Conv2D, MaxPooling2D, Activation\n",
        "from tensorflow.keras.layers import Flatten, Dropout, Dense\n",
        "import tensorflow.keras.backend as K\n",
        "\n",
        "class MetricsAtTopK:\n",
        "  def __init__(self, k):\n",
        "    self.k = k\n",
        "\n",
        "  def _get_prediction_tensor(self, y_pred):\n",
        "    \"\"\"\n",
        "    Takes y_pred and creates a tensor of same shape with 1 in indices \n",
        "    where the values are in top_k\n",
        "    \"\"\"\n",
        "    topk_values, topk_indices = tf.nn.top_k(y_pred, k=self.k, sorted=False, \n",
        "                                            name=\"topk\")\n",
        "    # the topk_indices are along last axis (1). Add indices for axis=0\n",
        "    ii, _ = tf.meshgrid(tf.range(tf.shape(y_pred)[0]), tf.range(self.k), \n",
        "                        indexing='ij')\n",
        "    index_tensor = tf.reshape(tf.stack([ii, topk_indices], axis=-1), \n",
        "                                                      shape=(-1, 2))\n",
        "    prediction_tensor = tf.compat.v1.sparse_to_dense(sparse_indices=index_tensor,\n",
        "                                               output_shape=tf.shape(y_pred),\n",
        "                                               default_value=0,\n",
        "                                               sparse_values=1.0,\n",
        "                                               validate_indices=False\n",
        "                                               )\n",
        "    prediction_tensor = tf.cast(prediction_tensor, K.floatx())\n",
        "    return prediction_tensor\n",
        "\n",
        "  def true_positives_at_k(self, y_true, y_pred):\n",
        "    prediction_tensor = self._get_prediction_tensor(y_pred=y_pred)\n",
        "    true_positive = K.sum(tf.multiply(prediction_tensor, y_true))\n",
        "    return true_positive\n",
        "\n",
        "  def false_positives_at_k(self, y_true, y_pred):\n",
        "    prediction_tensor = self._get_prediction_tensor(y_pred=y_pred)\n",
        "    true_positive = K.sum(tf.multiply(prediction_tensor, y_true))\n",
        "    c2 = K.sum(prediction_tensor)  # TP + FP\n",
        "    false_positive = c2 - true_positive\n",
        "    return false_positive\n",
        "\n",
        "  def false_negatives_at_k(self, y_true, y_pred):\n",
        "    prediction_tensor = self._get_prediction_tensor(y_pred=y_pred)\n",
        "    true_positive = K.sum(tf.multiply(prediction_tensor, y_true))\n",
        "    c3 = K.sum(y_true)  # TP + FN\n",
        "    false_negative = c3 - true_positive\n",
        "    return false_negative\n",
        "\n",
        "  def precision_at_k(self, y_true, y_pred):\n",
        "    prediction_tensor = self._get_prediction_tensor(y_pred=y_pred)\n",
        "    true_positive = K.sum(tf.multiply(prediction_tensor, y_true))\n",
        "    c2 = K.sum(prediction_tensor)  # TP + FP\n",
        "    return true_positive/(c2+K.epsilon())\n",
        "\n",
        "  def recall_at_k(self, y_true, y_pred):\n",
        "    prediction_tensor = self._get_prediction_tensor(y_pred=y_pred)\n",
        "    true_positive = K.sum(tf.multiply(prediction_tensor, y_true))\n",
        "    c3 = K.sum(y_true)  # TP + FN\n",
        "    return true_positive/(c3+K.epsilon())\n",
        "\n",
        "  def f1_at_k(self, y_true, y_pred):\n",
        "    precision = self.precision_at_k(y_true=y_true, y_pred=y_pred)\n",
        "    recall = self.recall_at_k(y_true=y_true, y_pred=y_pred)\n",
        "    f1 = (2*precision*recall)/(precision+recall+K.epsilon())\n",
        "    return f1\n",
        "\n",
        "metrics = MetricsAtTopK(k=5)\n",
        "\n",
        "def load_model(x_train, num_classes):\n",
        "\n",
        "  model = Sequential()\n",
        "  model.add(Conv2D(8, (5, 5), padding='same', \n",
        "                   input_shape=x_train.shape[1:]))\n",
        "  model.add(Activation('relu'))\n",
        "  model.add(BatchNormalization(axis=-1))\n",
        "  model.add(MaxPooling2D(pool_size=(2, 2)))\t\n",
        "\n",
        "  model.add(Conv2D(16, (3, 3), padding=\"same\"))\n",
        "  model.add(Activation(\"relu\"))\n",
        "  model.add(BatchNormalization(axis=-1))\n",
        "  model.add(MaxPooling2D(pool_size=(2, 2)))\n",
        "\n",
        "  model.add(Conv2D(16, (3, 3), padding=\"same\"))\n",
        "  model.add(Activation(\"relu\"))\n",
        "  model.add(BatchNormalization(axis=-1))\n",
        "  model.add(MaxPooling2D(pool_size=(2, 2)))\n",
        "  \n",
        "  model.add(Conv2D(32, (3, 3), padding=\"same\"))\n",
        "  model.add(Activation(\"relu\"))\n",
        "  model.add(BatchNormalization(axis=-1))\n",
        "  model.add(MaxPooling2D(pool_size=(2, 2)))\n",
        "  \n",
        "  model.add(Conv2D(32, (3, 3), padding=\"same\"))\n",
        "  model.add(Activation(\"relu\"))\n",
        "  model.add(BatchNormalization(axis=-1))\n",
        "  model.add(MaxPooling2D(pool_size=(2, 2)))\n",
        "\n",
        "  model.add(Flatten())\n",
        "\n",
        "  model.add(Dense(128))\n",
        "  model.add(Activation(\"relu\"))\n",
        "  model.add(BatchNormalization())\n",
        "  model.add(Dropout(0.3))\n",
        "\n",
        "  model.add(Dense(128))\n",
        "  model.add(Activation(\"relu\"))\n",
        "  model.add(BatchNormalization())\n",
        "  model.add(Dropout(0.5))\n",
        " \n",
        "\t# softmax classifier\n",
        "  model.add(Dense(num_classes))\n",
        "  model.add(Activation(\"softmax\"))\n",
        "\n",
        "  # initiate Adam optimizer\n",
        "  opt = Adam(learning_rate=1e-3, decay=1e-3/32)\n",
        "\n",
        "  # Let's train the model using Adam\n",
        "  model.compile(loss='categorical_crossentropy',\n",
        "                optimizer=opt,\n",
        "                metrics=['accuracy',\n",
        "                #tf.keras.metrics.CategoricalAccuracy(),\n",
        "                metrics.recall_at_k,\n",
        "                metrics.precision_at_k,\n",
        "                metrics.f1_at_k])\n",
        "  \n",
        "  return model"
      ],
      "execution_count": 0,
      "outputs": []
    },
    {
      "cell_type": "code",
      "metadata": {
        "id": "ZwYuK81baUQa",
        "colab_type": "code",
        "colab": {}
      },
      "source": [
        "model = load_model(x_train=x_train, num_classes=num_classes)"
      ],
      "execution_count": 0,
      "outputs": []
    },
    {
      "cell_type": "code",
      "metadata": {
        "id": "vXC20-4seUjx",
        "colab_type": "code",
        "colab": {
          "base_uri": "https://localhost:8080/",
          "height": 1000
        },
        "outputId": "20953f68-9bc1-44a1-af67-8328cb80d805"
      },
      "source": [
        "model.summary()"
      ],
      "execution_count": 28,
      "outputs": [
        {
          "output_type": "stream",
          "text": [
            "Model: \"sequential\"\n",
            "_________________________________________________________________\n",
            "Layer (type)                 Output Shape              Param #   \n",
            "=================================================================\n",
            "conv2d (Conv2D)              (None, 32, 32, 8)         608       \n",
            "_________________________________________________________________\n",
            "activation (Activation)      (None, 32, 32, 8)         0         \n",
            "_________________________________________________________________\n",
            "batch_normalization (BatchNo (None, 32, 32, 8)         32        \n",
            "_________________________________________________________________\n",
            "max_pooling2d (MaxPooling2D) (None, 16, 16, 8)         0         \n",
            "_________________________________________________________________\n",
            "conv2d_1 (Conv2D)            (None, 16, 16, 16)        1168      \n",
            "_________________________________________________________________\n",
            "activation_1 (Activation)    (None, 16, 16, 16)        0         \n",
            "_________________________________________________________________\n",
            "batch_normalization_1 (Batch (None, 16, 16, 16)        64        \n",
            "_________________________________________________________________\n",
            "max_pooling2d_1 (MaxPooling2 (None, 8, 8, 16)          0         \n",
            "_________________________________________________________________\n",
            "conv2d_2 (Conv2D)            (None, 8, 8, 16)          2320      \n",
            "_________________________________________________________________\n",
            "activation_2 (Activation)    (None, 8, 8, 16)          0         \n",
            "_________________________________________________________________\n",
            "batch_normalization_2 (Batch (None, 8, 8, 16)          64        \n",
            "_________________________________________________________________\n",
            "max_pooling2d_2 (MaxPooling2 (None, 4, 4, 16)          0         \n",
            "_________________________________________________________________\n",
            "conv2d_3 (Conv2D)            (None, 4, 4, 32)          4640      \n",
            "_________________________________________________________________\n",
            "activation_3 (Activation)    (None, 4, 4, 32)          0         \n",
            "_________________________________________________________________\n",
            "batch_normalization_3 (Batch (None, 4, 4, 32)          128       \n",
            "_________________________________________________________________\n",
            "max_pooling2d_3 (MaxPooling2 (None, 2, 2, 32)          0         \n",
            "_________________________________________________________________\n",
            "conv2d_4 (Conv2D)            (None, 2, 2, 32)          9248      \n",
            "_________________________________________________________________\n",
            "activation_4 (Activation)    (None, 2, 2, 32)          0         \n",
            "_________________________________________________________________\n",
            "batch_normalization_4 (Batch (None, 2, 2, 32)          128       \n",
            "_________________________________________________________________\n",
            "max_pooling2d_4 (MaxPooling2 (None, 1, 1, 32)          0         \n",
            "_________________________________________________________________\n",
            "flatten (Flatten)            (None, 32)                0         \n",
            "_________________________________________________________________\n",
            "dense (Dense)                (None, 128)               4224      \n",
            "_________________________________________________________________\n",
            "activation_5 (Activation)    (None, 128)               0         \n",
            "_________________________________________________________________\n",
            "batch_normalization_5 (Batch (None, 128)               512       \n",
            "_________________________________________________________________\n",
            "dropout (Dropout)            (None, 128)               0         \n",
            "_________________________________________________________________\n",
            "dense_1 (Dense)              (None, 128)               16512     \n",
            "_________________________________________________________________\n",
            "activation_6 (Activation)    (None, 128)               0         \n",
            "_________________________________________________________________\n",
            "batch_normalization_6 (Batch (None, 128)               512       \n",
            "_________________________________________________________________\n",
            "dropout_1 (Dropout)          (None, 128)               0         \n",
            "_________________________________________________________________\n",
            "dense_2 (Dense)              (None, 43)                5547      \n",
            "_________________________________________________________________\n",
            "activation_7 (Activation)    (None, 43)                0         \n",
            "=================================================================\n",
            "Total params: 45,707\n",
            "Trainable params: 44,987\n",
            "Non-trainable params: 720\n",
            "_________________________________________________________________\n"
          ],
          "name": "stdout"
        }
      ]
    },
    {
      "cell_type": "markdown",
      "metadata": {
        "id": "u7qmDnZg4yQx",
        "colab_type": "text"
      },
      "source": [
        "### Пути назад уже нет!"
      ]
    },
    {
      "cell_type": "code",
      "metadata": {
        "id": "FPGapNYYV8Nk",
        "colab_type": "code",
        "colab": {
          "base_uri": "https://localhost:8080/",
          "height": 401
        },
        "outputId": "c8a11179-f07b-4fc9-c52b-57074a76e375"
      },
      "source": [
        "#reducing learning rate if model is on plateau\n",
        "reduce_lr = tf.keras.callbacks.ReduceLROnPlateau(monitor='val_loss', \n",
        "                                                         factor=0.2,\n",
        "                                                         patience=5, \n",
        "                                                         min_lr=1e-5)\n",
        "\n",
        "# This will do preprocessing and realtime data augmentation:\n",
        "datagen = ImageDataGenerator(\n",
        "          rotation_range=10,\n",
        "          zoom_range=0.3,\n",
        "\t        width_shift_range=0.1,\n",
        "\t        height_shift_range=0.1,\n",
        "\t        shear_range=0.15,\n",
        "\t        horizontal_flip=False,\n",
        "\t        vertical_flip=False,\n",
        "\t        fill_mode=\"nearest\")\n",
        "\n",
        "#datagen.fit(x_train)\n",
        "\n",
        "H = model.fit_generator(datagen.flow(x_train, y_train,\n",
        "                                      batch_size=64),\n",
        "                          epochs=10, \n",
        "                          #class_weight=class_weights,\n",
        "                          steps_per_epoch=x_train.shape[0]//64,\n",
        "                          validation_data=(x_test, y_test),\n",
        "                          callbacks=[reduce_lr],verbose=1)"
      ],
      "execution_count": 29,
      "outputs": [
        {
          "output_type": "stream",
          "text": [
            "Epoch 1/10\n",
            "612/612 [==============================] - 68s 111ms/step - loss: 3.0480 - accuracy: 0.2078 - recall_at_k: 0.5197 - precision_at_k: 0.1039 - f1_at_k: 0.1732 - val_loss: 1.7409 - val_accuracy: 0.4136 - val_recall_at_k: 0.8357 - val_precision_at_k: 0.1671 - val_f1_at_k: 0.2786\n",
            "Epoch 2/10\n",
            "612/612 [==============================] - 68s 110ms/step - loss: 1.7898 - accuracy: 0.4227 - recall_at_k: 0.8139 - precision_at_k: 0.1628 - f1_at_k: 0.2713 - val_loss: 1.3442 - val_accuracy: 0.5384 - val_recall_at_k: 0.9009 - val_precision_at_k: 0.1802 - val_f1_at_k: 0.3003\n",
            "Epoch 3/10\n",
            "612/612 [==============================] - 68s 110ms/step - loss: 1.3500 - accuracy: 0.5532 - recall_at_k: 0.9019 - precision_at_k: 0.1804 - f1_at_k: 0.3006 - val_loss: 1.0766 - val_accuracy: 0.6311 - val_recall_at_k: 0.9394 - val_precision_at_k: 0.1879 - val_f1_at_k: 0.3131\n",
            "Epoch 4/10\n",
            "612/612 [==============================] - 67s 110ms/step - loss: 1.0804 - accuracy: 0.6470 - recall_at_k: 0.9375 - precision_at_k: 0.1875 - f1_at_k: 0.3125 - val_loss: 0.7605 - val_accuracy: 0.7566 - val_recall_at_k: 0.9644 - val_precision_at_k: 0.1929 - val_f1_at_k: 0.3215\n",
            "Epoch 5/10\n",
            "612/612 [==============================] - 67s 110ms/step - loss: 0.8890 - accuracy: 0.7064 - recall_at_k: 0.9586 - precision_at_k: 0.1917 - f1_at_k: 0.3195 - val_loss: 0.7210 - val_accuracy: 0.7609 - val_recall_at_k: 0.9682 - val_precision_at_k: 0.1936 - val_f1_at_k: 0.3227\n",
            "Epoch 6/10\n",
            "612/612 [==============================] - 68s 111ms/step - loss: 0.7764 - accuracy: 0.7461 - recall_at_k: 0.9654 - precision_at_k: 0.1931 - f1_at_k: 0.3218 - val_loss: 0.6033 - val_accuracy: 0.7998 - val_recall_at_k: 0.9785 - val_precision_at_k: 0.1957 - val_f1_at_k: 0.3262\n",
            "Epoch 7/10\n",
            "612/612 [==============================] - 67s 110ms/step - loss: 0.6860 - accuracy: 0.7784 - recall_at_k: 0.9739 - precision_at_k: 0.1948 - f1_at_k: 0.3246 - val_loss: 0.5658 - val_accuracy: 0.8172 - val_recall_at_k: 0.9754 - val_precision_at_k: 0.1951 - val_f1_at_k: 0.3251\n",
            "Epoch 8/10\n",
            "612/612 [==============================] - 71s 116ms/step - loss: 0.6088 - accuracy: 0.8071 - recall_at_k: 0.9782 - precision_at_k: 0.1956 - f1_at_k: 0.3261 - val_loss: 0.4895 - val_accuracy: 0.8444 - val_recall_at_k: 0.9808 - val_precision_at_k: 0.1962 - val_f1_at_k: 0.3269\n",
            "Epoch 9/10\n",
            "612/612 [==============================] - 69s 112ms/step - loss: 0.5698 - accuracy: 0.8157 - recall_at_k: 0.9799 - precision_at_k: 0.1960 - f1_at_k: 0.3266 - val_loss: 0.3939 - val_accuracy: 0.8785 - val_recall_at_k: 0.9856 - val_precision_at_k: 0.1971 - val_f1_at_k: 0.3285\n",
            "Epoch 10/10\n",
            "612/612 [==============================] - 68s 111ms/step - loss: 0.5275 - accuracy: 0.8313 - recall_at_k: 0.9828 - precision_at_k: 0.1966 - f1_at_k: 0.3276 - val_loss: 0.5535 - val_accuracy: 0.8247 - val_recall_at_k: 0.9833 - val_precision_at_k: 0.1967 - val_f1_at_k: 0.3278\n"
          ],
          "name": "stdout"
        }
      ]
    },
    {
      "cell_type": "code",
      "metadata": {
        "id": "svzlIOFnbJpx",
        "colab_type": "code",
        "colab": {
          "base_uri": "https://localhost:8080/",
          "height": 926
        },
        "outputId": "71649b97-63b6-4c28-baf5-a78127d22ee2"
      },
      "source": [
        "# Score trained model.\n",
        "y_pred = model.predict(x_test,batch_size=batch_size)\n",
        "print(classification_report(np.argmax(y_test,axis=-1),\n",
        "\t                          np.argmax(y_pred,axis=-1)))"
      ],
      "execution_count": 30,
      "outputs": [
        {
          "output_type": "stream",
          "text": [
            "              precision    recall  f1-score   support\n",
            "\n",
            "           0       0.30      0.90      0.45        60\n",
            "           1       0.96      0.82      0.89       720\n",
            "           2       0.89      0.72      0.80       750\n",
            "           3       0.58      0.92      0.71       450\n",
            "           4       0.94      0.84      0.89       660\n",
            "           5       0.70      0.69      0.70       630\n",
            "           6       0.94      0.87      0.90       150\n",
            "           7       0.98      0.76      0.86       450\n",
            "           8       0.83      0.86      0.85       450\n",
            "           9       0.93      0.87      0.90       480\n",
            "          10       0.83      0.99      0.91       660\n",
            "          11       0.77      0.94      0.85       420\n",
            "          12       0.99      0.94      0.97       690\n",
            "          13       0.99      0.97      0.98       720\n",
            "          14       0.81      1.00      0.90       270\n",
            "          15       0.99      0.70      0.82       210\n",
            "          16       0.90      0.91      0.91       150\n",
            "          17       0.95      0.92      0.93       360\n",
            "          18       0.78      0.82      0.80       390\n",
            "          19       0.82      0.30      0.44        60\n",
            "          20       0.30      0.59      0.40        90\n",
            "          21       0.66      0.49      0.56        90\n",
            "          22       0.93      0.65      0.76       120\n",
            "          23       0.60      0.63      0.61       150\n",
            "          24       0.45      0.10      0.16        90\n",
            "          25       0.64      0.97      0.77       480\n",
            "          26       0.90      0.41      0.56       180\n",
            "          27       0.32      0.75      0.45        60\n",
            "          28       0.76      0.49      0.60       150\n",
            "          29       0.80      0.39      0.52        90\n",
            "          30       0.92      0.07      0.14       150\n",
            "          31       0.90      0.97      0.94       270\n",
            "          32       1.00      0.90      0.95        60\n",
            "          33       0.59      1.00      0.74       210\n",
            "          34       0.94      0.95      0.95       120\n",
            "          35       1.00      0.69      0.82       390\n",
            "          36       0.94      0.96      0.95       120\n",
            "          37       0.90      0.47      0.62        60\n",
            "          38       1.00      0.92      0.96       690\n",
            "          39       0.78      0.96      0.86        90\n",
            "          40       0.69      0.80      0.74        90\n",
            "          41       0.62      0.75      0.68        60\n",
            "          42       0.85      0.56      0.67        90\n",
            "\n",
            "    accuracy                           0.82     12630\n",
            "   macro avg       0.80      0.75      0.74     12630\n",
            "weighted avg       0.86      0.82      0.82     12630\n",
            "\n"
          ],
          "name": "stdout"
        }
      ]
    },
    {
      "cell_type": "markdown",
      "metadata": {
        "id": "h2YgCUPqhl9r",
        "colab_type": "text"
      },
      "source": [
        "### Теперь показываем сети веса каждого класса для улучшения recall"
      ]
    },
    {
      "cell_type": "code",
      "metadata": {
        "id": "0tRlIE1vRYsB",
        "colab_type": "code",
        "colab": {
          "base_uri": "https://localhost:8080/",
          "height": 765
        },
        "outputId": "952fd115-6957-4345-edd7-c9f56d8fbf36"
      },
      "source": [
        "H1 = model.fit_generator(datagen.flow(x_train, y_train,\n",
        "                                      batch_size=64),\n",
        "                          epochs=20, \n",
        "                          class_weight=class_weights,\n",
        "                          steps_per_epoch=x_train.shape[0]//64,\n",
        "                          validation_data=(x_test, y_test),\n",
        "                          callbacks=[reduce_lr],verbose=1)"
      ],
      "execution_count": 31,
      "outputs": [
        {
          "output_type": "stream",
          "text": [
            "Epoch 1/20\n",
            "612/612 [==============================] - 67s 110ms/step - loss: 0.6912 - accuracy: 0.8073 - recall_at_k: 0.9785 - precision_at_k: 0.1957 - f1_at_k: 0.3262 - val_loss: 0.4863 - val_accuracy: 0.8457 - val_recall_at_k: 0.9838 - val_precision_at_k: 0.1968 - val_f1_at_k: 0.3279\n",
            "Epoch 2/20\n",
            "612/612 [==============================] - 68s 111ms/step - loss: 0.5941 - accuracy: 0.8188 - recall_at_k: 0.9794 - precision_at_k: 0.1959 - f1_at_k: 0.3265 - val_loss: 0.7396 - val_accuracy: 0.7892 - val_recall_at_k: 0.9689 - val_precision_at_k: 0.1938 - val_f1_at_k: 0.3230\n",
            "Epoch 3/20\n",
            "612/612 [==============================] - 68s 111ms/step - loss: 0.5581 - accuracy: 0.8279 - recall_at_k: 0.9818 - precision_at_k: 0.1964 - f1_at_k: 0.3273 - val_loss: 0.3822 - val_accuracy: 0.8788 - val_recall_at_k: 0.9886 - val_precision_at_k: 0.1977 - val_f1_at_k: 0.3295\n",
            "Epoch 4/20\n",
            "612/612 [==============================] - 68s 111ms/step - loss: 0.5122 - accuracy: 0.8364 - recall_at_k: 0.9832 - precision_at_k: 0.1966 - f1_at_k: 0.3277 - val_loss: 0.3920 - val_accuracy: 0.8777 - val_recall_at_k: 0.9875 - val_precision_at_k: 0.1975 - val_f1_at_k: 0.3292\n",
            "Epoch 5/20\n",
            "612/612 [==============================] - 69s 112ms/step - loss: 0.4877 - accuracy: 0.8456 - recall_at_k: 0.9845 - precision_at_k: 0.1969 - f1_at_k: 0.3282 - val_loss: 0.4069 - val_accuracy: 0.8712 - val_recall_at_k: 0.9861 - val_precision_at_k: 0.1972 - val_f1_at_k: 0.3287\n",
            "Epoch 6/20\n",
            "612/612 [==============================] - 69s 112ms/step - loss: 0.4722 - accuracy: 0.8437 - recall_at_k: 0.9843 - precision_at_k: 0.1969 - f1_at_k: 0.3281 - val_loss: 0.4958 - val_accuracy: 0.8522 - val_recall_at_k: 0.9857 - val_precision_at_k: 0.1971 - val_f1_at_k: 0.3286\n",
            "Epoch 7/20\n",
            "612/612 [==============================] - 69s 113ms/step - loss: 0.4494 - accuracy: 0.8506 - recall_at_k: 0.9866 - precision_at_k: 0.1973 - f1_at_k: 0.3289 - val_loss: 0.4153 - val_accuracy: 0.8693 - val_recall_at_k: 0.9873 - val_precision_at_k: 0.1975 - val_f1_at_k: 0.3291\n",
            "Epoch 8/20\n",
            "612/612 [==============================] - 69s 113ms/step - loss: 0.4281 - accuracy: 0.8542 - recall_at_k: 0.9870 - precision_at_k: 0.1974 - f1_at_k: 0.3290 - val_loss: 0.3472 - val_accuracy: 0.8965 - val_recall_at_k: 0.9898 - val_precision_at_k: 0.1980 - val_f1_at_k: 0.3299\n",
            "Epoch 9/20\n",
            "612/612 [==============================] - 68s 111ms/step - loss: 0.4141 - accuracy: 0.8578 - recall_at_k: 0.9877 - precision_at_k: 0.1975 - f1_at_k: 0.3292 - val_loss: 0.3495 - val_accuracy: 0.8944 - val_recall_at_k: 0.9905 - val_precision_at_k: 0.1981 - val_f1_at_k: 0.3302\n",
            "Epoch 10/20\n",
            "612/612 [==============================] - 67s 110ms/step - loss: 0.4068 - accuracy: 0.8617 - recall_at_k: 0.9876 - precision_at_k: 0.1975 - f1_at_k: 0.3292 - val_loss: 0.4622 - val_accuracy: 0.8621 - val_recall_at_k: 0.9834 - val_precision_at_k: 0.1967 - val_f1_at_k: 0.3278\n",
            "Epoch 11/20\n",
            "612/612 [==============================] - 67s 110ms/step - loss: 0.3893 - accuracy: 0.8647 - recall_at_k: 0.9893 - precision_at_k: 0.1979 - f1_at_k: 0.3298 - val_loss: 0.3819 - val_accuracy: 0.8835 - val_recall_at_k: 0.9880 - val_precision_at_k: 0.1976 - val_f1_at_k: 0.3293\n",
            "Epoch 12/20\n",
            "612/612 [==============================] - 67s 110ms/step - loss: 0.3904 - accuracy: 0.8661 - recall_at_k: 0.9885 - precision_at_k: 0.1977 - f1_at_k: 0.3295 - val_loss: 0.3359 - val_accuracy: 0.8971 - val_recall_at_k: 0.9890 - val_precision_at_k: 0.1978 - val_f1_at_k: 0.3297\n",
            "Epoch 13/20\n",
            "612/612 [==============================] - 67s 110ms/step - loss: 0.3559 - accuracy: 0.8746 - recall_at_k: 0.9899 - precision_at_k: 0.1980 - f1_at_k: 0.3300 - val_loss: 0.4071 - val_accuracy: 0.8827 - val_recall_at_k: 0.9894 - val_precision_at_k: 0.1979 - val_f1_at_k: 0.3298\n",
            "Epoch 14/20\n",
            "612/612 [==============================] - 68s 111ms/step - loss: 0.3584 - accuracy: 0.8740 - recall_at_k: 0.9887 - precision_at_k: 0.1977 - f1_at_k: 0.3296 - val_loss: 0.3353 - val_accuracy: 0.9031 - val_recall_at_k: 0.9886 - val_precision_at_k: 0.1977 - val_f1_at_k: 0.3295\n",
            "Epoch 15/20\n",
            "612/612 [==============================] - 67s 110ms/step - loss: 0.3514 - accuracy: 0.8761 - recall_at_k: 0.9899 - precision_at_k: 0.1980 - f1_at_k: 0.3300 - val_loss: 0.2811 - val_accuracy: 0.9167 - val_recall_at_k: 0.9915 - val_precision_at_k: 0.1983 - val_f1_at_k: 0.3305\n",
            "Epoch 16/20\n",
            "612/612 [==============================] - 67s 110ms/step - loss: 0.3297 - accuracy: 0.8818 - recall_at_k: 0.9905 - precision_at_k: 0.1981 - f1_at_k: 0.3302 - val_loss: 0.3123 - val_accuracy: 0.9015 - val_recall_at_k: 0.9905 - val_precision_at_k: 0.1981 - val_f1_at_k: 0.3302\n",
            "Epoch 17/20\n",
            "612/612 [==============================] - 67s 110ms/step - loss: 0.3263 - accuracy: 0.8837 - recall_at_k: 0.9901 - precision_at_k: 0.1980 - f1_at_k: 0.3300 - val_loss: 0.2900 - val_accuracy: 0.9107 - val_recall_at_k: 0.9936 - val_precision_at_k: 0.1987 - val_f1_at_k: 0.3312\n",
            "Epoch 18/20\n",
            "612/612 [==============================] - 68s 111ms/step - loss: 0.3435 - accuracy: 0.8795 - recall_at_k: 0.9897 - precision_at_k: 0.1979 - f1_at_k: 0.3299 - val_loss: 0.2616 - val_accuracy: 0.9226 - val_recall_at_k: 0.9912 - val_precision_at_k: 0.1982 - val_f1_at_k: 0.3304\n",
            "Epoch 19/20\n",
            "612/612 [==============================] - 67s 110ms/step - loss: 0.3197 - accuracy: 0.8852 - recall_at_k: 0.9904 - precision_at_k: 0.1981 - f1_at_k: 0.3301 - val_loss: 0.2770 - val_accuracy: 0.9151 - val_recall_at_k: 0.9934 - val_precision_at_k: 0.1987 - val_f1_at_k: 0.3311\n",
            "Epoch 20/20\n",
            "612/612 [==============================] - 67s 110ms/step - loss: 0.3093 - accuracy: 0.8870 - recall_at_k: 0.9915 - precision_at_k: 0.1983 - f1_at_k: 0.3305 - val_loss: 0.2895 - val_accuracy: 0.9152 - val_recall_at_k: 0.9905 - val_precision_at_k: 0.1981 - val_f1_at_k: 0.3302\n"
          ],
          "name": "stdout"
        }
      ]
    },
    {
      "cell_type": "code",
      "metadata": {
        "id": "GZYsWIToUJ8a",
        "colab_type": "code",
        "colab": {
          "base_uri": "https://localhost:8080/",
          "height": 926
        },
        "outputId": "2f1f1a24-2d2c-4c87-cf42-dda783359547"
      },
      "source": [
        "# Score trained model.\n",
        "y_pred = model.predict(x_test,batch_size=batch_size)\n",
        "print(classification_report(np.argmax(y_test,axis=-1),\n",
        "\t                          np.argmax(y_pred,axis=-1)))"
      ],
      "execution_count": 35,
      "outputs": [
        {
          "output_type": "stream",
          "text": [
            "              precision    recall  f1-score   support\n",
            "\n",
            "           0       0.71      0.97      0.82        60\n",
            "           1       0.98      0.87      0.92       720\n",
            "           2       0.81      0.95      0.88       750\n",
            "           3       0.94      0.86      0.90       450\n",
            "           4       0.99      0.94      0.97       660\n",
            "           5       0.83      0.85      0.84       630\n",
            "           6       0.95      0.97      0.96       150\n",
            "           7       0.93      0.94      0.93       450\n",
            "           8       0.89      0.92      0.91       450\n",
            "           9       1.00      0.96      0.98       480\n",
            "          10       0.99      0.96      0.98       660\n",
            "          11       0.96      0.87      0.91       420\n",
            "          12       0.98      0.95      0.96       690\n",
            "          13       0.99      0.98      0.99       720\n",
            "          14       1.00      0.99      0.99       270\n",
            "          15       0.93      0.96      0.95       210\n",
            "          16       0.91      0.99      0.95       150\n",
            "          17       1.00      0.91      0.95       360\n",
            "          18       0.99      0.72      0.83       390\n",
            "          19       0.63      0.77      0.69        60\n",
            "          20       0.66      0.98      0.79        90\n",
            "          21       0.65      0.61      0.63        90\n",
            "          22       1.00      0.71      0.83       120\n",
            "          23       0.77      0.95      0.85       150\n",
            "          24       0.84      0.96      0.90        90\n",
            "          25       0.94      0.95      0.95       480\n",
            "          26       0.81      0.82      0.81       180\n",
            "          27       0.52      0.85      0.65        60\n",
            "          28       0.80      0.99      0.88       150\n",
            "          29       0.81      0.91      0.86        90\n",
            "          30       0.70      0.79      0.74       150\n",
            "          31       0.96      0.95      0.96       270\n",
            "          32       0.92      0.98      0.95        60\n",
            "          33       0.95      0.88      0.91       210\n",
            "          34       0.78      1.00      0.88       120\n",
            "          35       1.00      0.86      0.92       390\n",
            "          36       0.92      0.97      0.95       120\n",
            "          37       0.84      0.93      0.88        60\n",
            "          38       0.99      0.97      0.98       690\n",
            "          39       0.77      0.99      0.86        90\n",
            "          40       0.74      0.97      0.84        90\n",
            "          41       0.71      0.93      0.81        60\n",
            "          42       0.81      0.63      0.71        90\n",
            "\n",
            "    accuracy                           0.92     12630\n",
            "   macro avg       0.87      0.90      0.88     12630\n",
            "weighted avg       0.92      0.92      0.92     12630\n",
            "\n"
          ],
          "name": "stdout"
        }
      ]
    },
    {
      "cell_type": "markdown",
      "metadata": {
        "id": "pBndCbjVpURM",
        "colab_type": "text"
      },
      "source": [
        "### Да свершится предначертанное (на графике)"
      ]
    },
    {
      "cell_type": "code",
      "metadata": {
        "id": "sDfiZvu7qKdv",
        "colab_type": "code",
        "colab": {
          "base_uri": "https://localhost:8080/",
          "height": 373
        },
        "outputId": "2ca47440-219b-4c48-c5d6-32e59d5fb0a8"
      },
      "source": [
        "%matplotlib inline\n",
        "\n",
        "epochs = np.arange(len(H.epoch)+len(H1.epoch))\n",
        "history = dict()\n",
        "for key in H.history.keys():\n",
        "  history[key]=np.concatenate((H.history[key], H1.history[key]))\n",
        "\n",
        "sns.set()\n",
        "plt.figure(figsize=(10,5))\n",
        "plt.plot(epochs, history[\"loss\"], label=\"train_loss\")\n",
        "plt.plot(epochs, history[\"val_loss\"], label=\"validation loss\")\n",
        "plt.plot(epochs, history[\"accuracy\"], label=\"accuracy\")\n",
        "plt.plot(epochs, history[\"val_accuracy\"], label=\"validation accuracy\")\n",
        "plt.title(\"Training Loss and Accuracy on Dataset\")\n",
        "plt.xlabel(\"Epoch #\")\n",
        "plt.ylabel(\"Loss/F1\")\n",
        "plt.legend(loc=\"upper right\")"
      ],
      "execution_count": 36,
      "outputs": [
        {
          "output_type": "execute_result",
          "data": {
            "text/plain": [
              "<matplotlib.legend.Legend at 0x7fd906d034a8>"
            ]
          },
          "metadata": {
            "tags": []
          },
          "execution_count": 36
        },
        {
          "output_type": "display_data",
          "data": {
            "image/png": "[encoded data removed]",
            "text/plain": [
              "<Figure size 720x360 with 1 Axes>"
            ]
          },
          "metadata": {
            "tags": []
          }
        }
      ]
    },
    {
      "cell_type": "markdown",
      "metadata": {
        "id": "x2zgozgsokg7",
        "colab_type": "text"
      },
      "source": [
        "### **Выводы:** Loss снижен почти до нуля за 30 эпох. Сеть даёт очень хорошие показатели по всем метрикам."
      ]
    },
    {
      "cell_type": "markdown",
      "metadata": {
        "id": "V2dxQid3hRtB",
        "colab_type": "text"
      },
      "source": [
        "## Сеть с встроенным дескриптором (Dumb MLP + Descriptor Augmentation)"
      ]
    },
    {
      "cell_type": "code",
      "metadata": {
        "id": "wHyM2RjEhQ23",
        "colab_type": "code",
        "colab": {}
      },
      "source": [
        "from tensorflow.keras.layers import Lambda\n",
        "import imgaug as ia\n",
        "import imgaug.augmenters as iaa\n",
        "\n",
        "def load_desc_model(height, num_classes):\n",
        "  \n",
        "  model = Sequential()\n",
        "  model.add(Dense(64,input_shape=(height,)))\n",
        "  model.add(Activation('relu'))\n",
        "  model.add(BatchNormalization())\n",
        "\n",
        "  model.add(Dense(64))\n",
        "  model.add(Activation(\"relu\"))\n",
        "  model.add(BatchNormalization())\n",
        "  model.add(Dropout(0.3))\n",
        "\n",
        "  model.add(Dense(128))\n",
        "  model.add(Activation(\"relu\"))\n",
        "  model.add(BatchNormalization())\n",
        "  model.add(Dropout(0.5))\n",
        "\n",
        "  model.add(Dense(128))\n",
        "  model.add(Activation(\"relu\"))\n",
        "  model.add(BatchNormalization())\n",
        "  model.add(Dropout(0.3))\n",
        "\n",
        "  model.add(Dense(256))\n",
        "  model.add(Activation(\"relu\"))\n",
        "  model.add(BatchNormalization())\n",
        "  model.add(Dropout(0.5))\n",
        " \n",
        "\t# softmax classifier\n",
        "  model.add(Dense(num_classes))\n",
        "  model.add(Activation(\"softmax\"))\n",
        "\n",
        "  # initiate Adam optimizer\n",
        "  opt = Adam(learning_rate=1e-3, decay=1e-3/32)\n",
        "\n",
        "  # Let's train the model using Adam\n",
        "  model.compile(loss='categorical_crossentropy',\n",
        "                optimizer=opt,\n",
        "                metrics=['accuracy'])\n",
        "                #tf.keras.metrics.CategoricalAccuracy(),\n",
        "                \n",
        "  \n",
        "  return model\n"
      ],
      "execution_count": 0,
      "outputs": []
    },
    {
      "cell_type": "code",
      "metadata": {
        "id": "-EmJ3Wdjojoi",
        "colab_type": "code",
        "colab": {
          "base_uri": "https://localhost:8080/",
          "height": 926
        },
        "outputId": "08980c76-f21c-4e1a-f0a2-2bbc49e0b304"
      },
      "source": [
        "height = 256\n",
        "model_desc = load_desc_model(height=height,\n",
        "                             num_classes=num_classes)\n",
        "model_desc.summary()"
      ],
      "execution_count": 160,
      "outputs": [
        {
          "output_type": "stream",
          "text": [
            "Model: \"sequential_19\"\n",
            "_________________________________________________________________\n",
            "Layer (type)                 Output Shape              Param #   \n",
            "=================================================================\n",
            "dense_48 (Dense)             (None, 64)                16448     \n",
            "_________________________________________________________________\n",
            "activation_64 (Activation)   (None, 64)                0         \n",
            "_________________________________________________________________\n",
            "batch_normalization_46 (Batc (None, 64)                256       \n",
            "_________________________________________________________________\n",
            "dense_49 (Dense)             (None, 64)                4160      \n",
            "_________________________________________________________________\n",
            "activation_65 (Activation)   (None, 64)                0         \n",
            "_________________________________________________________________\n",
            "batch_normalization_47 (Batc (None, 64)                256       \n",
            "_________________________________________________________________\n",
            "dropout_30 (Dropout)         (None, 64)                0         \n",
            "_________________________________________________________________\n",
            "dense_50 (Dense)             (None, 128)               8320      \n",
            "_________________________________________________________________\n",
            "activation_66 (Activation)   (None, 128)               0         \n",
            "_________________________________________________________________\n",
            "batch_normalization_48 (Batc (None, 128)               512       \n",
            "_________________________________________________________________\n",
            "dropout_31 (Dropout)         (None, 128)               0         \n",
            "_________________________________________________________________\n",
            "dense_51 (Dense)             (None, 128)               16512     \n",
            "_________________________________________________________________\n",
            "activation_67 (Activation)   (None, 128)               0         \n",
            "_________________________________________________________________\n",
            "batch_normalization_49 (Batc (None, 128)               512       \n",
            "_________________________________________________________________\n",
            "dropout_32 (Dropout)         (None, 128)               0         \n",
            "_________________________________________________________________\n",
            "dense_52 (Dense)             (None, 256)               33024     \n",
            "_________________________________________________________________\n",
            "activation_68 (Activation)   (None, 256)               0         \n",
            "_________________________________________________________________\n",
            "batch_normalization_50 (Batc (None, 256)               1024      \n",
            "_________________________________________________________________\n",
            "dropout_33 (Dropout)         (None, 256)               0         \n",
            "_________________________________________________________________\n",
            "dense_53 (Dense)             (None, 43)                11051     \n",
            "_________________________________________________________________\n",
            "activation_69 (Activation)   (None, 43)                0         \n",
            "=================================================================\n",
            "Total params: 92,075\n",
            "Trainable params: 90,795\n",
            "Non-trainable params: 1,280\n",
            "_________________________________________________________________\n"
          ],
          "name": "stdout"
        }
      ]
    },
    {
      "cell_type": "markdown",
      "metadata": {
        "id": "h6VSLTK4pBoN",
        "colab_type": "text"
      },
      "source": [
        "### Воспользуемся тренировкой на бэтчах, которые будем аугментировать и получать ключевые точки \"на лету\""
      ]
    },
    {
      "cell_type": "code",
      "metadata": {
        "id": "RzUn0FWkVxck",
        "colab_type": "code",
        "colab": {}
      },
      "source": [
        "seq = iaa.Sequential([\n",
        "    iaa.Crop(percent=(0, 0.1)),\n",
        "    iaa.Affine(\n",
        "        scale={\"x\": (0.8, 1.2), \"y\": (0.8, 1.2)},\n",
        "        translate_percent={\"x\": (-0.2, 0.2), \"y\": (-0.2, 0.2)},\n",
        "        rotate=(-25, 25),\n",
        "        shear=(-8, 8)\n",
        "    )\n",
        "], random_order=True) # apply augmenters in random order"
      ],
      "execution_count": 0,
      "outputs": []
    },
    {
      "cell_type": "markdown",
      "metadata": {
        "id": "91mTE5NK3m76",
        "colab_type": "text"
      },
      "source": [
        "### Ключевые точки и вычисление дескрипторов берем cледующим образом"
      ]
    },
    {
      "cell_type": "code",
      "metadata": {
        "id": "wGFCShR-F3MY",
        "colab_type": "code",
        "colab": {}
      },
      "source": [
        "def get_key_pts(algorithm,img):\n",
        "    gray = cv2.cvtColor(img,cv2.COLOR_RGB2GRAY)\n",
        "    gray*=255\n",
        "    gray=gray.astype('uint8')\n",
        "    _, descr = algorithm(gray,None)\n",
        "    return descr.flatten().astype('float32')\n",
        "\n",
        "def to_same_dims(array, dim):\n",
        "  kp = np.zeros([len(array),dim])\n",
        "  for i,j in enumerate(array):\n",
        "      if len(j)>dim:\n",
        "        kp[i][0:dim] = j[0:dim]\n",
        "      else:\n",
        "        kp[i][0:len(j)] = j\n",
        "  return kp"
      ],
      "execution_count": 0,
      "outputs": []
    },
    {
      "cell_type": "code",
      "metadata": {
        "id": "ooBivbBwp8Au",
        "colab_type": "code",
        "colab": {}
      },
      "source": [
        "def keypoint_generator(features, labels, batch_size, crop, algorithm):\n",
        "  batch_features = []\n",
        "  batch_labels = []\n",
        "  while True:\n",
        "    indexes = np.random.choice(features.shape[0], batch_size)\n",
        "    img_batch = [features[i] for i in indexes]\n",
        "    images_aug = seq(images=img_batch)\n",
        "    batch_features = [get_key_pts(algorithm, img)/255.0\n",
        "                        for img in images_aug]\n",
        "    batch_features = to_same_dims(batch_features, crop)\n",
        "    batch_labels = np.array([labels[i] for i in indexes])\n",
        "    yield batch_features, batch_labels"
      ],
      "execution_count": 0,
      "outputs": []
    },
    {
      "cell_type": "markdown",
      "metadata": {
        "id": "FNNWAubb3uBh",
        "colab_type": "text"
      },
      "source": [
        "### Наш выбор дескриптора - в пользу SIFT. SURF и AKAZE не справился с большинством тренировочного датасета"
      ]
    },
    {
      "cell_type": "code",
      "metadata": {
        "id": "gR7yP8Wd3VWb",
        "colab_type": "code",
        "colab": {}
      },
      "source": [
        "x_test_desc = []\n",
        "\n",
        "for img in x_test:\n",
        "  des = get_key_pts(descriptors['sift'], img)\n",
        "  des/=255.0\n",
        "  x_test_desc.append(des)\n",
        "\n",
        "x_test_desc = to_same_dims(x_test_desc, 256)"
      ],
      "execution_count": 0,
      "outputs": []
    },
    {
      "cell_type": "code",
      "metadata": {
        "id": "260A7IAo1kjb",
        "colab_type": "code",
        "colab": {
          "base_uri": "https://localhost:8080/",
          "height": 765
        },
        "outputId": "4e8ba7df-0604-4b22-c6bb-5feddac5e294"
      },
      "source": [
        "H_des = model_desc.fit_generator(keypoint_generator(x_train, y_train,\n",
        "                                      batch_size=64, crop=256,\n",
        "                                      algorithm=descriptors['sift']),\n",
        "                          epochs=20, \n",
        "                          class_weight=class_weights,\n",
        "                          steps_per_epoch=x_train.shape[0]//64,\n",
        "                          validation_data=(x_test_desc, y_test),\n",
        "                          callbacks=[reduce_lr],verbose=1)"
      ],
      "execution_count": 161,
      "outputs": [
        {
          "output_type": "stream",
          "text": [
            "Epoch 1/20\n",
            "612/612 [==============================] - 125s 204ms/step - loss: 4.3931 - accuracy: 0.0219 - val_loss: 3.8038 - val_accuracy: 0.0205\n",
            "Epoch 2/20\n",
            "612/612 [==============================] - 123s 201ms/step - loss: 3.8582 - accuracy: 0.0240 - val_loss: 3.7017 - val_accuracy: 0.0330\n",
            "Epoch 3/20\n",
            "612/612 [==============================] - 123s 201ms/step - loss: 3.7316 - accuracy: 0.0280 - val_loss: 3.6885 - val_accuracy: 0.0255\n",
            "Epoch 4/20\n",
            "612/612 [==============================] - 122s 200ms/step - loss: 3.7079 - accuracy: 0.0306 - val_loss: 3.6493 - val_accuracy: 0.0353\n",
            "Epoch 5/20\n",
            "612/612 [==============================] - 122s 200ms/step - loss: 3.6116 - accuracy: 0.0335 - val_loss: 3.5894 - val_accuracy: 0.0447\n",
            "Epoch 6/20\n",
            "612/612 [==============================] - 122s 199ms/step - loss: 3.5800 - accuracy: 0.0375 - val_loss: 3.5974 - val_accuracy: 0.0357\n",
            "Epoch 7/20\n",
            "612/612 [==============================] - 121s 198ms/step - loss: 3.5367 - accuracy: 0.0430 - val_loss: 3.6140 - val_accuracy: 0.0472\n",
            "Epoch 8/20\n",
            "612/612 [==============================] - 122s 199ms/step - loss: 3.5016 - accuracy: 0.0468 - val_loss: 3.6039 - val_accuracy: 0.0445\n",
            "Epoch 9/20\n",
            "612/612 [==============================] - 121s 198ms/step - loss: 3.5268 - accuracy: 0.0443 - val_loss: 3.5904 - val_accuracy: 0.0565\n",
            "Epoch 10/20\n",
            "612/612 [==============================] - 121s 198ms/step - loss: 3.4608 - accuracy: 0.0482 - val_loss: 3.5580 - val_accuracy: 0.0432\n",
            "Epoch 11/20\n",
            "612/612 [==============================] - 121s 197ms/step - loss: 3.4279 - accuracy: 0.0517 - val_loss: 3.5293 - val_accuracy: 0.0426\n",
            "Epoch 12/20\n",
            "612/612 [==============================] - 121s 198ms/step - loss: 3.4844 - accuracy: 0.0484 - val_loss: 3.5290 - val_accuracy: 0.0562\n",
            "Epoch 13/20\n",
            "612/612 [==============================] - 121s 198ms/step - loss: 3.4363 - accuracy: 0.0470 - val_loss: 3.5299 - val_accuracy: 0.0567\n",
            "Epoch 14/20\n",
            "612/612 [==============================] - 121s 198ms/step - loss: 3.4029 - accuracy: 0.0599 - val_loss: 3.5513 - val_accuracy: 0.0659\n",
            "Epoch 15/20\n",
            "612/612 [==============================] - 122s 199ms/step - loss: 3.3892 - accuracy: 0.0585 - val_loss: 3.4984 - val_accuracy: 0.0685\n",
            "Epoch 16/20\n",
            "612/612 [==============================] - 120s 197ms/step - loss: 3.4259 - accuracy: 0.0579 - val_loss: 3.5818 - val_accuracy: 0.0501\n",
            "Epoch 17/20\n",
            "612/612 [==============================] - 120s 196ms/step - loss: 3.3924 - accuracy: 0.0552 - val_loss: 3.5104 - val_accuracy: 0.0413\n",
            "Epoch 18/20\n",
            "612/612 [==============================] - 121s 198ms/step - loss: 3.3836 - accuracy: 0.0593 - val_loss: 3.5118 - val_accuracy: 0.0495\n",
            "Epoch 19/20\n",
            "612/612 [==============================] - 120s 196ms/step - loss: 3.3893 - accuracy: 0.0599 - val_loss: 3.5111 - val_accuracy: 0.0450\n",
            "Epoch 20/20\n",
            "612/612 [==============================] - 120s 197ms/step - loss: 3.3680 - accuracy: 0.0642 - val_loss: 3.5046 - val_accuracy: 0.0557\n"
          ],
          "name": "stdout"
        }
      ]
    },
    {
      "cell_type": "code",
      "metadata": {
        "id": "PpO3bKOA5HUx",
        "colab_type": "code",
        "colab": {
          "base_uri": "https://localhost:8080/",
          "height": 983
        },
        "outputId": "4f89e2c8-bd84-4f3b-a962-b0f95e0ebf80"
      },
      "source": [
        "y_pred = model_desc.predict(x_test_desc,batch_size=batch_size)\n",
        "print(classification_report(np.argmax(y_test,axis=-1),\n",
        "\t                          np.argmax(y_pred,axis=-1)))"
      ],
      "execution_count": 164,
      "outputs": [
        {
          "output_type": "stream",
          "text": [
            "              precision    recall  f1-score   support\n",
            "\n",
            "           0       0.00      0.00      0.00        60\n",
            "           1       0.15      0.15      0.15       720\n",
            "           2       0.28      0.02      0.04       750\n",
            "           3       0.00      0.00      0.00       450\n",
            "           4       0.13      0.06      0.08       660\n",
            "           5       0.21      0.07      0.11       630\n",
            "           6       0.32      0.44      0.37       150\n",
            "           7       0.10      0.05      0.06       450\n",
            "           8       0.09      0.02      0.03       450\n",
            "           9       0.09      0.03      0.05       480\n",
            "          10       1.00      0.00      0.00       660\n",
            "          11       0.00      0.00      0.00       420\n",
            "          12       0.07      0.02      0.03       690\n",
            "          13       0.01      0.00      0.00       720\n",
            "          14       0.11      0.13      0.12       270\n",
            "          15       0.07      0.24      0.11       210\n",
            "          16       0.08      0.11      0.09       150\n",
            "          17       0.05      0.02      0.03       360\n",
            "          18       0.07      0.05      0.06       390\n",
            "          19       0.25      0.03      0.06        60\n",
            "          20       0.00      0.00      0.00        90\n",
            "          21       0.00      0.00      0.00        90\n",
            "          22       0.00      0.00      0.00       120\n",
            "          23       0.00      0.00      0.00       150\n",
            "          24       0.00      0.00      0.00        90\n",
            "          25       0.09      0.06      0.08       480\n",
            "          26       0.00      0.00      0.00       180\n",
            "          27       0.01      0.33      0.02        60\n",
            "          28       0.02      0.30      0.04       150\n",
            "          29       0.00      0.00      0.00        90\n",
            "          30       0.00      0.00      0.00       150\n",
            "          31       0.10      0.01      0.03       270\n",
            "          32       0.05      0.20      0.08        60\n",
            "          33       0.07      0.12      0.09       210\n",
            "          34       0.11      0.30      0.16       120\n",
            "          35       0.10      0.02      0.03       390\n",
            "          36       0.04      0.03      0.04       120\n",
            "          37       0.01      0.12      0.02        60\n",
            "          38       0.24      0.05      0.09       690\n",
            "          39       0.00      0.00      0.00        90\n",
            "          40       0.01      0.10      0.02        90\n",
            "          41       0.03      0.10      0.05        60\n",
            "          42       0.00      0.00      0.00        90\n",
            "\n",
            "    accuracy                           0.06     12630\n",
            "   macro avg       0.09      0.07      0.05     12630\n",
            "weighted avg       0.15      0.06      0.05     12630\n",
            "\n"
          ],
          "name": "stdout"
        },
        {
          "output_type": "stream",
          "text": [
            "/usr/local/lib/python3.6/dist-packages/sklearn/metrics/classification.py:1437: UndefinedMetricWarning: Precision and F-score are ill-defined and being set to 0.0 in labels with no predicted samples.\n",
            "  'precision', 'predicted', average, warn_for)\n"
          ],
          "name": "stderr"
        }
      ]
    },
    {
      "cell_type": "markdown",
      "metadata": {
        "id": "DOa7eff5L4Gw",
        "colab_type": "text"
      },
      "source": [
        "### Изобразим на графике изменения метрик"
      ]
    },
    {
      "cell_type": "code",
      "metadata": {
        "id": "y3g5oJq8MEtK",
        "colab_type": "code",
        "colab": {
          "base_uri": "https://localhost:8080/",
          "height": 373
        },
        "outputId": "f184c35e-1372-4304-85bb-85aa8f7fd4c2"
      },
      "source": [
        "sns.set()\n",
        "epochs = np.arange(20)\n",
        "plt.figure(figsize=(10,5))\n",
        "plt.plot(epochs, H_des.history[\"loss\"], label=\"train_loss\")\n",
        "plt.plot(epochs, H_des.history[\"val_loss\"], label=\"validation loss\")\n",
        "plt.plot(epochs, H_des.history[\"accuracy\"], label=\"accuracy\")\n",
        "plt.plot(epochs, H_des.history[\"val_accuracy\"], label=\"validation accuracy\")\n",
        "plt.title(\"Training Loss and Accuracy on Dataset\")\n",
        "plt.xlabel(\"Epoch #\")\n",
        "plt.ylabel(\"Loss/Accuracy\")\n",
        "plt.legend(loc=\"upper right\")"
      ],
      "execution_count": 165,
      "outputs": [
        {
          "output_type": "execute_result",
          "data": {
            "text/plain": [
              "<matplotlib.legend.Legend at 0x7fd8cb4026a0>"
            ]
          },
          "metadata": {
            "tags": []
          },
          "execution_count": 165
        },
        {
          "output_type": "display_data",
          "data": {
            "image/png": "[encoded data removed]",
            "text/plain": [
              "<Figure size 720x360 with 1 Axes>"
            ]
          },
          "metadata": {
            "tags": []
          }
        }
      ]
    },
    {
      "cell_type": "markdown",
      "metadata": {
        "id": "0AD43RUfIa33",
        "colab_type": "text"
      },
      "source": [
        "### **Выводы:** выражаясь словами классика: \"Это фиаско, братан!\". Сеть-дескриптор обучается значительно медленнее, чем сверточная сеть, достигает худших показателей метрик за равное количество эпох."
      ]
    }
  ]
}